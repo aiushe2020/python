{
 "metadata": {
  "language_info": {
   "codemirror_mode": {
    "name": "ipython",
    "version": 3
   },
   "file_extension": ".py",
   "mimetype": "text/x-python",
   "name": "python",
   "nbconvert_exporter": "python",
   "pygments_lexer": "ipython3",
   "version": "3.9.5"
  },
  "orig_nbformat": 4,
  "kernelspec": {
   "name": "python3",
   "display_name": "Python 3.9.5 64-bit"
  },
  "interpreter": {
   "hash": "247ab06e135bb35fa78c5eff31b2a9a0050dcb5fb773c2631d2a29ac689eeccb"
  }
 },
 "nbformat": 4,
 "nbformat_minor": 2,
 "cells": [
  {
   "cell_type": "code",
   "execution_count": 5,
   "metadata": {},
   "outputs": [
    {
     "output_type": "stream",
     "name": "stdout",
     "text": [
      "john\n"
     ]
    }
   ],
   "source": [
    "class person:\n",
    "    def __init__(self,name,age):\n",
    "     self.fname = name\n",
    "     self.fage  = age\n",
    "\n",
    "harry = person(\"john\", 22)\n",
    "print(harry.fname)"
   ]
  },
  {
   "cell_type": "code",
   "execution_count": 1,
   "metadata": {},
   "outputs": [
    {
     "output_type": "stream",
     "name": "stdout",
     "text": [
      "Harry\n10\n"
     ]
    }
   ],
   "source": [
    "class student:\n",
    "    def __init__(self,name,roll):\n",
    "        self.sname = name\n",
    "        self.sroll = roll\n",
    "s1 = student(\"Harry\",10)\n",
    "print(s1.sname)\n",
    "print(s1.sroll)"
   ]
  },
  {
   "cell_type": "code",
   "execution_count": 3,
   "metadata": {},
   "outputs": [
    {
     "output_type": "execute_result",
     "data": {
      "text/plain": [
       "'His name is John Smith and age is 23'"
      ]
     },
     "metadata": {},
     "execution_count": 3
    }
   ],
   "source": [
    "class person:\n",
    "    def __init__(self,name,age):\n",
    "        self.aname = name\n",
    "        self.aage = age\n",
    "    def myfunc(self):\n",
    "        return f\"His name is {self.aname} and age is {self.aage}\"\n",
    "name1 = person(\"John Smith\", 23)\n",
    "name1.myfunc()\n"
   ]
  },
  {
   "cell_type": "code",
   "execution_count": 1,
   "metadata": {},
   "outputs": [
    {
     "output_type": "execute_result",
     "data": {
      "text/plain": [
       "'His name is John Smith and age is 23'"
      ]
     },
     "metadata": {},
     "execution_count": 1
    }
   ],
   "source": [
    "class person:\n",
    "    def __init__(mysillyobj,name,age):\n",
    "        mysillyobj.name1 = name\n",
    "        mysillyobj.age1 = age\n",
    "    def myfunc(abc):\n",
    "        return f\"His name is {abc.name1} and age is {abc.age1}\"\n",
    "nam = person(\"John Smith\", 23)\n",
    "nam.myfunc()"
   ]
  },
  {
   "cell_type": "code",
   "execution_count": 2,
   "metadata": {},
   "outputs": [
    {
     "output_type": "stream",
     "name": "stdout",
     "text": [
      "30\n"
     ]
    }
   ],
   "source": [
    "nam.age1 = 30\n",
    "print(nam.age1)"
   ]
  },
  {
   "source": [
    "class person:\n",
    "    def __init__(self,fname,lname):\n",
    "        self.firstname = fname\n",
    "        self.lastname = lname\n",
    "    def details(self):\n",
    "        print(f\"his full name is {self.firstname} {self.lastname}\")\n",
    "name1 = person(\"John\",\"Smith\")\n",
    "name1.details()"
   ],
   "cell_type": "code",
   "metadata": {},
   "execution_count": 3,
   "outputs": [
    {
     "output_type": "stream",
     "name": "stdout",
     "text": [
      "his full name is John Smith\n"
     ]
    }
   ]
  },
  {
   "cell_type": "code",
   "execution_count": 4,
   "metadata": {},
   "outputs": [
    {
     "output_type": "execute_result",
     "data": {
      "text/plain": [
       "'his full name is mike olson'"
      ]
     },
     "metadata": {},
     "execution_count": 4
    }
   ],
   "source": [
    "class person:\n",
    "    def __init__(self,fname,lname):\n",
    "        self.firstname = fname\n",
    "        self.lastname = lname\n",
    "    def myfunc(self):\n",
    "        return f\"his full name is {self.firstname} {self.lastname}\"\n",
    "class employee(person):\n",
    "    pass\n",
    "name1 = employee(\"mike\",\"olson\")\n",
    "name1.myfunc()"
   ]
  },
  {
   "cell_type": "code",
   "execution_count": 12,
   "metadata": {},
   "outputs": [
    {
     "output_type": "stream",
     "name": "stdout",
     "text": [
      "william smith\n"
     ]
    }
   ],
   "source": [
    "class person:\n",
    "    def __init__(self,fname,lname):\n",
    "        self.firstname = fname\n",
    "        self.lastname = lname\n",
    "   \n",
    "    def printdet(self):\n",
    "        print(self.firstname, self.lastname)\n",
    "\n",
    "class student(person):\n",
    "    def __init__(self, fname, lname):\n",
    "      person.__init__(self, fname, lname)\n",
    "\n",
    "name1 = student(\"william\",\"smith\")\n",
    "name1.printdet()\n"
   ]
  },
  {
   "cell_type": "code",
   "execution_count": 10,
   "metadata": {},
   "outputs": [
    {
     "output_type": "stream",
     "name": "stdout",
     "text": [
      "mike olson\n"
     ]
    }
   ],
   "source": [
    "class person:\n",
    "    def __init__(self,fname,lname):\n",
    "        self.firstname = fname\n",
    "        self.lastname = lname\n",
    "\n",
    "    def printdetails(self):\n",
    "       print(self.firstname, self.lastname)\n",
    "\n",
    "class student(person):\n",
    "    def __init__(self, fname, lname):\n",
    "      person.__init__(self, fname, lname)\n",
    "x = student(\"mike\",\"olson\")\n",
    "x.printdetails()\n"
   ]
  },
  {
   "cell_type": "code",
   "execution_count": 15,
   "metadata": {},
   "outputs": [
    {
     "output_type": "execute_result",
     "data": {
      "text/plain": [
       "'his full name is william smith'"
      ]
     },
     "metadata": {},
     "execution_count": 15
    }
   ],
   "source": [
    "class person:\n",
    "    def __init__(self,fname,lname):\n",
    "        self.firstname= fname\n",
    "        self.lastname = lname\n",
    "    def printdet(self):\n",
    "        return f\"his full name is {self.firstname} {self.lastname}\"\n",
    "\n",
    "class student(person):\n",
    "    def __init__(self, fname, lname):\n",
    "       super().__init__(fname,lname)\n",
    "\n",
    "nam = student(\"william\",\"smith\")\n",
    "nam.printdet()\n"
   ]
  },
  {
   "cell_type": "code",
   "execution_count": 16,
   "metadata": {},
   "outputs": [
    {
     "output_type": "stream",
     "name": "stdout",
     "text": [
      "2019\n"
     ]
    }
   ],
   "source": [
    "class person:\n",
    "    def __init__(self, fname, lname):\n",
    "        self.firstname = fname\n",
    "        self.lastname = lname\n",
    "    def details(self):\n",
    "        return f\"his full name is {self.firstname} {self.lastname}\"\n",
    "\n",
    "class employee(person):\n",
    "    def __init__(self, fname,lname):\n",
    "        super().__init__(fname,lname)\n",
    "        self.graduationyear = 2019\n",
    "\n",
    "nam = employee(\"john\",\"will\")\n",
    "print(nam.graduationyear)"
   ]
  },
  {
   "cell_type": "code",
   "execution_count": 22,
   "metadata": {},
   "outputs": [
    {
     "output_type": "execute_result",
     "data": {
      "text/plain": [
       "'his full name is john smith'"
      ]
     },
     "metadata": {},
     "execution_count": 22
    }
   ],
   "source": [
    "class employee(person):\n",
    "    def __init__(self,fname,lname,year):\n",
    "        super().__init__(fname,lname)\n",
    "        self.graduationyear = year\n",
    "\n",
    "nam = employee(\"john\",\"smith\",2020)\n",
    "nam.details()"
   ]
  },
  {
   "cell_type": "code",
   "execution_count": 26,
   "metadata": {},
   "outputs": [
    {
     "output_type": "execute_result",
     "data": {
      "text/plain": [
       "'welcome Mr.will smith to our college in 2020'"
      ]
     },
     "metadata": {},
     "execution_count": 26
    }
   ],
   "source": [
    "class person:\n",
    "    def __init__(self,fname,lname):\n",
    "        self.firstname = fname\n",
    "        self.lastname = lname\n",
    "    def myname(self):\n",
    "        print(self.firstname, self.lastname)\n",
    "class student(person):\n",
    "    def __init__(self,fname,lname,year):\n",
    "        super().__init__(fname,lname)\n",
    "        self.graduationyear = year\n",
    "    def myfunc(self):\n",
    "        return f\"welcome Mr.{self.firstname} {self.lastname} to our college in {self.graduationyear}\"\n",
    "\n",
    "name1 = student(\"will\",\"smith\",2020)\n",
    "name1.myfunc()"
   ]
  },
  {
   "cell_type": "code",
   "execution_count": 28,
   "metadata": {},
   "outputs": [
    {
     "output_type": "stream",
     "name": "stdout",
     "text": [
      "kola\npepe\n"
     ]
    }
   ],
   "source": [
    "mytuple = (\"kola\",\"pepe\",\"kochu\")\n",
    "myit = iter(mytuple)\n",
    "print(next(myit))\n",
    "print(next(myit))\n"
   ]
  },
  {
   "cell_type": "code",
   "execution_count": 31,
   "metadata": {},
   "outputs": [
    {
     "output_type": "stream",
     "name": "stdout",
     "text": [
      "b\na\n"
     ]
    }
   ],
   "source": [
    "mystr = \"banana\"\n",
    "myit = iter(mystr)\n",
    "print(next(myit))\n",
    "print(next(myit))"
   ]
  },
  {
   "cell_type": "code",
   "execution_count": 33,
   "metadata": {},
   "outputs": [
    {
     "output_type": "stream",
     "name": "stdout",
     "text": [
      "2\n4\n6\n8\n"
     ]
    }
   ],
   "source": [
    "class mynumbers:\n",
    "    def __iter__(self):\n",
    "        self.a = 2\n",
    "        return self\n",
    "    def __next__(self):\n",
    "        x = self.a\n",
    "        self.a += 2\n",
    "        return x\n",
    "myclass = mynumbers()\n",
    "myitr = iter(myclass)\n",
    "\n",
    "print(next(myitr))\n",
    "print(next(myitr))\n",
    "print(next(myitr))\n",
    "print(next(myitr))"
   ]
  },
  {
   "cell_type": "code",
   "execution_count": 36,
   "metadata": {},
   "outputs": [
    {
     "output_type": "stream",
     "name": "stdout",
     "text": [
      "7\n9\n11\n13\n15\n17\n19\n21\n23\n25\n"
     ]
    }
   ],
   "source": [
    "class mynumbers:\n",
    "    def __iter__(self):\n",
    "        self.a = 7\n",
    "        return self\n",
    "    def __next__(self):\n",
    "        if self.a <= 25:\n",
    "            x = self.a\n",
    "            self.a += 2\n",
    "            return x\n",
    "        else:\n",
    "            raise StopIteration\n",
    "\n",
    "myclass = mynumbers()\n",
    "myitr = iter(myclass)\n",
    "for x in myitr:\n",
    "    print(x)"
   ]
  },
  {
   "cell_type": "code",
   "execution_count": 37,
   "metadata": {},
   "outputs": [
    {
     "output_type": "stream",
     "name": "stdout",
     "text": [
      "450\n350\n"
     ]
    }
   ],
   "source": [
    "x = 350\n",
    "def myfunc():\n",
    "    x = 450\n",
    "    print(x)\n",
    "myfunc()\n",
    "\n",
    "print(x)"
   ]
  },
  {
   "cell_type": "code",
   "execution_count": 46,
   "metadata": {},
   "outputs": [
    {
     "output_type": "stream",
     "name": "stdout",
     "text": [
      "456\n"
     ]
    }
   ],
   "source": [
    "def myfunc():\n",
    "    global x\n",
    "    x = 456\n",
    "myfunc()\n",
    "print(x)"
   ]
  },
  {
   "cell_type": "code",
   "execution_count": 48,
   "metadata": {},
   "outputs": [
    {
     "output_type": "stream",
     "name": "stdout",
     "text": [
      "150\n"
     ]
    }
   ],
   "source": [
    "x = 250\n",
    "def myfunc():\n",
    "     global x\n",
    "     x = 150\n",
    "myfunc()\n",
    "print(x)"
   ]
  },
  {
   "cell_type": "code",
   "execution_count": 50,
   "metadata": {},
   "outputs": [
    {
     "output_type": "stream",
     "name": "stdout",
     "text": [
      "Windows\n"
     ]
    }
   ],
   "source": [
    "import platform\n",
    "x = platform.system()\n",
    "print(x)"
   ]
  },
  {
   "cell_type": "code",
   "execution_count": 51,
   "metadata": {},
   "outputs": [
    {
     "output_type": "stream",
     "name": "stdout",
     "text": [
      "['_Processor', '_WIN32_CLIENT_RELEASES', '_WIN32_SERVER_RELEASES', '__builtins__', '__cached__', '__copyright__', '__doc__', '__file__', '__loader__', '__name__', '__package__', '__spec__', '__version__', '_comparable_version', '_component_re', '_default_architecture', '_follow_symlinks', '_get_machine_win32', '_ironpython26_sys_version_parser', '_ironpython_sys_version_parser', '_java_getprop', '_libc_search', '_mac_ver_xml', '_node', '_norm_version', '_platform', '_platform_cache', '_pypy_sys_version_parser', '_sys_version', '_sys_version_cache', '_sys_version_parser', '_syscmd_file', '_syscmd_ver', '_uname_cache', '_unknown_as_blank', '_ver_output', '_ver_stages', 'architecture', 'collections', 'functools', 'itertools', 'java_ver', 'libc_ver', 'mac_ver', 'machine', 'node', 'os', 'platform', 'processor', 'python_branch', 'python_build', 'python_compiler', 'python_implementation', 'python_revision', 'python_version', 'python_version_tuple', 're', 'release', 'subprocess', 'sys', 'system', 'system_alias', 'uname', 'uname_result', 'version', 'win32_edition', 'win32_is_iot', 'win32_ver']\n"
     ]
    }
   ],
   "source": [
    "import platform\n",
    "x = dir(platform)\n",
    "print(x)"
   ]
  },
  {
   "cell_type": "code",
   "execution_count": 6,
   "metadata": {},
   "outputs": [
    {
     "output_type": "execute_result",
     "data": {
      "text/plain": [
       "'odd'"
      ]
     },
     "metadata": {},
     "execution_count": 6
    }
   ],
   "source": [
    "even = lambda num: \"Even\" if num%2 == 0 else \"odd\"\n",
    "even(53)"
   ]
  },
  {
   "cell_type": "code",
   "execution_count": 7,
   "metadata": {},
   "outputs": [
    {
     "output_type": "execute_result",
     "data": {
      "text/plain": [
       "11"
      ]
     },
     "metadata": {},
     "execution_count": 7
    }
   ],
   "source": [
    "add = lambda a,b: a+b\n",
    "add(5,6)\n"
   ]
  },
  {
   "cell_type": "code",
   "execution_count": 8,
   "metadata": {},
   "outputs": [
    {
     "output_type": "execute_result",
     "data": {
      "text/plain": [
       "36"
      ]
     },
     "metadata": {},
     "execution_count": 8
    }
   ],
   "source": [
    "sub = lambda a,b: a-b\n",
    "sub(56,20)"
   ]
  },
  {
   "cell_type": "code",
   "execution_count": 9,
   "metadata": {},
   "outputs": [
    {
     "output_type": "execute_result",
     "data": {
      "text/plain": [
       "['odd', 'Even', 'odd', 'Even', 'odd', 'Even', 'odd']"
      ]
     },
     "metadata": {},
     "execution_count": 9
    }
   ],
   "source": [
    "list(map(even, [1,2,3,4,5,6,7]))\n"
   ]
  },
  {
   "cell_type": "code",
   "execution_count": 10,
   "metadata": {},
   "outputs": [
    {
     "output_type": "execute_result",
     "data": {
      "text/plain": [
       "[1.0, 2.0, 3.0, 4.0, 5.0, 6.0, 7.0]"
      ]
     },
     "metadata": {},
     "execution_count": 10
    }
   ],
   "source": [
    "list(map(float, [1,2,3,4,5,6,7]))"
   ]
  },
  {
   "cell_type": "code",
   "execution_count": 11,
   "metadata": {},
   "outputs": [
    {
     "output_type": "execute_result",
     "data": {
      "text/plain": [
       "(2, 4, 6)"
      ]
     },
     "metadata": {},
     "execution_count": 11
    }
   ],
   "source": [
    "even = lambda num: True if num%2 == 0 else False\n",
    "tuple(filter(even, [1,2,3,4,5,6,7]))"
   ]
  },
  {
   "cell_type": "code",
   "execution_count": 12,
   "metadata": {},
   "outputs": [
    {
     "output_type": "execute_result",
     "data": {
      "text/plain": [
       "(1, 3, 5, 7)"
      ]
     },
     "metadata": {},
     "execution_count": 12
    }
   ],
   "source": [
    "odd = lambda num: True if num%2 != 0 else False\n",
    "tuple(filter(odd, [1,2,3,4,5,6,7]))"
   ]
  },
  {
   "cell_type": "code",
   "execution_count": 14,
   "metadata": {},
   "outputs": [
    {
     "output_type": "execute_result",
     "data": {
      "text/plain": [
       "('Marrio is good',)"
      ]
     },
     "metadata": {},
     "execution_count": 14
    }
   ],
   "source": [
    "check = lambda marrio: True if \"good\" in marrio.lower() else False\n",
    "tuple(filter(check,[\"Marrio is good\", \"marrio is absent\"]))"
   ]
  },
  {
   "cell_type": "code",
   "execution_count": 25,
   "metadata": {},
   "outputs": [
    {
     "output_type": "execute_result",
     "data": {
      "text/plain": [
       "[1, 2, 3, 4, 5, 6, 7, 8, 9, 10]"
      ]
     },
     "metadata": {},
     "execution_count": 25
    }
   ],
   "source": [
    "def range1(low,up):\n",
    "    nums = []\n",
    "    for num in range(low, up + 1):\n",
    "        nums.append(num)\n",
    "    return nums\n",
    "range1(1,10)"
   ]
  },
  {
   "cell_type": "code",
   "execution_count": 34,
   "metadata": {},
   "outputs": [
    {
     "output_type": "stream",
     "name": "stdout",
     "text": [
      "pausing\n"
     ]
    },
    {
     "output_type": "execute_result",
     "data": {
      "text/plain": [
       "1"
      ]
     },
     "metadata": {},
     "execution_count": 34
    }
   ],
   "source": [
    "def range1(low, up):\n",
    "    for num in range(low, up+1):\n",
    "        print(\"pausing\")\n",
    "        yield num\n",
    "        print(\"resuming\")\n",
    "num = range1(1,10)\n",
    "next(num)\n",
    "\n"
   ]
  },
  {
   "cell_type": "code",
   "execution_count": 35,
   "metadata": {},
   "outputs": [
    {
     "output_type": "stream",
     "name": "stdout",
     "text": [
      "verifying....\nCreatimg acc...\n"
     ]
    }
   ],
   "source": [
    "def verify(function):\n",
    "    print(\"verifying....\")\n",
    "    function()\n",
    "@verify\n",
    "def create_acc():\n",
    "    print(\"Creatimg acc...\")"
   ]
  },
  {
   "cell_type": "code",
   "execution_count": 1,
   "metadata": {},
   "outputs": [
    {
     "output_type": "stream",
     "name": "stdout",
     "text": [
      "Dividing 15 by 3\n5.0\nDividing 20 by 0\nCant be divided by 0\nNone\n"
     ]
    }
   ],
   "source": [
    "\n",
    "def divide(func):\n",
    "    def inner(a,b):\n",
    "        print(\"Dividing\", a , \"by\" , b)\n",
    "        if b == 0:\n",
    "            print(\"Cant be divided by 0\")\n",
    "            return\n",
    "        return func(a,b)\n",
    "    return inner\n",
    "@divide\n",
    "def div(a,b):\n",
    "    return a/b\n",
    "\n",
    "val1 = div(15,3)\n",
    "print(val1)\n",
    "\n",
    "val2 = div(20,0)\n",
    "print(val2)\n",
    "\n"
   ]
  },
  {
   "cell_type": "code",
   "execution_count": null,
   "metadata": {},
   "outputs": [],
   "source": []
  }
 ]
}