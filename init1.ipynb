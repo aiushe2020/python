{
 "metadata": {
  "language_info": {
   "codemirror_mode": {
    "name": "ipython",
    "version": 3
   },
   "file_extension": ".py",
   "mimetype": "text/x-python",
   "name": "python",
   "nbconvert_exporter": "python",
   "pygments_lexer": "ipython3",
   "version": "3.9.5"
  },
  "orig_nbformat": 4,
  "kernelspec": {
   "name": "python3",
   "display_name": "Python 3.9.5 64-bit"
  },
  "interpreter": {
   "hash": "247ab06e135bb35fa78c5eff31b2a9a0050dcb5fb773c2631d2a29ac689eeccb"
  }
 },
 "nbformat": 4,
 "nbformat_minor": 2,
 "cells": [
  {
   "cell_type": "code",
   "execution_count": 1,
   "source": [
    "print(\"hello world!\")"
   ],
   "outputs": [
    {
     "output_type": "stream",
     "name": "stdout",
     "text": [
      "hello world!\n"
     ]
    }
   ],
   "metadata": {}
  },
  {
   "cell_type": "code",
   "execution_count": 10,
   "source": [
    "def myfunc(**name):\r\n",
    "    print(\"his last name was \" + name[\"name2\"])\r\n",
    "\r\n",
    "myfunc(name1 = \"tony\" , name2 = \"pony\")"
   ],
   "outputs": [
    {
     "output_type": "stream",
     "name": "stdout",
     "text": [
      "his last name was pony\n"
     ]
    }
   ],
   "metadata": {}
  },
  {
   "cell_type": "code",
   "execution_count": 7,
   "source": [
    "def my_function(**kid):\r\n",
    "  print(\"His last name is \" + kid[\"lname\"])\r\n",
    "\r\n",
    "my_function(fname = \"Tobias\", lname = \"Refsnes\")\r\n"
   ],
   "outputs": [
    {
     "output_type": "stream",
     "name": "stdout",
     "text": [
      "His last name is Refsnes\n"
     ]
    }
   ],
   "metadata": {}
  },
  {
   "cell_type": "code",
   "execution_count": 2,
   "source": [
    "numbers = [25,105,207,96,51,71]\r\n",
    "numbers.sort()\r\n",
    "print(numbers)"
   ],
   "outputs": [
    {
     "output_type": "stream",
     "name": "stdout",
     "text": [
      "[25, 51, 71, 96, 105, 207]\n"
     ]
    }
   ],
   "metadata": {}
  },
  {
   "cell_type": "code",
   "execution_count": 3,
   "source": [
    "fruits = [\"mangoe\",\"apple\",\"pears\",\"kola\"]\r\n",
    "fruits.sort()\r\n",
    "print(fruits)"
   ],
   "outputs": [
    {
     "output_type": "stream",
     "name": "stdout",
     "text": [
      "['apple', 'kola', 'mangoe', 'pears']\n"
     ]
    }
   ],
   "metadata": {}
  },
  {
   "cell_type": "code",
   "execution_count": 4,
   "source": [
    "list = [\"mango\",\"apple\",\"pears\",\"kola\"]\r\n",
    "list.sort(reverse= True)\r\n",
    "print(list)"
   ],
   "outputs": [
    {
     "output_type": "stream",
     "name": "stdout",
     "text": [
      "['pears', 'mango', 'kola', 'apple']\n"
     ]
    }
   ],
   "metadata": {}
  },
  {
   "cell_type": "code",
   "execution_count": 6,
   "source": [
    "list = [250,307,105,105,687]\r\n",
    "list.sort(reverse= True)\r\n",
    "print(list)"
   ],
   "outputs": [
    {
     "output_type": "stream",
     "name": "stdout",
     "text": [
      "[687, 307, 250, 105, 105]\n"
     ]
    }
   ],
   "metadata": {}
  },
  {
   "cell_type": "code",
   "execution_count": 7,
   "source": [
    "def myfunc(n):\r\n",
    "    return abs(n - 20)\r\n",
    "\r\n",
    "list = [50,25,20,80,90,150]\r\n",
    "list.sort(key= myfunc)\r\n",
    "print(list)"
   ],
   "outputs": [
    {
     "output_type": "stream",
     "name": "stdout",
     "text": [
      "[20, 25, 50, 80, 90, 150]\n"
     ]
    }
   ],
   "metadata": {}
  },
  {
   "cell_type": "code",
   "execution_count": 10,
   "source": [
    "def my_car(m):\r\n",
    "    return abs(m - 1.5)\r\n",
    "\r\n",
    "list= [5.2,0.8,6.4,7.9]\r\n",
    "list.sort(key= my_car)\r\n",
    "print(list)"
   ],
   "outputs": [
    {
     "output_type": "stream",
     "name": "stdout",
     "text": [
      "[0.8, 5.2, 6.4, 7.9]\n"
     ]
    }
   ],
   "metadata": {}
  },
  {
   "cell_type": "code",
   "execution_count": 13,
   "source": [
    "list = [\"Apple\",\"Pears\", \"kola\",\"Mula\"]\r\n",
    "list.sort(key= str.lower)\r\n",
    "print(list)"
   ],
   "outputs": [
    {
     "output_type": "stream",
     "name": "stdout",
     "text": [
      "['Apple', 'kola', 'Mula', 'Pears']\n"
     ]
    }
   ],
   "metadata": {}
  },
  {
   "cell_type": "code",
   "execution_count": 14,
   "source": [
    "list.reverse()\r\n",
    "print(list)"
   ],
   "outputs": [
    {
     "output_type": "stream",
     "name": "stdout",
     "text": [
      "['Pears', 'Mula', 'kola', 'Apple']\n"
     ]
    }
   ],
   "metadata": {}
  },
  {
   "cell_type": "code",
   "execution_count": 15,
   "source": [
    "newlist = list.copy()\r\n",
    "print(newlist)"
   ],
   "outputs": [
    {
     "output_type": "stream",
     "name": "stdout",
     "text": [
      "['Pears', 'Mula', 'kola', 'Apple']\n"
     ]
    }
   ],
   "metadata": {}
  },
  {
   "cell_type": "code",
   "execution_count": 3,
   "source": [
    "list1 = [1,2,3]\r\n",
    "list2 = [\"a\",\"b\",\"c\"]\r\n",
    "for x in list2:\r\n",
    "\r\n",
    "    list1.append(x)\r\n",
    "print(list1)"
   ],
   "outputs": [
    {
     "output_type": "stream",
     "name": "stdout",
     "text": [
      "[1, 2, 3, 'a', 'b', 'c']\n"
     ]
    }
   ],
   "metadata": {}
  },
  {
   "cell_type": "code",
   "execution_count": 19,
   "source": [
    "list1 = [\"k\", \"b\", \"c\"]\r\n",
    "list2 = [\"a\", \"t\",\"e\"]\r\n",
    "list3 = list1 + list2\r\n",
    "print(list3)"
   ],
   "outputs": [
    {
     "output_type": "stream",
     "name": "stdout",
     "text": [
      "['k', 'b', 'c', 'a', 't', 'e']\n"
     ]
    }
   ],
   "metadata": {}
  },
  {
   "cell_type": "code",
   "execution_count": 20,
   "source": [
    "list1.append(list2)\r\n",
    "print(list1)"
   ],
   "outputs": [
    {
     "output_type": "stream",
     "name": "stdout",
     "text": [
      "['k', 'b', 'c', ['a', 't', 'e']]\n"
     ]
    }
   ],
   "metadata": {}
  },
  {
   "cell_type": "code",
   "execution_count": 21,
   "source": [
    "list1.extend(list2)\r\n",
    "print(list1)"
   ],
   "outputs": [
    {
     "output_type": "stream",
     "name": "stdout",
     "text": [
      "['k', 'b', 'c', ['a', 't', 'e'], 'a', 't', 'e']\n"
     ]
    }
   ],
   "metadata": {}
  },
  {
   "cell_type": "code",
   "execution_count": 22,
   "source": [
    "list1 = [\"k\", \"b\",\"c\"]\r\n",
    "list2 = [\"a\", \"m\", \"n\"]\r\n",
    "list1.extend(list2)\r\n",
    "print(list1)"
   ],
   "outputs": [
    {
     "output_type": "stream",
     "name": "stdout",
     "text": [
      "['k', 'b', 'c', 'a', 'm', 'n']\n"
     ]
    }
   ],
   "metadata": {}
  },
  {
   "cell_type": "code",
   "execution_count": 24,
   "source": [
    "tuple = (\"apple\" , \"pears\",\"kola\", \"shosha\")\r\n",
    "print(len(tuple))"
   ],
   "outputs": [
    {
     "output_type": "stream",
     "name": "stdout",
     "text": [
      "4\n"
     ]
    }
   ],
   "metadata": {}
  },
  {
   "cell_type": "code",
   "execution_count": 27,
   "source": [
    "tuple = (\"apple\", )\r\n",
    "print(tuple)"
   ],
   "outputs": [
    {
     "output_type": "stream",
     "name": "stdout",
     "text": [
      "('apple',)\n"
     ]
    }
   ],
   "metadata": {}
  },
  {
   "cell_type": "code",
   "execution_count": 29,
   "source": [
    "tuple = (\"apple\" ,\"kola\", \"shosha\",\"aam\")\n",
    "print(tuple[2])"
   ],
   "outputs": [
    {
     "output_type": "stream",
     "name": "stdout",
     "text": [
      "shosha\n"
     ]
    }
   ],
   "metadata": {}
  },
  {
   "cell_type": "code",
   "execution_count": 30,
   "source": [
    "print(tuple[-2])"
   ],
   "outputs": [
    {
     "output_type": "stream",
     "name": "stdout",
     "text": [
      "shosha\n"
     ]
    }
   ],
   "metadata": {}
  },
  {
   "cell_type": "code",
   "execution_count": 31,
   "source": [
    "print(tuple[-3:-1])"
   ],
   "outputs": [
    {
     "output_type": "stream",
     "name": "stdout",
     "text": [
      "('kola', 'shosha')\n"
     ]
    }
   ],
   "metadata": {}
  },
  {
   "cell_type": "code",
   "execution_count": 32,
   "source": [
    "thistuple = (\"apple\", \"banana\", \"cherry\", \"orange\", \"kiwi\", \"melon\", \"mango\")\n",
    "print(thistuple[-6:-2])"
   ],
   "outputs": [
    {
     "output_type": "stream",
     "name": "stdout",
     "text": [
      "('banana', 'cherry', 'orange', 'kiwi')\n"
     ]
    }
   ],
   "metadata": {}
  },
  {
   "cell_type": "code",
   "execution_count": 33,
   "source": [
    "print(thistuple[:5])"
   ],
   "outputs": [
    {
     "output_type": "stream",
     "name": "stdout",
     "text": [
      "('apple', 'banana', 'cherry', 'orange', 'kiwi')\n"
     ]
    }
   ],
   "metadata": {}
  },
  {
   "cell_type": "code",
   "execution_count": 34,
   "source": [
    "print(thistuple[2:])"
   ],
   "outputs": [
    {
     "output_type": "stream",
     "name": "stdout",
     "text": [
      "('cherry', 'orange', 'kiwi', 'melon', 'mango')\n"
     ]
    }
   ],
   "metadata": {}
  },
  {
   "cell_type": "code",
   "execution_count": 35,
   "source": [
    "print(thistuple[1:4])"
   ],
   "outputs": [
    {
     "output_type": "stream",
     "name": "stdout",
     "text": [
      "('banana', 'cherry', 'orange')\n"
     ]
    }
   ],
   "metadata": {}
  },
  {
   "cell_type": "code",
   "execution_count": 36,
   "source": [
    "for x in thistuple:\n",
    "    print(x)"
   ],
   "outputs": [
    {
     "output_type": "stream",
     "name": "stdout",
     "text": [
      "apple\n",
      "banana\n",
      "cherry\n",
      "orange\n",
      "kiwi\n",
      "melon\n",
      "mango\n"
     ]
    }
   ],
   "metadata": {}
  },
  {
   "cell_type": "code",
   "execution_count": 37,
   "source": [
    "print(len(thistuple))"
   ],
   "outputs": [
    {
     "output_type": "stream",
     "name": "stdout",
     "text": [
      "7\n"
     ]
    }
   ],
   "metadata": {}
  },
  {
   "cell_type": "code",
   "execution_count": 4,
   "source": [
    "thistuple = (\"apple\", \"banana\", \"cherry\")\n",
    "y = list(thistuple)\n",
    "y.remove(\"apple\")\n",
    "thistuple = tuple(y)\n",
    "thistuple"
   ],
   "outputs": [
    {
     "output_type": "execute_result",
     "data": {
      "text/plain": [
       "('banana', 'cherry')"
      ]
     },
     "metadata": {},
     "execution_count": 4
    }
   ],
   "metadata": {}
  },
  {
   "cell_type": "code",
   "execution_count": 46,
   "source": [
    "fruits = (\"apple\", \"kola\", \"shoosha\")\n",
    "(red, paka, kochi) = fruits\n",
    "print(red)\n",
    "print(kochi)\n",
    "print(paka)"
   ],
   "outputs": [
    {
     "output_type": "stream",
     "name": "stdout",
     "text": [
      "apple\n",
      "shoosha\n",
      "kola\n"
     ]
    }
   ],
   "metadata": {}
  },
  {
   "cell_type": "code",
   "execution_count": 48,
   "source": [
    "fruits = (\"apple\",\"kola\",\"shosha\",\"begun\",\"morich\")\n",
    "(red, *paka, kochi) = fruits\n",
    "print(red)\n",
    "print(paka)\n",
    "print(kochi)"
   ],
   "outputs": [
    {
     "output_type": "stream",
     "name": "stdout",
     "text": [
      "apple\n",
      "['kola', 'shosha', 'begun']\n",
      "morich\n"
     ]
    }
   ],
   "metadata": {}
  },
  {
   "cell_type": "code",
   "execution_count": 50,
   "source": [
    "thistuple = (\"apple\", \"banana\", \"cherry\")\n",
    "for i in range(len(thistuple)):\n",
    "  print(thistuple[i])\n"
   ],
   "outputs": [
    {
     "output_type": "stream",
     "name": "stdout",
     "text": [
      "apple\n",
      "banana\n",
      "cherry\n"
     ]
    }
   ],
   "metadata": {}
  },
  {
   "cell_type": "code",
   "execution_count": 53,
   "source": [
    "for x in range(len(thistuple)):\n",
    "    print(thistuple[x])"
   ],
   "outputs": [
    {
     "output_type": "stream",
     "name": "stdout",
     "text": [
      "apple\n",
      "banana\n",
      "cherry\n"
     ]
    }
   ],
   "metadata": {}
  },
  {
   "cell_type": "code",
   "execution_count": 1,
   "source": [
    "tup1 = (\"a\",\"b\",\"c\")\n",
    "tup2 = (\"e\",\"f\",\"g\")\n",
    "print(tup1 + tup2)"
   ],
   "outputs": [
    {
     "output_type": "stream",
     "name": "stdout",
     "text": [
      "('a', 'b', 'c', 'e', 'f', 'g')\n"
     ]
    }
   ],
   "metadata": {}
  },
  {
   "cell_type": "code",
   "execution_count": 2,
   "source": [
    "set1 = {\"apple\",\"cherry\",\"apple\",\"kiwi\"}\n",
    "print(set1)"
   ],
   "outputs": [
    {
     "output_type": "stream",
     "name": "stdout",
     "text": [
      "{'apple', 'cherry', 'kiwi'}\n"
     ]
    }
   ],
   "metadata": {}
  },
  {
   "cell_type": "code",
   "execution_count": 3,
   "source": [
    "print(len(set1))"
   ],
   "outputs": [
    {
     "output_type": "stream",
     "name": "stdout",
     "text": [
      "3\n"
     ]
    }
   ],
   "metadata": {}
  },
  {
   "cell_type": "code",
   "execution_count": 5,
   "source": [
    "fruits = (\"apple\",\"cherry\",\"kiwi\")\n",
    "newset = set((fruits))\n",
    "print(newset)"
   ],
   "outputs": [
    {
     "output_type": "stream",
     "name": "stdout",
     "text": [
      "{'apple', 'cherry', 'kiwi'}\n"
     ]
    }
   ],
   "metadata": {}
  },
  {
   "cell_type": "code",
   "execution_count": 6,
   "source": [
    "for x in newset:\n",
    "    print(x)"
   ],
   "outputs": [
    {
     "output_type": "stream",
     "name": "stdout",
     "text": [
      "apple\n",
      "cherry\n",
      "kiwi\n"
     ]
    }
   ],
   "metadata": {}
  },
  {
   "cell_type": "code",
   "execution_count": 8,
   "source": [
    "print(\"kola\" in newset)"
   ],
   "outputs": [
    {
     "output_type": "stream",
     "name": "stdout",
     "text": [
      "False\n"
     ]
    }
   ],
   "metadata": {}
  },
  {
   "cell_type": "code",
   "execution_count": 9,
   "source": [
    "set1 = {\"a\",\"b\",\"c\"}\n",
    "set1.add(\"d\")\n",
    "print(set1)"
   ],
   "outputs": [
    {
     "output_type": "stream",
     "name": "stdout",
     "text": [
      "{'c', 'd', 'a', 'b'}\n"
     ]
    }
   ],
   "metadata": {}
  },
  {
   "cell_type": "code",
   "execution_count": 10,
   "source": [
    "set2 = {\"d\",\"e\",\"f\"}\n",
    "set1.update(set2)\n",
    "print(set1)"
   ],
   "outputs": [
    {
     "output_type": "stream",
     "name": "stdout",
     "text": [
      "{'c', 'd', 'a', 'e', 'f', 'b'}\n"
     ]
    }
   ],
   "metadata": {}
  },
  {
   "cell_type": "code",
   "execution_count": 12,
   "source": [
    "list1 = (\"apple\",\"kiwi\",\"orange\")\n",
    "set2.update(list1)\n",
    "print(set2)"
   ],
   "outputs": [
    {
     "output_type": "stream",
     "name": "stdout",
     "text": [
      "{'e', 'apple', 'orange', 'd', 'kiwi', 'f'}\n"
     ]
    }
   ],
   "metadata": {}
  },
  {
   "cell_type": "code",
   "execution_count": 15,
   "source": [
    "set2.remove(\"kiwi\")\n",
    "print(set2)"
   ],
   "outputs": [
    {
     "output_type": "stream",
     "name": "stdout",
     "text": [
      "{'e', 'apple', 'orange', 'd', 'f'}\n"
     ]
    }
   ],
   "metadata": {}
  },
  {
   "cell_type": "code",
   "execution_count": 16,
   "source": [
    "set2.discard(\"orange\")\n",
    "print(set2)"
   ],
   "outputs": [
    {
     "output_type": "stream",
     "name": "stdout",
     "text": [
      "{'e', 'apple', 'd', 'f'}\n"
     ]
    }
   ],
   "metadata": {}
  },
  {
   "cell_type": "code",
   "execution_count": 17,
   "source": [
    "ttset = {\"jan\",\"feb\",\"mar\"}\n",
    "x = ttset.pop()\n",
    "print(x)\n",
    "print(ttset)"
   ],
   "outputs": [
    {
     "output_type": "stream",
     "name": "stdout",
     "text": [
      "feb\n",
      "{'mar', 'jan'}\n"
     ]
    }
   ],
   "metadata": {}
  },
  {
   "cell_type": "code",
   "execution_count": 18,
   "source": [
    "ttset.clear()\n",
    "print(ttset)"
   ],
   "outputs": [
    {
     "output_type": "stream",
     "name": "stdout",
     "text": [
      "set()\n"
     ]
    }
   ],
   "metadata": {}
  },
  {
   "cell_type": "code",
   "execution_count": 23,
   "source": [
    "set1 = {\"a\",\"f\",\"c\"}\n",
    "set2 = {\"d\",\"f\",\"g\"}\n",
    "set3 = set1.union(set2)\n",
    "print(set3)"
   ],
   "outputs": [
    {
     "output_type": "stream",
     "name": "stdout",
     "text": [
      "{'c', 'd', 'a', 'f', 'g', 'b'}\n"
     ]
    }
   ],
   "metadata": {}
  },
  {
   "cell_type": "code",
   "execution_count": 29,
   "source": [
    "set1 = {\"a\",\"c\",\"l\"}\n",
    "set2 = {\"l\",\"p\",\"c\"}\n",
    "z = set1.intersection(set2)\n",
    "print(z)"
   ],
   "outputs": [
    {
     "output_type": "stream",
     "name": "stdout",
     "text": [
      "{'c', 'l'}\n"
     ]
    }
   ],
   "metadata": {}
  },
  {
   "cell_type": "code",
   "execution_count": 32,
   "source": [
    "set1.symmetric_difference(set2)\n",
    "print(set1)"
   ],
   "outputs": [
    {
     "output_type": "stream",
     "name": "stdout",
     "text": [
      "{'c', 'a', 'l'}\n"
     ]
    }
   ],
   "metadata": {}
  },
  {
   "cell_type": "code",
   "execution_count": 43,
   "source": [
    "thisdict = {\n",
    "    \"car\": \"Mustang\",\n",
    "    \"house\": \"white\",\n",
    "    \"vodka\" : \"monk\",\n",
    "    \"vodka\": \"blackdog\"\n",
    "}\n",
    "x = thisdict.keys()\n",
    "print(x)"
   ],
   "outputs": [
    {
     "output_type": "stream",
     "name": "stdout",
     "text": [
      "dict_keys(['car', 'house', 'vodka'])\n"
     ]
    }
   ],
   "metadata": {}
  },
  {
   "cell_type": "code",
   "execution_count": 45,
   "source": [
    "thisdict[\"class\"]= \"lily\"\r\n",
    "print(x)"
   ],
   "outputs": [
    {
     "output_type": "stream",
     "name": "stdout",
     "text": [
      "dict_keys(['car', 'house', 'vodka', 'class'])\n"
     ]
    }
   ],
   "metadata": {}
  },
  {
   "cell_type": "code",
   "execution_count": 46,
   "source": [
    "x = thisdict.values()\r\n",
    "print(x)"
   ],
   "outputs": [
    {
     "output_type": "stream",
     "name": "stdout",
     "text": [
      "dict_values(['Mustang', 'white', 'blackdog', 'lily'])\n"
     ]
    }
   ],
   "metadata": {}
  },
  {
   "cell_type": "code",
   "execution_count": 49,
   "source": [
    "thisdict[\"class\"] = \"st.martin\"\r\n",
    "print(x)"
   ],
   "outputs": [
    {
     "output_type": "stream",
     "name": "stdout",
     "text": [
      "dict_items([('car', 'Mustang'), ('house', 'white'), ('vodka', 'blackdog'), ('class', 'st.martin'), ('school', 'st.martin')])\n"
     ]
    }
   ],
   "metadata": {}
  },
  {
   "cell_type": "code",
   "execution_count": 48,
   "source": [
    "x = thisdict.items()\r\n",
    "print(x)"
   ],
   "outputs": [
    {
     "output_type": "stream",
     "name": "stdout",
     "text": [
      "dict_items([('car', 'Mustang'), ('house', 'white'), ('vodka', 'blackdog'), ('class', 'lily'), ('school', 'st.martin')])\n"
     ]
    }
   ],
   "metadata": {}
  },
  {
   "cell_type": "code",
   "execution_count": 6,
   "source": [
    "thisdict = {\r\n",
    "    \"car\": \"Mustang\",\r\n",
    "    \"house\": \"white\",\r\n",
    "    \"vodka\" : \"monk\",\r\n",
    "    \"vodka\": \"blackdog\"\r\n",
    "}\r\n",
    "x = thisdict.values()\r\n",
    "print(x)"
   ],
   "outputs": [
    {
     "output_type": "stream",
     "name": "stdout",
     "text": [
      "dict_values(['Mustang', 'white', 'blackdog'])\n"
     ]
    }
   ],
   "metadata": {}
  },
  {
   "cell_type": "code",
   "execution_count": 7,
   "source": [
    "thisdict[\"home\"] = \"sweet\"\r\n",
    "print(x)"
   ],
   "outputs": [
    {
     "output_type": "stream",
     "name": "stdout",
     "text": [
      "dict_values(['Mustang', 'white', 'blackdog', 'sweet'])\n"
     ]
    }
   ],
   "metadata": {}
  },
  {
   "cell_type": "code",
   "execution_count": 8,
   "source": [
    "x = thisdict.items()\n",
    "print(x)"
   ],
   "outputs": [
    {
     "output_type": "stream",
     "name": "stdout",
     "text": [
      "dict_items([('car', 'Mustang'), ('house', 'white'), ('vodka', 'blackdog'), ('home', 'sweet')])\n"
     ]
    }
   ],
   "metadata": {}
  },
  {
   "cell_type": "code",
   "execution_count": 9,
   "source": [
    "thisdict = {\n",
    "    \"car\": \"Mustang\",\n",
    "    \"house\": \"white\",\n",
    "    \"vodka\" : \"monk\"\n",
    "}\n",
    "x = thisdict.items()\n",
    "print(x)"
   ],
   "outputs": [
    {
     "output_type": "stream",
     "name": "stdout",
     "text": [
      "dict_items([('car', 'Mustang'), ('house', 'white'), ('vodka', 'monk')])\n"
     ]
    }
   ],
   "metadata": {}
  },
  {
   "cell_type": "code",
   "execution_count": 10,
   "source": [
    "thisdict[\"vodka\"] = \"blackdog\"\n",
    "print(x)"
   ],
   "outputs": [
    {
     "output_type": "stream",
     "name": "stdout",
     "text": [
      "dict_items([('car', 'Mustang'), ('house', 'white'), ('vodka', 'blackdog')])\n"
     ]
    }
   ],
   "metadata": {}
  },
  {
   "cell_type": "code",
   "execution_count": 14,
   "source": [
    "if \"model\" in thisdict:\n",
    "    print(\"yes house is one of the keys \")\n",
    "else:\n",
    "    print(\"no keys in such name\")"
   ],
   "outputs": [
    {
     "output_type": "stream",
     "name": "stdout",
     "text": [
      "no keys in such name\n"
     ]
    }
   ],
   "metadata": {}
  },
  {
   "cell_type": "code",
   "execution_count": 15,
   "source": [
    "thisdict[\"car\"] = \"BMW\"\n",
    "print(thisdict)"
   ],
   "outputs": [
    {
     "output_type": "stream",
     "name": "stdout",
     "text": [
      "{'car': 'BMW', 'house': 'white', 'vodka': 'blackdog'}\n"
     ]
    }
   ],
   "metadata": {}
  },
  {
   "cell_type": "code",
   "execution_count": 16,
   "source": [
    "thisdict[\"dog\"] = \"black\"\n",
    "print(thisdict)"
   ],
   "outputs": [
    {
     "output_type": "stream",
     "name": "stdout",
     "text": [
      "{'car': 'BMW', 'house': 'white', 'vodka': 'blackdog', 'dog': 'black'}\n"
     ]
    }
   ],
   "metadata": {}
  },
  {
   "cell_type": "code",
   "execution_count": 17,
   "source": [
    "thisdict = {\n",
    "    \"car\": \"Mustang\",\n",
    "    \"house\": \"white\",\n",
    "    \"vodka\" : \"monk\"\n",
    "}\n",
    "thisdict.update({\"car\": \"Lamborghini\"})\n",
    "print(thisdict)"
   ],
   "outputs": [
    {
     "output_type": "stream",
     "name": "stdout",
     "text": [
      "{'car': 'Lamborghini', 'house': 'white', 'vodka': 'monk'}\n"
     ]
    }
   ],
   "metadata": {}
  },
  {
   "cell_type": "code",
   "execution_count": 18,
   "source": [
    "thisdict.pop(\"vodka\")\n",
    "print(thisdict)"
   ],
   "outputs": [
    {
     "output_type": "stream",
     "name": "stdout",
     "text": [
      "{'car': 'Lamborghini', 'house': 'white'}\n"
     ]
    }
   ],
   "metadata": {}
  },
  {
   "cell_type": "code",
   "execution_count": 19,
   "source": [
    "thisdict.update({\"home\": \"sweet\"})\n",
    "print(thisdict)"
   ],
   "outputs": [
    {
     "output_type": "stream",
     "name": "stdout",
     "text": [
      "{'car': 'Lamborghini', 'house': 'white', 'home': 'sweet'}\n"
     ]
    }
   ],
   "metadata": {}
  },
  {
   "cell_type": "code",
   "execution_count": 21,
   "source": [
    "thisdict.popitem()\n",
    "print(thisdict)"
   ],
   "outputs": [
    {
     "output_type": "stream",
     "name": "stdout",
     "text": [
      "{'car': 'Lamborghini', 'house': 'white'}\n"
     ]
    }
   ],
   "metadata": {}
  },
  {
   "cell_type": "code",
   "execution_count": 22,
   "source": [
    "for x in thisdict:\n",
    "    print(x)"
   ],
   "outputs": [
    {
     "output_type": "stream",
     "name": "stdout",
     "text": [
      "car\n",
      "house\n"
     ]
    }
   ],
   "metadata": {}
  },
  {
   "cell_type": "code",
   "execution_count": 23,
   "source": [
    "for x in thisdict:\n",
    "    print(thisdict[x])"
   ],
   "outputs": [
    {
     "output_type": "stream",
     "name": "stdout",
     "text": [
      "Lamborghini\n",
      "white\n"
     ]
    }
   ],
   "metadata": {}
  },
  {
   "cell_type": "code",
   "execution_count": 24,
   "source": [
    "for x in thisdict.values():\n",
    "    print(x)"
   ],
   "outputs": [
    {
     "output_type": "stream",
     "name": "stdout",
     "text": [
      "Lamborghini\n",
      "white\n"
     ]
    }
   ],
   "metadata": {}
  },
  {
   "cell_type": "code",
   "execution_count": 25,
   "source": [
    "for x,y in thisdict.items():\n",
    "    print(x,y)"
   ],
   "outputs": [
    {
     "output_type": "stream",
     "name": "stdout",
     "text": [
      "car Lamborghini\n",
      "house white\n"
     ]
    }
   ],
   "metadata": {}
  },
  {
   "cell_type": "code",
   "execution_count": 26,
   "source": [
    "mydict = thisdict.copy()\r\n",
    "print(mydict)"
   ],
   "outputs": [
    {
     "output_type": "stream",
     "name": "stdout",
     "text": [
      "{'car': 'Lamborghini', 'house': 'white'}\n"
     ]
    }
   ],
   "metadata": {}
  },
  {
   "cell_type": "code",
   "execution_count": 36,
   "source": [
    "print(list(range(10,3,-2)))"
   ],
   "outputs": [
    {
     "output_type": "stream",
     "name": "stdout",
     "text": [
      "[10, 8, 6, 4]\n"
     ]
    }
   ],
   "metadata": {}
  },
  {
   "cell_type": "code",
   "execution_count": 42,
   "source": [
    "doorpass = \"opendoor@2021\"\r\n",
    "\r\n",
    "while\r\n",
    "    password = input(\"Enter the password to open door: \")\r\n",
    "    if password == doorpass:\r\n",
    "        break\r\n",
    "    else:\r\n",
    "        print(\"You have entered the wrong password\")\r\n",
    "if trial == 1:\r\n",
    "    print(\"The door has been locked\")\r\n",
    "else:\r\n",
    "        print(\"The door is open\")"
   ],
   "outputs": [
    {
     "output_type": "stream",
     "name": "stdout",
     "text": [
      "You have entered the wrong password\n",
      "You have entered the wrong password\n",
      "You have entered the wrong password\n",
      "The door has been locked\n"
     ]
    }
   ],
   "metadata": {}
  },
  {
   "cell_type": "code",
   "execution_count": 3,
   "source": [
    "a = 2\r\n",
    "b = 1\r\n",
    "if a > b:\r\n",
    " print(\"a is greater than b\")"
   ],
   "outputs": [
    {
     "output_type": "stream",
     "name": "stdout",
     "text": [
      "a is greater than b\n"
     ]
    }
   ],
   "metadata": {}
  },
  {
   "cell_type": "code",
   "execution_count": 4,
   "source": [
    "if a == b:\r\n",
    "    print(\"a is equal\")\r\n",
    "elif a > b:\r\n",
    "    print(\"a is bigr\")\r\n",
    "else:\r\n",
    "    print(\" a is smaller\")"
   ],
   "outputs": [
    {
     "output_type": "stream",
     "name": "stdout",
     "text": [
      "a is bigr\n"
     ]
    }
   ],
   "metadata": {}
  },
  {
   "cell_type": "code",
   "execution_count": 5,
   "source": [
    "print(\"A\") if a > b else print(\"B\")"
   ],
   "outputs": [
    {
     "output_type": "stream",
     "name": "stdout",
     "text": [
      "A\n"
     ]
    }
   ],
   "metadata": {}
  },
  {
   "cell_type": "code",
   "execution_count": 7,
   "source": [
    "if a > b and b < a:\n",
    "    print(\" a is greater\")"
   ],
   "outputs": [
    {
     "output_type": "stream",
     "name": "stdout",
     "text": [
      " a is greater\n"
     ]
    }
   ],
   "metadata": {}
  },
  {
   "cell_type": "code",
   "execution_count": 8,
   "source": [
    "if a > b or a == b:\n",
    "    print(\"anything\")\n",
    "else:\n",
    "    print(\"none\")"
   ],
   "outputs": [
    {
     "output_type": "stream",
     "name": "stdout",
     "text": [
      "anything\n"
     ]
    }
   ],
   "metadata": {}
  },
  {
   "cell_type": "code",
   "execution_count": 12,
   "source": [
    "a = 80\n",
    "if a > 20:\n",
    "    print(\"bigger\")\n",
    "    if a > 30:\n",
    "        print(\"also bigger\")\n",
    "        if a > 40:\n",
    "            print(\"much bigger\")\n",
    "else:\n",
    "    print(\"not bigger\")"
   ],
   "outputs": [
    {
     "output_type": "stream",
     "name": "stdout",
     "text": [
      "bigger\n",
      "also bigger\n",
      "much bigger\n"
     ]
    }
   ],
   "metadata": {}
  },
  {
   "cell_type": "code",
   "execution_count": 13,
   "source": [
    "if a > b:\n",
    "    pass"
   ],
   "outputs": [],
   "metadata": {}
  },
  {
   "cell_type": "code",
   "execution_count": 1,
   "source": [
    "i = 1\n",
    "while i < 6:\n",
    "    print(i)\n",
    "    i += 1\n",
    "else:\n",
    "    print(\"i is no longer smaller\")"
   ],
   "outputs": [
    {
     "output_type": "stream",
     "name": "stdout",
     "text": [
      "1\n",
      "2\n",
      "3\n",
      "4\n",
      "5\n",
      "i is no longer smaller\n"
     ]
    }
   ],
   "metadata": {}
  },
  {
   "cell_type": "code",
   "execution_count": 2,
   "source": [
    "i = 0\n",
    "while i < 6:\n",
    "    i += 1\n",
    "    if i == 2:\n",
    "        continue\n",
    "    print(i)"
   ],
   "outputs": [
    {
     "output_type": "stream",
     "name": "stdout",
     "text": [
      "1\n",
      "3\n",
      "4\n",
      "5\n",
      "6\n"
     ]
    }
   ],
   "metadata": {}
  },
  {
   "cell_type": "code",
   "execution_count": 22,
   "source": [
    "for x in \"banana\":\n",
    "    print(x)"
   ],
   "outputs": [
    {
     "output_type": "stream",
     "name": "stdout",
     "text": [
      "b\n",
      "a\n",
      "n\n",
      "a\n",
      "n\n",
      "a\n"
     ]
    }
   ],
   "metadata": {}
  },
  {
   "cell_type": "code",
   "execution_count": 23,
   "source": [
    "f = [\"a\",\"b\",\"c\"]\n",
    "for x in f:\n",
    "    print(x)\n",
    "    if x == \"b\":\n",
    "        break"
   ],
   "outputs": [
    {
     "output_type": "stream",
     "name": "stdout",
     "text": [
      "a\n",
      "b\n"
     ]
    }
   ],
   "metadata": {}
  },
  {
   "cell_type": "code",
   "execution_count": 24,
   "source": [
    "for x in f:\n",
    "    if x == \"b\":\n",
    "        break\n",
    "    print(x)"
   ],
   "outputs": [
    {
     "output_type": "stream",
     "name": "stdout",
     "text": [
      "a\n"
     ]
    }
   ],
   "metadata": {}
  },
  {
   "cell_type": "code",
   "execution_count": 25,
   "source": [
    "for x in f:\n",
    "    if x == \"b\":\n",
    "        continue\n",
    "    print(x)"
   ],
   "outputs": [
    {
     "output_type": "stream",
     "name": "stdout",
     "text": [
      "a\n",
      "c\n"
     ]
    }
   ],
   "metadata": {}
  },
  {
   "cell_type": "code",
   "execution_count": 29,
   "source": [
    "for x in range(6):\n",
    "    if x == 4:\n",
    "        continue\n",
    "    print(x)\n",
    "else:\n",
    "    print(\"finishes\")"
   ],
   "outputs": [
    {
     "output_type": "stream",
     "name": "stdout",
     "text": [
      "0\n",
      "1\n",
      "2\n",
      "3\n",
      "5\n",
      "finishes\n"
     ]
    }
   ],
   "metadata": {}
  },
  {
   "cell_type": "code",
   "execution_count": 30,
   "source": [
    "color = [\"red\",\"yellow\",\"raw\"]\n",
    "fruits = [\"apple\",\"cherry\",\"orange\"]\n",
    "for x in color:\n",
    "    for y in fruits:\n",
    "        print(x,y)"
   ],
   "outputs": [
    {
     "output_type": "stream",
     "name": "stdout",
     "text": [
      "red apple\n",
      "red cherry\n",
      "red orange\n",
      "yellow apple\n",
      "yellow cherry\n",
      "yellow orange\n",
      "raw apple\n",
      "raw cherry\n",
      "raw orange\n"
     ]
    }
   ],
   "metadata": {}
  },
  {
   "cell_type": "code",
   "execution_count": 33,
   "source": [
    "def my_func(fname):\n",
    " print(fname + \"Romeo\")\n",
    "my_func(\"Allen \")\n",
    "my_func(\"Karen \")\n",
    "my_func(\"fallen \")\n",
    "my_func(\"Robert \")"
   ],
   "outputs": [
    {
     "output_type": "stream",
     "name": "stdout",
     "text": [
      "Allen Romeo\n",
      "Karen Romeo\n",
      "fallen Romeo\n",
      "Robert Romeo\n"
     ]
    }
   ],
   "metadata": {}
  },
  {
   "cell_type": "code",
   "execution_count": 38,
   "source": [
    "def my_func(fname,lname):\r\n",
    " print(fname +\" \"+ lname)\r\n",
    "my_func(\"Rob\",\"phil\")"
   ],
   "outputs": [
    {
     "output_type": "stream",
     "name": "stdout",
     "text": [
      "Rob phil\n"
     ]
    }
   ],
   "metadata": {}
  },
  {
   "cell_type": "code",
   "execution_count": 9,
   "source": [
    "def my_kids(*kids):\r\n",
    "    print(kids[1] ,\" he is the taller \" )\r\n",
    "my_kids(\"bob\",\"max\",\"alex\")"
   ],
   "outputs": [
    {
     "output_type": "stream",
     "name": "stdout",
     "text": [
      "max  he is the taller \n"
     ]
    }
   ],
   "metadata": {}
  },
  {
   "cell_type": "code",
   "execution_count": 43,
   "source": [
    "def my_child(child1,child2,child3):\r\n",
    "    print(\"im gonna meet with \"+ child2)\r\n",
    "my_child(child1=\"emil\",child2=\"max\",child3=\"lisa\")\r\n",
    " "
   ],
   "outputs": [
    {
     "output_type": "stream",
     "name": "stdout",
     "text": [
      "im gonna meet with max\n"
     ]
    }
   ],
   "metadata": {}
  },
  {
   "cell_type": "code",
   "execution_count": 45,
   "source": [
    "def my_child(**kids):\r\n",
    "    print(\"this is my child \"+kids[\"lname\"])\r\n",
    "my_child(fname = \"tony\" , lname = \"bobby\")\r\n",
    "\r\n"
   ],
   "outputs": [
    {
     "output_type": "stream",
     "name": "stdout",
     "text": [
      "this is my child bobby\n"
     ]
    }
   ],
   "metadata": {}
  },
  {
   "cell_type": "code",
   "execution_count": 46,
   "source": [
    "def my_cars(**cars):\r\n",
    "    print(\"this one is my fav \"+ cars[\"name\"])\r\n",
    "my_cars(color = \"blue\", name = \"bmw\", size = \"bigeest\")"
   ],
   "outputs": [
    {
     "output_type": "stream",
     "name": "stdout",
     "text": [
      "this one is my fav bmw\n"
     ]
    }
   ],
   "metadata": {}
  },
  {
   "cell_type": "code",
   "execution_count": 7,
   "source": [
    "def my_func(*kids):\r\n",
    "   for name in kids:\r\n",
    "     print(\"this is my son \", name)\r\n",
    "my_func(\"bobby\" ,\"poppy\", \"lucy\")\r\n",
    " "
   ],
   "outputs": [
    {
     "output_type": "stream",
     "name": "stdout",
     "text": [
      "this is my son  bobby\n",
      "this is my son  poppy\n",
      "this is my son  lucy\n"
     ]
    }
   ],
   "metadata": {}
  },
  {
   "cell_type": "code",
   "execution_count": 8,
   "source": [
    "def adder(x,y,z):\n",
    "    print(\"sum: \", x+y+z)\n",
    "adder(12,58,14)"
   ],
   "outputs": [
    {
     "output_type": "stream",
     "name": "stdout",
     "text": [
      "sum:  84\n"
     ]
    }
   ],
   "metadata": {}
  },
  {
   "cell_type": "code",
   "execution_count": 10,
   "source": [
    "def cars(*models):\n",
    "    for name in models:\n",
    "        print(\"we have this car \", name)\n",
    "cars(\"bmw\",\"audi\",\"tata\")"
   ],
   "outputs": [
    {
     "output_type": "stream",
     "name": "stdout",
     "text": [
      "we have this car  bmw\n",
      "we have this car  audi\n",
      "we have this car  tata\n"
     ]
    }
   ],
   "metadata": {}
  },
  {
   "cell_type": "code",
   "execution_count": 11,
   "source": [
    "def cars(*models):\n",
    " print(\"i love this \",models[1])\n",
    "cars(\"bmw\",\"audi\",\"tata\")\n"
   ],
   "outputs": [
    {
     "output_type": "stream",
     "name": "stdout",
     "text": [
      "i love this  audi\n"
     ]
    }
   ],
   "metadata": {}
  },
  {
   "cell_type": "code",
   "execution_count": 17,
   "source": [
    "def intro(**data):\n",
    "    for key, value in data.items():\n",
    "        print(\"{} is {}\" .format(key,value))\n",
    "intro(firstname = \"bobby\" , lastname = \"singh\", age = 36)\n",
    "intro(firstname = \"lovely\", lastname = \"singh\", id = \"lvely.com\" , age = 32)"
   ],
   "outputs": [
    {
     "output_type": "stream",
     "name": "stdout",
     "text": [
      "firstname is bobby\n",
      "lastname is singh\n",
      "age is 36\n",
      "firstname is lovely\n",
      "lastname is singh\n",
      "id is lvely.com\n",
      "age is 32\n"
     ]
    }
   ],
   "metadata": {}
  },
  {
   "cell_type": "code",
   "execution_count": 18,
   "source": [
    "def my_food(food):\n",
    "    for x in food:\n",
    "        print(x)\n",
    "fruit=[\"apple\",\"guava\",'jambura']\n",
    "my_food(fruit)"
   ],
   "outputs": [
    {
     "output_type": "stream",
     "name": "stdout",
     "text": [
      "apple\n",
      "guava\n",
      "jambura\n"
     ]
    }
   ],
   "metadata": {}
  },
  {
   "cell_type": "code",
   "execution_count": 22,
   "source": [
    "def multi(x):\n",
    "    return 5 * x\n",
    "\n",
    "print(multi(2))\n",
    "print(multi(5))\n"
   ],
   "outputs": [
    {
     "output_type": "stream",
     "name": "stdout",
     "text": [
      "10\n",
      "25\n"
     ]
    }
   ],
   "metadata": {}
  },
  {
   "cell_type": "code",
   "execution_count": 21,
   "source": [
    "n = int(input(\"num\"))\r\n",
    "if n % 2 != 0:\r\n",
    "    print(\"Weird\")\r\n",
    "if n % 2 == 0 and range(2,5):\r\n",
    "     print(\"not weird\")\r\n",
    "if n % 2 == 0 and range(6,20):\r\n",
    "    print(\"Weird\")\r\n",
    "if n % 2 == 0 and n > 20:\r\n",
    "    print(\"not weird\")"
   ],
   "outputs": [
    {
     "output_type": "stream",
     "name": "stdout",
     "text": [
      "not weird\n",
      "Weird\n"
     ]
    }
   ],
   "metadata": {}
  },
  {
   "cell_type": "code",
   "execution_count": 22,
   "source": [
    "x = lambda a: a + 10\r\n",
    "print(x(6))"
   ],
   "outputs": [
    {
     "output_type": "stream",
     "name": "stdout",
     "text": [
      "16\n"
     ]
    }
   ],
   "metadata": {}
  },
  {
   "cell_type": "code",
   "execution_count": 23,
   "source": [
    "x = lambda a , b: a + b+ 10\r\n",
    "print(x(45,10))"
   ],
   "outputs": [
    {
     "output_type": "stream",
     "name": "stdout",
     "text": [
      "65\n"
     ]
    }
   ],
   "metadata": {}
  },
  {
   "cell_type": "code",
   "execution_count": 25,
   "source": [
    "x = lambda a , b, c: a * b + c\r\n",
    "print(x(2,5,9))"
   ],
   "outputs": [
    {
     "output_type": "stream",
     "name": "stdout",
     "text": [
      "19\n"
     ]
    }
   ],
   "metadata": {}
  },
  {
   "cell_type": "code",
   "execution_count": 27,
   "source": [
    "def my_func(n):\r\n",
    "    return lambda a: a * n\r\n",
    "my_doubler = my_func(2)\r\n",
    "print(my_doubler(11))"
   ],
   "outputs": [
    {
     "output_type": "stream",
     "name": "stdout",
     "text": [
      "22\n"
     ]
    }
   ],
   "metadata": {}
  },
  {
   "cell_type": "code",
   "execution_count": 28,
   "source": [
    "def my_func(n):\r\n",
    "    return lambda a: a * n\r\n",
    "my_doubler = my_func(2)\r\n",
    "my_tripler = my_func(3)\r\n",
    "print(my_doubler(11))\r\n",
    "print(my_tripler(11))"
   ],
   "outputs": [
    {
     "output_type": "stream",
     "name": "stdout",
     "text": [
      "22\n",
      "33\n"
     ]
    }
   ],
   "metadata": {}
  },
  {
   "cell_type": "code",
   "execution_count": 29,
   "source": [
    "x = lambda a,b,c,d: a + b - c + d\r\n",
    "print(x(2,6,3,4))"
   ],
   "outputs": [
    {
     "output_type": "stream",
     "name": "stdout",
     "text": [
      "9\n"
     ]
    }
   ],
   "metadata": {}
  },
  {
   "cell_type": "code",
   "execution_count": 30,
   "source": [
    "def my_func(n):\r\n",
    "    return lambda a: a * n\r\n",
    "my_doubler = my_func(2)\r\n",
    "my_tripler = my_func(3)\r\n",
    "print(my_doubler(22))\r\n",
    "print(my_tripler(14))"
   ],
   "outputs": [
    {
     "output_type": "stream",
     "name": "stdout",
     "text": [
      "44\n",
      "42\n"
     ]
    }
   ],
   "metadata": {}
  },
  {
   "cell_type": "code",
   "execution_count": 31,
   "source": [
    "cars = [\"tata\",\"volvo\",\"nano\"]\r\n",
    "cars.append(\"honda\")\r\n",
    "print(cars)"
   ],
   "outputs": [
    {
     "output_type": "stream",
     "name": "stdout",
     "text": [
      "['tata', 'volvo', 'nano', 'honda']\n"
     ]
    }
   ],
   "metadata": {}
  },
  {
   "cell_type": "code",
   "execution_count": 32,
   "source": [
    "cars.pop()\r\n",
    "print(cars)"
   ],
   "outputs": [
    {
     "output_type": "stream",
     "name": "stdout",
     "text": [
      "['tata', 'volvo', 'nano']\n"
     ]
    }
   ],
   "metadata": {}
  },
  {
   "cell_type": "code",
   "execution_count": 33,
   "source": [
    "cars.remove(\"volvo\")\r\n",
    "print(cars)"
   ],
   "outputs": [
    {
     "output_type": "stream",
     "name": "stdout",
     "text": [
      "['tata', 'nano']\n"
     ]
    }
   ],
   "metadata": {}
  },
  {
   "cell_type": "code",
   "execution_count": 37,
   "source": [
    "cars.reverse()\r\n",
    "print(cars)"
   ],
   "outputs": [
    {
     "output_type": "stream",
     "name": "stdout",
     "text": [
      "['nano', 'tata']\n"
     ]
    }
   ],
   "metadata": {}
  },
  {
   "cell_type": "code",
   "execution_count": 38,
   "source": [
    "cars.insert(1,\"volvo\")\r\n",
    "print(cars)"
   ],
   "outputs": [
    {
     "output_type": "stream",
     "name": "stdout",
     "text": [
      "['nano', 'volvo', 'tata']\n"
     ]
    }
   ],
   "metadata": {}
  },
  {
   "cell_type": "code",
   "execution_count": 40,
   "source": [
    "class myclass:\r\n",
    "    x = 5\r\n",
    "print(myclass)"
   ],
   "outputs": [
    {
     "output_type": "stream",
     "name": "stdout",
     "text": [
      "<class '__main__.myclass'>\n"
     ]
    }
   ],
   "metadata": {}
  },
  {
   "cell_type": "code",
   "execution_count": 41,
   "source": [
    "class myclass:\n",
    "    x = 6\n",
    "p1 = myclass()\n",
    "print(p1.x)"
   ],
   "outputs": [
    {
     "output_type": "stream",
     "name": "stdout",
     "text": [
      "6\n"
     ]
    }
   ],
   "metadata": {}
  },
  {
   "cell_type": "code",
   "execution_count": 60,
   "source": [
    "class student:\r\n",
    "    \r\n",
    " harry = student()\r\n",
    " larry = student()\r\n",
    "\r\n",
    "harry.name = \"Harry\"\r\n",
    "harry.age = 25\r\n",
    "harry.roll = 10\r\n",
    "\r\n",
    "larry.std = 12\r\n",
    "larry.roll = 15\r\n",
    "\r\n",
    "print(harry.__dict__)"
   ],
   "outputs": [
    {
     "output_type": "stream",
     "name": "stdout",
     "text": [
      "{'name': 'Harry', 'salary': 255, 'role': 'Instructor', 'age': 25, 'roll': 10}\n"
     ]
    }
   ],
   "metadata": {}
  },
  {
   "cell_type": "code",
   "execution_count": 50,
   "source": [
    "class student:\r\n",
    "    \r\n",
    " def details(self):\r\n",
    "    return f\"his name is {self.name} ,age is {self.age} , roll is {self.roll}\"\r\n",
    "\r\n",
    "harry = student()\r\n",
    "larry = student()\r\n",
    "\r\n",
    "harry.name = \"Harry\"\r\n",
    "harry.age = 25\r\n",
    "harry.roll = 10\r\n",
    "\r\n",
    "larry.std = 12\r\n",
    "larry.roll = 15\r\n",
    "print(harry.details())\r\n"
   ],
   "outputs": [
    {
     "output_type": "stream",
     "name": "stdout",
     "text": [
      "his name is Harry ,age is 25 , roll is 10\n"
     ]
    }
   ],
   "metadata": {}
  },
  {
   "cell_type": "code",
   "execution_count": 57,
   "source": [
    "class employee:\r\n",
    "    def __init__(self, name,age, salary):\r\n",
    "        self.name = name\r\n",
    "        self.age = age\r\n",
    "        self.salary = salary\r\n",
    "    def details(self): \r\n",
    "\r\n",
    "        return f\"his name is {self.name} ,age is {self.age} , roll is {self.salary}\"\r\n",
    "\r\n",
    "harry = employee(\"Harry\", 22, 2560)\r\n",
    "print(harry.age)\r\n",
    "\r\n",
    "    "
   ],
   "outputs": [
    {
     "output_type": "stream",
     "name": "stdout",
     "text": [
      "22\n"
     ]
    }
   ],
   "metadata": {}
  },
  {
   "cell_type": "code",
   "execution_count": 19,
   "source": [
    "class Employee:\r\n",
    "    no_of_leaves = 8\r\n",
    "\r\n",
    "    def __init__(self, aname, asalary, arole):\r\n",
    "        self.name = aname\r\n",
    "        self.salary = asalary\r\n",
    "        self.role = arole\r\n",
    "\r\n",
    "    def printdetails(self):\r\n",
    "        return f\"The Name is {self.name}. Salary is {self.salary} and role is {self.role}\"\r\n",
    "\r\n",
    "\r\n",
    "harry = Employee(\"Harry\", 255, \"Instructor\")\r\n",
    "harry.printdetails()"
   ],
   "outputs": [
    {
     "output_type": "execute_result",
     "data": {
      "text/plain": [
       "'The Name is Harry. Salary is 255 and role is Instructor'"
      ]
     },
     "metadata": {},
     "execution_count": 19
    }
   ],
   "metadata": {}
  },
  {
   "cell_type": "code",
   "execution_count": 63,
   "source": [
    "class Employee:\r\n",
    "    def __init__(self, name, age, role):\r\n",
    "        self.name = name\r\n",
    "        self.age = age\r\n",
    "        self.role = role\r\n",
    "\r\n",
    "harry = Employee(\"Harry\",22,\"student\")\r\n",
    "print(harry.role)"
   ],
   "outputs": [
    {
     "output_type": "stream",
     "name": "stdout",
     "text": [
      "student\n"
     ]
    }
   ],
   "metadata": {}
  },
  {
   "cell_type": "code",
   "execution_count": 12,
   "source": [
    "def create_acc(**user):\r\n",
    "    print(\"ur acc has been created successfully\")\r\n",
    "    print(\"Name :\", user[\"names\"])\r\n",
    "    print(\"Age :\",user[\"age\"])\r\n",
    "    print(\"Genger :\",user[\"gender\"])\r\n",
    "create_acc(names =\"john\",age = 18, gender = \"female\")"
   ],
   "outputs": [
    {
     "output_type": "stream",
     "name": "stdout",
     "text": [
      "ur acc has been created successfully\n",
      "Name : john\n",
      "Age : 18\n",
      "Genger : female\n"
     ]
    }
   ],
   "metadata": {}
  },
  {
   "cell_type": "code",
   "execution_count": 15,
   "source": [
    "def create_acc(**user):\r\n",
    "    for key,value in user.items():\r\n",
    "        \r\n",
    "        print(key, \":\" ,value)\r\n",
    "create_acc(Name= \"John\", Age= 22,Gender=\"male\")\r\n"
   ],
   "outputs": [
    {
     "output_type": "stream",
     "name": "stdout",
     "text": [
      "Name : John\n",
      "Age : 22\n",
      "Gender : male\n"
     ]
    }
   ],
   "metadata": {}
  },
  {
   "cell_type": "code",
   "execution_count": 17,
   "source": [
    "def create_new(name,age,gender):\r\n",
    "    print(\"ur acc has been created succesfully\")\r\n",
    "    print(f\"Name: {name}\")\r\n",
    "    print(f\"Age : {age}\")\r\n",
    "    print(f\"Genger: {gender}\")\r\n",
    "create_new(\"John\",22,\"male\")\r\n",
    "create_new(\"bobby\",18,\"male\")"
   ],
   "outputs": [
    {
     "output_type": "stream",
     "name": "stdout",
     "text": [
      "ur acc has been created succesfully\n",
      "Name: John\n",
      "Age : 22\n",
      "Genger: male\n",
      "ur acc has been created succesfully\n",
      "Name: bobby\n",
      "Age : 18\n",
      "Genger: male\n"
     ]
    }
   ],
   "metadata": {}
  },
  {
   "cell_type": "code",
   "execution_count": 18,
   "source": [
    "class employee:\r\n",
    "    def __init__(self,fname,lname):\r\n",
    "        self.firstname = fname\r\n",
    "        self.lastname = lname\r\n",
    "\r\n",
    "    def details(self):\r\n",
    "        print(self.firstname,self.lastname)\r\n",
    "\r\n",
    "name = employee(\"john\",\"smith\")\r\n",
    "name.details()"
   ],
   "outputs": [
    {
     "output_type": "stream",
     "name": "stdout",
     "text": [
      "john smith\n"
     ]
    }
   ],
   "metadata": {}
  },
  {
   "cell_type": "code",
   "execution_count": 27,
   "source": [
    "class person:\r\n",
    "    def __init__(self,fname,lname):\r\n",
    "        self.firstname = fname\r\n",
    "        self.lastname = lname\r\n",
    "    def printdetails(self):\r\n",
    "        return f\"His full name is {self.firstname}  {self.lastname}\"\r\n",
    "\r\n",
    "class student(person):\r\n",
    "    #pass\r\n",
    " name = student(\"Will\" ,\"Smith\")\r\n",
    "name.printdetails()"
   ],
   "outputs": [
    {
     "output_type": "execute_result",
     "data": {
      "text/plain": [
       "'His full name is Will , Smith'"
      ]
     },
     "metadata": {},
     "execution_count": 27
    }
   ],
   "metadata": {}
  },
  {
   "cell_type": "code",
   "execution_count": 28,
   "source": [
    "class Person:\r\n",
    "  def __init__(self, fname, lname):\r\n",
    "    self.firstname = fname\r\n",
    "    self.lastname = lname\r\n",
    "\r\n",
    "  def printname(self):\r\n",
    "    print(self.firstname, self.lastname)\r\n",
    "\r\n",
    "class Student(Person):\r\n",
    "  def __init__(self, fname, lname, year):\r\n",
    "    super().__init__(fname, lname)\r\n",
    "    self.graduationyear = year\r\n",
    "\r\n",
    "  def welcome(self):\r\n",
    "    print(\"Welcome\", self.firstname, self.lastname, \"to the class of\", self.graduationyear)\r\n",
    "\r\n",
    "x = Student(\"Mike\", \"Olsen\", 2019)\r\n",
    "x.welcome()\r\n"
   ],
   "outputs": [
    {
     "output_type": "stream",
     "name": "stdout",
     "text": [
      "Welcome Mike Olsen to the class of 2019\n"
     ]
    }
   ],
   "metadata": {}
  },
  {
   "cell_type": "code",
   "execution_count": null,
   "source": [
    "values = input(\"Enter the number :\")\r\n",
    "list = values.split(\",\")\r\n",
    "tuple = tuple(list)\r\n",
    "print(\"List :\", list)\r\n",
    "print(\"Tuple :\", tuple)"
   ],
   "outputs": [],
   "metadata": {}
  },
  {
   "cell_type": "code",
   "execution_count": 3,
   "source": [
    "def check_function():\r\n",
    "    name = int(input(\"What is your number? \"))\r\n",
    "    if name == 2:\r\n",
    "        print(\"2\")\r\n",
    "    elif name == 3:\r\n",
    "        print(\"3\")\r\n",
    "    \r\n",
    "    \r\n",
    "    \r\n",
    "check_function()\r\n"
   ],
   "outputs": [
    {
     "output_type": "error",
     "ename": "ValueError",
     "evalue": "invalid literal for int() with base 10: ''",
     "traceback": [
      "\u001b[1;31m---------------------------------------------------------------------------\u001b[0m",
      "\u001b[1;31mValueError\u001b[0m                                Traceback (most recent call last)",
      "\u001b[1;32m~\\AppData\\Local\\Temp/ipykernel_10592/2308363394.py\u001b[0m in \u001b[0;36m<module>\u001b[1;34m\u001b[0m\n\u001b[0;32m      8\u001b[0m \u001b[1;33m\u001b[0m\u001b[0m\n\u001b[0;32m      9\u001b[0m \u001b[1;33m\u001b[0m\u001b[0m\n\u001b[1;32m---> 10\u001b[1;33m \u001b[0mprint\u001b[0m \u001b[1;33m(\u001b[0m\u001b[0mcheck_function\u001b[0m\u001b[1;33m(\u001b[0m\u001b[1;33m)\u001b[0m\u001b[1;33m)\u001b[0m\u001b[1;33m\u001b[0m\u001b[1;33m\u001b[0m\u001b[0m\n\u001b[0m",
      "\u001b[1;32m~\\AppData\\Local\\Temp/ipykernel_10592/2308363394.py\u001b[0m in \u001b[0;36mcheck_function\u001b[1;34m()\u001b[0m\n\u001b[0;32m      1\u001b[0m \u001b[1;32mdef\u001b[0m \u001b[0mcheck_function\u001b[0m\u001b[1;33m(\u001b[0m\u001b[1;33m)\u001b[0m\u001b[1;33m:\u001b[0m\u001b[1;33m\u001b[0m\u001b[1;33m\u001b[0m\u001b[0m\n\u001b[1;32m----> 2\u001b[1;33m     \u001b[0mname\u001b[0m \u001b[1;33m=\u001b[0m \u001b[0mint\u001b[0m\u001b[1;33m(\u001b[0m\u001b[0minput\u001b[0m\u001b[1;33m(\u001b[0m\u001b[1;34m\"What is your number? \"\u001b[0m\u001b[1;33m)\u001b[0m\u001b[1;33m)\u001b[0m\u001b[1;33m\u001b[0m\u001b[1;33m\u001b[0m\u001b[0m\n\u001b[0m\u001b[0;32m      3\u001b[0m     \u001b[1;32mif\u001b[0m \u001b[0mname\u001b[0m \u001b[1;33m==\u001b[0m \u001b[1;36m2\u001b[0m\u001b[1;33m:\u001b[0m\u001b[1;33m\u001b[0m\u001b[1;33m\u001b[0m\u001b[0m\n\u001b[0;32m      4\u001b[0m         \u001b[0mprint\u001b[0m\u001b[1;33m(\u001b[0m\u001b[1;34m\"2\"\u001b[0m\u001b[1;33m)\u001b[0m\u001b[1;33m\u001b[0m\u001b[1;33m\u001b[0m\u001b[0m\n\u001b[0;32m      5\u001b[0m     \u001b[1;32melif\u001b[0m \u001b[0mname\u001b[0m \u001b[1;33m==\u001b[0m \u001b[1;36m3\u001b[0m\u001b[1;33m:\u001b[0m\u001b[1;33m\u001b[0m\u001b[1;33m\u001b[0m\u001b[0m\n",
      "\u001b[1;31mValueError\u001b[0m: invalid literal for int() with base 10: ''"
     ]
    }
   ],
   "metadata": {}
  },
  {
   "cell_type": "code",
   "execution_count": 3,
   "source": [
    "car = {\r\n",
    "\"brand\": \"Ford\",\r\n",
    "\"model\": \"Mustang\",\r\n",
    "\"year\": 1964,\r\n",
    "\"price\" : 3500000\r\n",
    "}\r\n",
    "x = car.values()\r\n",
    "print(x) \r\n",
    "car[\"price\"] = car[\"price\"] + 100000\r\n",
    "car[\"color\"] = \"white\"\r\n",
    "car[\"model\"] = \"BMW\"\r\n",
    "\r\n",
    "print(x)"
   ],
   "outputs": [
    {
     "output_type": "stream",
     "name": "stdout",
     "text": [
      "dict_values(['Ford', 'Mustang', 1964, 3500000])\n",
      "dict_values(['Ford', 'BMW', 1964, 3600000, 'white'])\n"
     ]
    }
   ],
   "metadata": {}
  },
  {
   "cell_type": "code",
   "execution_count": 14,
   "source": [
    "dictTransaction = {\r\n",
    "    \"account_id\" : -999,\r\n",
    "    \"Amount\"  : 0,\r\n",
    "    \"Deposit\" : 0,\r\n",
    "    \"Withdraw\" : 0,\r\n",
    "    \"Balance\" : 0\r\n",
    "\r\n",
    "}\r\n",
    "print(type(dictTransaction))\r\n",
    "x = list(dictTransaction)\r\n",
    "print(type(x))\r\n",
    "print(x)\r\n",
    "dictTransaction[\"Amount\"] = 10\r\n",
    "x = list(dictTransaction)\r\n",
    "print(x)"
   ],
   "outputs": [
    {
     "output_type": "stream",
     "name": "stdout",
     "text": [
      "<class 'dict'>\n",
      "<class 'list'>\n",
      "['account_id', 'Amount', 'Deposit', 'Withdraw', 'Balance']\n",
      "['account_id', 'Amount', 'Deposit', 'Withdraw', 'Balance']\n"
     ]
    }
   ],
   "metadata": {}
  },
  {
   "cell_type": "code",
   "execution_count": 17,
   "source": [
    "a_dictionary = {\"a\": 1, \"b\": 2}\r\n",
    "values = a_dictionary.values()\r\n",
    "values_list = list(values)\r\n",
    "print(values_list)\r\n",
    "print(values_list[0])\r\n",
    "keys = a_dictionary.keys()\r\n",
    "values_key = list(keys)\r\n",
    "print(values_key)\r\n"
   ],
   "outputs": [
    {
     "output_type": "stream",
     "name": "stdout",
     "text": [
      "[1, 2]\n",
      "1\n",
      "['a', 'b']\n"
     ]
    }
   ],
   "metadata": {}
  },
  {
   "cell_type": "code",
   "execution_count": 22,
   "source": [
    "     objlist = [\"accid\",\"opening\",\"withdraw\",\"balance\",\"date\"]\r\n",
    "     list1 = [1,2,3,4]\r\n",
    "     list2 = [5,6,7,8,9]\r\n",
    "     my_generic_list = []\r\n",
    "     my_generic_list.append(3)\r\n",
    "     my_generic_list.append(\"string\")\r\n",
    "     my_generic_list.append(objlist)\r\n",
    "     my_generic_list.append(list1)\r\n",
    "     my_generic_list.append(list2)\r\n",
    "     my_generic_list\r\n",
    "\r\n"
   ],
   "outputs": [
    {
     "output_type": "execute_result",
     "data": {
      "text/plain": [
       "[3, 'string', [1, 2, 3, 4], [5, 6, 7, 8, 9]]"
      ]
     },
     "metadata": {},
     "execution_count": 22
    }
   ],
   "metadata": {}
  },
  {
   "cell_type": "code",
   "execution_count": 36,
   "source": [
    "def updown(low,up):\r\n",
    "    nums = []\r\n",
    "    for num in range(low,up+1):\r\n",
    "        nums.append(num)\r\n",
    "        print(nums)\r\n"
   ],
   "outputs": [],
   "metadata": {}
  },
  {
   "cell_type": "code",
   "execution_count": 38,
   "source": [
    "print(updown(1,6))"
   ],
   "outputs": [
    {
     "output_type": "stream",
     "name": "stdout",
     "text": [
      "[1]\n",
      "[1, 2]\n",
      "[1, 2, 3]\n",
      "[1, 2, 3, 4]\n",
      "[1, 2, 3, 4, 5]\n",
      "[1, 2, 3, 4, 5, 6]\n",
      "None\n"
     ]
    }
   ],
   "metadata": {}
  },
  {
   "cell_type": "code",
   "execution_count": 5,
   "source": [
    "def results(low,up):\r\n",
    "    items = []\r\n",
    "    for a in range(low,up+1):\r\n",
    "        #a = maths.numbers()\r\n",
    "        items.append(a)\r\n",
    "        return(a)\r\n",
    "\r\n",
    "\r\n",
    "\r\n"
   ],
   "outputs": [],
   "metadata": {}
  },
  {
   "cell_type": "code",
   "execution_count": 6,
   "source": [
    "print(results(1,10))"
   ],
   "outputs": [
    {
     "output_type": "stream",
     "name": "stdout",
     "text": [
      "1\n"
     ]
    }
   ],
   "metadata": {}
  },
  {
   "cell_type": "code",
   "execution_count": 12,
   "source": [
    "def even_numbers(max):\r\n",
    "     n = 2\r\n",
    "     while n <= max:\r\n",
    "         n1 = n*n\r\n",
    "         yield n1\r\n",
    "         n += 2\r\n",
    "maximum = even_numbers(8)\r\n",
    "print(next(maximum))\r\n",
    "print(next(maximum))\r\n",
    "print(next(maximum))\r\n"
   ],
   "outputs": [
    {
     "output_type": "stream",
     "name": "stdout",
     "text": [
      "4\n",
      "16\n",
      "36\n"
     ]
    }
   ],
   "metadata": {}
  },
  {
   "cell_type": "code",
   "execution_count": 14,
   "source": [
    "def fibonacci():\r\n",
    "    n1 = 0\r\n",
    "    n2 = 1\r\n",
    "    while True:\r\n",
    "        yield n1\r\n",
    "        n1 , n2 = n2 , n1+n2\r\n",
    "    \r\n",
    "seq = fibonacci()\r\n",
    "print(next(seq))\r\n",
    "print(next(seq))\r\n",
    "print(next(seq))\r\n",
    "print(next(seq))\r\n",
    "print(next(seq))\r\n"
   ],
   "outputs": [
    {
     "output_type": "stream",
     "name": "stdout",
     "text": [
      "0\n"
     ]
    }
   ],
   "metadata": {}
  },
  {
   "cell_type": "code",
   "execution_count": 5,
   "source": [
    "def making_italic(func):\r\n",
    "    def inner():\r\n",
    "        return \"<i>\" + func() + \"</i>\"\r\n",
    "    return inner\r\n",
    "def making_bold(func):\r\n",
    "    def inner():\r\n",
    "        return \"<b>\" + func() + \"</b>\"\r\n",
    "    return inner\r\n",
    "@making_italic\r\n",
    "@making_bold\r\n",
    "def hello():\r\n",
    "    return \"Using Decorator\"\r\n",
    "hello()"
   ],
   "outputs": [
    {
     "output_type": "execute_result",
     "data": {
      "text/plain": [
       "'<i><b>Using Decorator</b></i>'"
      ]
     },
     "metadata": {},
     "execution_count": 5
    }
   ],
   "metadata": {}
  },
  {
   "cell_type": "code",
   "execution_count": 34,
   "source": [
    "def decorator(func):\r\n",
    "    def inner(*args, **kwargs):\r\n",
    "                Name = input('username:').strip()\r\n",
    "                Password = input('password:')\r\n",
    "    if name == 'rosy' and password == 111111:\r\n",
    "        Print('Authentication passed!')\r\n",
    "                    \r\n",
    "    func()\r\n",
    "    else:\r\n",
    "        Print('Authentication failed!')\r\n",
    "    return inner\r\n",
    "     \r\n",
    "@decorator\r\n",
    "def show():\r\n",
    "    print('Welcome to Python!')\r\n",
    "     \r\n",
    "show()"
   ],
   "outputs": [
    {
     "output_type": "error",
     "ename": "SyntaxError",
     "evalue": "invalid syntax (Temp/ipykernel_7744/1689928531.py, line 9)",
     "traceback": [
      "\u001b[1;36m  File \u001b[1;32m\"C:\\Users\\user\\AppData\\Local\\Temp/ipykernel_7744/1689928531.py\"\u001b[1;36m, line \u001b[1;32m9\u001b[0m\n\u001b[1;33m    else:\u001b[0m\n\u001b[1;37m    ^\u001b[0m\n\u001b[1;31mSyntaxError\u001b[0m\u001b[1;31m:\u001b[0m invalid syntax\n"
     ]
    }
   ],
   "metadata": {}
  },
  {
   "cell_type": "code",
   "execution_count": 40,
   "source": [
    "def decorator(func):\r\n",
    "    def inner(*args, **kwargs):\r\n",
    "        num = 3\r\n",
    "        while num:\r\n",
    "            name = input(\"Enter the name\").strip()\r\n",
    "        password = input(\"Enter password :\")\r\n",
    "        if name == \"Rosy\" and password == 1010:\r\n",
    "            print(\"Authentication succeeded\")\r\n",
    "        \r\n",
    "    func()\r\n",
    "    break\r\n",
    "        else:\r\n",
    "            if num != 1:\r\n",
    "                print(f\"Please enter correct password .u have {n-1} try left\")\r\n",
    "            num -= 1\r\n",
    "            if num == 0:\r\n",
    "                print(\"aunthentication failed\")\r\n",
    "    return inner\r\n",
    "@decorator\r\n",
    "def show():\r\n",
    "    print(\"Welcome to team\")\r\n",
    "show()\r\n"
   ],
   "outputs": [
    {
     "output_type": "error",
     "ename": "SyntaxError",
     "evalue": "invalid syntax (Temp/ipykernel_7744/3008208958.py, line 12)",
     "traceback": [
      "\u001b[1;36m  File \u001b[1;32m\"C:\\Users\\user\\AppData\\Local\\Temp/ipykernel_7744/3008208958.py\"\u001b[1;36m, line \u001b[1;32m12\u001b[0m\n\u001b[1;33m    else:\u001b[0m\n\u001b[1;37m    ^\u001b[0m\n\u001b[1;31mSyntaxError\u001b[0m\u001b[1;31m:\u001b[0m invalid syntax\n"
     ]
    }
   ],
   "metadata": {}
  },
  {
   "cell_type": "code",
   "execution_count": 1,
   "source": [
    "os.getcwd()"
   ],
   "outputs": [
    {
     "output_type": "execute_result",
     "data": {
      "text/plain": [
       "'c:\\\\Users\\\\user\\\\OneDrive\\\\Documents'"
      ]
     },
     "metadata": {},
     "execution_count": 1
    }
   ],
   "metadata": {}
  },
  {
   "cell_type": "code",
   "execution_count": 4,
   "source": [
    "dirpath = os.path.join(os.getcwd(),r\"Users\\Public\\Public Documents\\New\")\r\n",
    "dirpath"
   ],
   "outputs": [
    {
     "output_type": "execute_result",
     "data": {
      "text/plain": [
       "'c:\\\\Users\\\\user\\\\OneDrive\\\\Documents\\\\Users\\\\Public\\\\Public Documents\\\\New'"
      ]
     },
     "metadata": {},
     "execution_count": 4
    }
   ],
   "metadata": {}
  },
  {
   "cell_type": "code",
   "execution_count": 5,
   "source": [
    "os.mkdir(dirpath)"
   ],
   "outputs": [
    {
     "output_type": "error",
     "ename": "FileNotFoundError",
     "evalue": "[WinError 3] The system cannot find the path specified: 'c:\\\\Users\\\\user\\\\OneDrive\\\\Documents\\\\Users\\\\Public\\\\Public Documents\\\\New'",
     "traceback": [
      "\u001b[1;31m---------------------------------------------------------------------------\u001b[0m",
      "\u001b[1;31mFileNotFoundError\u001b[0m                         Traceback (most recent call last)",
      "\u001b[1;32m~\\AppData\\Local\\Temp/ipykernel_1468/3870352398.py\u001b[0m in \u001b[0;36m<module>\u001b[1;34m\u001b[0m\n\u001b[1;32m----> 1\u001b[1;33m \u001b[0mos\u001b[0m\u001b[1;33m.\u001b[0m\u001b[0mmkdir\u001b[0m\u001b[1;33m(\u001b[0m\u001b[0mdirpath\u001b[0m\u001b[1;33m)\u001b[0m\u001b[1;33m\u001b[0m\u001b[1;33m\u001b[0m\u001b[0m\n\u001b[0m",
      "\u001b[1;31mFileNotFoundError\u001b[0m: [WinError 3] The system cannot find the path specified: 'c:\\\\Users\\\\user\\\\OneDrive\\\\Documents\\\\Users\\\\Public\\\\Public Documents\\\\New'"
     ]
    }
   ],
   "metadata": {}
  },
  {
   "cell_type": "code",
   "execution_count": 9,
   "source": [
    "import os\r\n",
    "path ='C:\\\\Users\\\\Public\\\\Documents'\r\n",
    "os.chdir(path)\r\n",
    "new_folder = 'New1'\r\n",
    "os.makedirs(new_folder)"
   ],
   "outputs": [
    {
     "output_type": "error",
     "ename": "FileExistsError",
     "evalue": "[WinError 183] Cannot create a file when that file already exists: 'C:\\\\Users\\\\Public\\\\Documents\\\\New1'",
     "traceback": [
      "\u001b[1;31m---------------------------------------------------------------------------\u001b[0m",
      "\u001b[1;31mFileExistsError\u001b[0m                           Traceback (most recent call last)",
      "\u001b[1;32m~\\AppData\\Local\\Temp/ipykernel_1468/3074126652.py\u001b[0m in \u001b[0;36m<module>\u001b[1;34m\u001b[0m\n\u001b[0;32m      3\u001b[0m \u001b[1;31m#os.chdir(path)\u001b[0m\u001b[1;33m\u001b[0m\u001b[1;33m\u001b[0m\u001b[1;33m\u001b[0m\u001b[0m\n\u001b[0;32m      4\u001b[0m \u001b[1;31m#new_folder = 'New1'\u001b[0m\u001b[1;33m\u001b[0m\u001b[1;33m\u001b[0m\u001b[1;33m\u001b[0m\u001b[0m\n\u001b[1;32m----> 5\u001b[1;33m \u001b[0mos\u001b[0m\u001b[1;33m.\u001b[0m\u001b[0mmakedirs\u001b[0m\u001b[1;33m(\u001b[0m\u001b[0mpath\u001b[0m\u001b[1;33m)\u001b[0m\u001b[1;33m\u001b[0m\u001b[1;33m\u001b[0m\u001b[0m\n\u001b[0m",
      "\u001b[1;32m~\\AppData\\Local\\Programs\\Python\\Python39\\lib\\os.py\u001b[0m in \u001b[0;36mmakedirs\u001b[1;34m(name, mode, exist_ok)\u001b[0m\n\u001b[0;32m    223\u001b[0m             \u001b[1;32mreturn\u001b[0m\u001b[1;33m\u001b[0m\u001b[1;33m\u001b[0m\u001b[0m\n\u001b[0;32m    224\u001b[0m     \u001b[1;32mtry\u001b[0m\u001b[1;33m:\u001b[0m\u001b[1;33m\u001b[0m\u001b[1;33m\u001b[0m\u001b[0m\n\u001b[1;32m--> 225\u001b[1;33m         \u001b[0mmkdir\u001b[0m\u001b[1;33m(\u001b[0m\u001b[0mname\u001b[0m\u001b[1;33m,\u001b[0m \u001b[0mmode\u001b[0m\u001b[1;33m)\u001b[0m\u001b[1;33m\u001b[0m\u001b[1;33m\u001b[0m\u001b[0m\n\u001b[0m\u001b[0;32m    226\u001b[0m     \u001b[1;32mexcept\u001b[0m \u001b[0mOSError\u001b[0m\u001b[1;33m:\u001b[0m\u001b[1;33m\u001b[0m\u001b[1;33m\u001b[0m\u001b[0m\n\u001b[0;32m    227\u001b[0m         \u001b[1;31m# Cannot rely on checking for EEXIST, since the operating system\u001b[0m\u001b[1;33m\u001b[0m\u001b[1;33m\u001b[0m\u001b[1;33m\u001b[0m\u001b[0m\n",
      "\u001b[1;31mFileExistsError\u001b[0m: [WinError 183] Cannot create a file when that file already exists: 'C:\\\\Users\\\\Public\\\\Documents\\\\New1'"
     ]
    }
   ],
   "metadata": {}
  }
 ]
}