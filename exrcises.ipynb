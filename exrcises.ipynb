{
 "cells": [
  {
   "cell_type": "code",
   "execution_count": 13,
   "source": [
    "value = input(\"Enter the numbers with comma \")\r\n",
    "list = value.split(\",\")\r\n",
    "tuple = tuple(list)\r\n",
    "print(\"list :\",list)\r\n",
    "print(\"tuple :\", tuple)\r\n"
   ],
   "outputs": [
    {
     "output_type": "error",
     "ename": "TypeError",
     "evalue": "'tuple' object is not callable",
     "traceback": [
      "\u001b[1;31m---------------------------------------------------------------------------\u001b[0m",
      "\u001b[1;31mTypeError\u001b[0m                                 Traceback (most recent call last)",
      "\u001b[1;32m~\\AppData\\Local\\Temp/ipykernel_9352/1615297462.py\u001b[0m in \u001b[0;36m<module>\u001b[1;34m\u001b[0m\n\u001b[0;32m      1\u001b[0m \u001b[0mvalue\u001b[0m \u001b[1;33m=\u001b[0m \u001b[0minput\u001b[0m\u001b[1;33m(\u001b[0m\u001b[1;34m\"Enter the numbers with comma \"\u001b[0m\u001b[1;33m)\u001b[0m\u001b[1;33m\u001b[0m\u001b[1;33m\u001b[0m\u001b[0m\n\u001b[0;32m      2\u001b[0m \u001b[0mlist\u001b[0m \u001b[1;33m=\u001b[0m \u001b[0mvalue\u001b[0m\u001b[1;33m.\u001b[0m\u001b[0msplit\u001b[0m\u001b[1;33m(\u001b[0m\u001b[1;34m\",\"\u001b[0m\u001b[1;33m)\u001b[0m\u001b[1;33m\u001b[0m\u001b[1;33m\u001b[0m\u001b[0m\n\u001b[1;32m----> 3\u001b[1;33m \u001b[0mtuple\u001b[0m \u001b[1;33m=\u001b[0m \u001b[0mtuple\u001b[0m\u001b[1;33m(\u001b[0m\u001b[0mlist\u001b[0m\u001b[1;33m)\u001b[0m\u001b[1;33m\u001b[0m\u001b[1;33m\u001b[0m\u001b[0m\n\u001b[0m\u001b[0;32m      4\u001b[0m \u001b[0mprint\u001b[0m\u001b[1;33m(\u001b[0m\u001b[1;34m\"list :\"\u001b[0m\u001b[1;33m,\u001b[0m\u001b[0mlist\u001b[0m\u001b[1;33m)\u001b[0m\u001b[1;33m\u001b[0m\u001b[1;33m\u001b[0m\u001b[0m\n\u001b[0;32m      5\u001b[0m \u001b[0mprint\u001b[0m\u001b[1;33m(\u001b[0m\u001b[1;34m\"tuple :\"\u001b[0m\u001b[1;33m,\u001b[0m \u001b[0mtuple\u001b[0m\u001b[1;33m)\u001b[0m\u001b[1;33m\u001b[0m\u001b[1;33m\u001b[0m\u001b[0m\n",
      "\u001b[1;31mTypeError\u001b[0m: 'tuple' object is not callable"
     ]
    }
   ],
   "metadata": {}
  },
  {
   "cell_type": "code",
   "execution_count": 14,
   "source": [
    "filename = input(\"Enter the filename :\")\r\n",
    "name = filename.split(\".\")\r\n",
    "print(\"the extension is :\", name[-1])"
   ],
   "outputs": [
    {
     "output_type": "stream",
     "name": "stdout",
     "text": [
      "the extension is : py\n"
     ]
    }
   ],
   "metadata": {}
  },
  {
   "cell_type": "code",
   "execution_count": 23,
   "source": [
    "color_list = [\"Red\",\"Green\",\"White\" ,\"Black\"]\r\n",
    "print(\"the names are :\", color_list[0],color_list[3])"
   ],
   "outputs": [
    {
     "output_type": "stream",
     "name": "stdout",
     "text": [
      "the names are : Red Black\n"
     ]
    }
   ],
   "metadata": {}
  },
  {
   "cell_type": "markdown",
   "source": [
    "take input and show n+nn+nnn\r\n"
   ],
   "metadata": {}
  },
  {
   "cell_type": "code",
   "execution_count": 34,
   "source": [
    "a = int(input(\"Enter the number :\"))\r\n",
    "print(a+int(f'{a}{a}')+int(f'{a}{a}{a}'))\r\n",
    "\r\n"
   ],
   "outputs": [
    {
     "output_type": "stream",
     "name": "stdout",
     "text": [
      "615\n"
     ]
    }
   ],
   "metadata": {}
  },
  {
   "cell_type": "code",
   "execution_count": 35,
   "source": [
    "print(abs.__doc__)"
   ],
   "outputs": [
    {
     "output_type": "stream",
     "name": "stdout",
     "text": [
      "Return the absolute value of the argument.\n"
     ]
    }
   ],
   "metadata": {}
  },
  {
   "cell_type": "code",
   "execution_count": 36,
   "source": [
    "print(\"\"\"\r\n",
    "hello there\r\n",
    "this is a multiline string\r\n",
    "..........\r\n",
    "heredoc string ----> finishes\r\n",
    "\"\"\")"
   ],
   "outputs": [
    {
     "output_type": "stream",
     "name": "stdout",
     "text": [
      "\n",
      "hello there\n",
      "this is a multiline string\n",
      "..........\n",
      "heredoc string ----> finishes\n",
      "\n"
     ]
    }
   ],
   "metadata": {}
  },
  {
   "cell_type": "code",
   "execution_count": 37,
   "source": [
    "r = int(input(\"Enter the value of radius :\"))\r\n",
    "pi = 3.1416\r\n",
    "V = 4/3 * pi * r**3\r\n",
    "print(\"the volume is :\", V)\r\n"
   ],
   "outputs": [
    {
     "output_type": "stream",
     "name": "stdout",
     "text": [
      "the volume is : 523.5999999999999\n"
     ]
    }
   ],
   "metadata": {}
  },
  {
   "cell_type": "code",
   "execution_count": 40,
   "source": [
    "a = int(input(\"Enter a number\"))\r\n",
    "x = a - 17\r\n",
    "if a > 17:\r\n",
    "    print(x**2)"
   ],
   "outputs": [
    {
     "output_type": "stream",
     "name": "stdout",
     "text": [
      "64\n"
     ]
    }
   ],
   "metadata": {}
  },
  {
   "cell_type": "code",
   "execution_count": 41,
   "source": [
    "def difference(n):\r\n",
    "    if n <= 17:\r\n",
    "        return 17 - n\r\n",
    "    else:\r\n",
    "        return (n-17)**2\r\n",
    "print(difference(24))\r\n",
    "print(difference(12))"
   ],
   "outputs": [
    {
     "output_type": "stream",
     "name": "stdout",
     "text": [
      "49\n",
      "5\n"
     ]
    }
   ],
   "metadata": {}
  },
  {
   "cell_type": "code",
   "execution_count": 44,
   "source": [
    "num = int(input(\"Enter the no :\"))\r\n",
    "if num in range(100,1000):\r\n",
    "    print(\"yes, 1000\")\r\n",
    "elif num in range(100,2000):\r\n",
    "    print(\"within 2000\")\r\n",
    "else:\r\n",
    "    print(\"none\")\r\n"
   ],
   "outputs": [
    {
     "output_type": "stream",
     "name": "stdout",
     "text": [
      "within 2000\n"
     ]
    }
   ],
   "metadata": {}
  },
  {
   "cell_type": "code",
   "execution_count": 45,
   "source": [
    "def rangE(n):\r\n",
    "    return ((abs(1000 - n) <= 100) or (abs(2000 - n) <= 100))\r\n",
    "print(rangE(500))"
   ],
   "outputs": [
    {
     "output_type": "stream",
     "name": "stdout",
     "text": [
      "False\n"
     ]
    }
   ],
   "metadata": {}
  },
  {
   "cell_type": "code",
   "execution_count": 61,
   "source": [
    "def sum_three(n1, n2, n3):\r\n",
    "    sum = n1 + n2 + n3\r\n",
    "    return sum\r\n",
    "    if n1 == n2 == n3:\r\n",
    "        sum = sum * 3\r\n",
    "        return sum\r\n",
    "print(sum_three(3,3,3))\r\n",
    "print(sum_three(1,2,3))\r\n",
    "\r\n",
    "\r\n"
   ],
   "outputs": [
    {
     "output_type": "stream",
     "name": "stdout",
     "text": [
      "9\n",
      "6\n"
     ]
    }
   ],
   "metadata": {}
  },
  {
   "cell_type": "code",
   "execution_count": 56,
   "source": [
    "def sum_thrice(x, y, z):\r\n",
    "\r\n",
    "     sum = x + y + z\r\n",
    "  \r\n",
    "     if x == y == z:\r\n",
    "      sum = sum * 3\r\n",
    "     return sum\r\n",
    "\r\n",
    "print(sum_thrice(1, 2, 3))\r\n",
    "print(sum_thrice(3, 3, 3))"
   ],
   "outputs": [
    {
     "output_type": "stream",
     "name": "stdout",
     "text": [
      "6\n",
      "27\n"
     ]
    }
   ],
   "metadata": {}
  },
  {
   "cell_type": "code",
   "execution_count": 44,
   "source": [
    "def new_str(str):\r\n",
    "    if len(str) >= 2 and str[:2]== \"Is\":\r\n",
    "        return str\r\n",
    "    else:\r\n",
    "        return \"Is \" + str\r\n",
    "print(new_str(\"array\"))\r\n",
    "print(new_str(\"Isverygood\"))"
   ],
   "outputs": [
    {
     "output_type": "stream",
     "name": "stdout",
     "text": [
      "Is array\n",
      "Isverygood\n"
     ]
    }
   ],
   "metadata": {}
  },
  {
   "cell_type": "code",
   "execution_count": 1,
   "source": [
    "def copies(str,n):\r\n",
    "    result = \"\"\r\n",
    "    for i in range(n):\r\n",
    "        result = result + str\r\n",
    "    return result\r\n",
    "\r\n",
    "print(copies(\"abc\", 2))\r\n",
    "print(copies(\".java\",3)) \r\n",
    "    "
   ],
   "outputs": [
    {
     "output_type": "stream",
     "name": "stdout",
     "text": [
      "abcabc\n",
      ".java.java.java\n"
     ]
    }
   ],
   "metadata": {}
  },
  {
   "cell_type": "code",
   "execution_count": 8,
   "source": [
    "def larger_string(str, n):\r\n",
    "\t   result = \"\"\r\n",
    "\t   for i in range(n):\r\n",
    "\t      result = result + str\r\n",
    "\t   return result\r\n",
    "\t\r\n",
    "print(larger_string('abc', 2))\r\n",
    "print(larger_string('.py', 3))"
   ],
   "outputs": [
    {
     "output_type": "stream",
     "name": "stdout",
     "text": [
      "abcabc\n",
      ".py.py.py\n"
     ]
    }
   ],
   "metadata": {}
  },
  {
   "cell_type": "code",
   "execution_count": 3,
   "source": [
    "class mynumbers():\r\n",
    "    def __iter__(self):\r\n",
    "        self.a = 1\r\n",
    "        return self\r\n",
    "    def __next__(self):\r\n",
    "        x =self.a\r\n",
    "        self.a += 1\r\n",
    "        return x\r\n",
    "myclass = mynumbers()\r\n",
    "myiter = iter(myclass)\r\n",
    "print(next(myiter))\r\n",
    "print(next(myiter))"
   ],
   "outputs": [
    {
     "output_type": "stream",
     "name": "stdout",
     "text": [
      "1\n",
      "2\n"
     ]
    }
   ],
   "metadata": {}
  },
  {
   "cell_type": "code",
   "execution_count": 4,
   "source": [
    "import datetime\r\n",
    "x = datetime.datetime.now()\r\n",
    "print(x)"
   ],
   "outputs": [
    {
     "output_type": "stream",
     "name": "stdout",
     "text": [
      "2021-07-23 08:00:42.399097\n"
     ]
    }
   ],
   "metadata": {}
  },
  {
   "cell_type": "code",
   "execution_count": 9,
   "source": [
    "import datetime\r\n",
    "x = datetime.datetime.now()\r\n",
    "print(x.year)\r\n",
    "print(x.strftime(\"%A\"))"
   ],
   "outputs": [
    {
     "output_type": "stream",
     "name": "stdout",
     "text": [
      "2021\n",
      "Friday\n"
     ]
    }
   ],
   "metadata": {}
  },
  {
   "cell_type": "code",
   "execution_count": 11,
   "source": [
    "import datetime\r\n",
    "x = datetime.datetime(1992, 7,28)\r\n",
    "print(x)"
   ],
   "outputs": [
    {
     "output_type": "stream",
     "name": "stdout",
     "text": [
      "1992-07-28 00:00:00\n"
     ]
    }
   ],
   "metadata": {}
  },
  {
   "cell_type": "code",
   "execution_count": 17,
   "source": [
    "import datetime\r\n",
    "x = datetime.datetime.now()\r\n",
    "print(x.strftime('%a'))\r\n",
    "print(x.strftime('%A'))\r\n",
    "print(x.strftime('%b'))\r\n",
    "print(x.strftime('%B'))\r\n",
    "print(x.strftime('%d'))\r\n",
    "print(x.strftime('%w'))"
   ],
   "outputs": [
    {
     "output_type": "stream",
     "name": "stdout",
     "text": [
      "Fri\n",
      "Friday\n",
      "Jul\n",
      "July\n",
      "23\n",
      "5\n"
     ]
    }
   ],
   "metadata": {}
  },
  {
   "cell_type": "code",
   "execution_count": 19,
   "source": [
    "a = min(2,45,1)\r\n",
    "b = max(52,48,72)\r\n",
    "print(a)\r\n",
    "print(b)"
   ],
   "outputs": [
    {
     "output_type": "stream",
     "name": "stdout",
     "text": [
      "1\n",
      "72\n"
     ]
    }
   ],
   "metadata": {}
  },
  {
   "cell_type": "code",
   "execution_count": 20,
   "source": [
    "x = abs(-5.63)\r\n",
    "print(x)"
   ],
   "outputs": [
    {
     "output_type": "stream",
     "name": "stdout",
     "text": [
      "5.63\n"
     ]
    }
   ],
   "metadata": {}
  },
  {
   "cell_type": "code",
   "execution_count": 22,
   "source": [
    "x = pow(12,3)\r\n",
    "print(x)"
   ],
   "outputs": [
    {
     "output_type": "stream",
     "name": "stdout",
     "text": [
      "1728\n"
     ]
    }
   ],
   "metadata": {}
  },
  {
   "cell_type": "code",
   "execution_count": 23,
   "source": [
    "import math\r\n",
    "x = math.sqrt(64)\r\n",
    "print(x)"
   ],
   "outputs": [
    {
     "output_type": "stream",
     "name": "stdout",
     "text": [
      "8.0\n"
     ]
    }
   ],
   "metadata": {}
  },
  {
   "cell_type": "code",
   "execution_count": 24,
   "source": [
    "import math\r\n",
    "x = math.ceil(1.3)\r\n",
    "y = math.floor(1.3)\r\n",
    "print(x)\r\n",
    "print(y)"
   ],
   "outputs": [
    {
     "output_type": "stream",
     "name": "stdout",
     "text": [
      "2\n",
      "1\n"
     ]
    }
   ],
   "metadata": {}
  },
  {
   "cell_type": "code",
   "execution_count": 25,
   "source": [
    "import math\r\n",
    "x = math.pi\r\n",
    "print(x)"
   ],
   "outputs": [
    {
     "output_type": "stream",
     "name": "stdout",
     "text": [
      "3.141592653589793\n"
     ]
    }
   ],
   "metadata": {}
  },
  {
   "cell_type": "code",
   "execution_count": 32,
   "source": [
    "import json\r\n",
    "x = '{\"name\" : \"john\", \"age\" : 36,\"city\" :\"LA\"}'\r\n",
    "y = json.loads(x)\r\n",
    "print(y[\"city\"])"
   ],
   "outputs": [
    {
     "output_type": "stream",
     "name": "stdout",
     "text": [
      "LA\n"
     ]
    }
   ],
   "metadata": {}
  },
  {
   "cell_type": "code",
   "execution_count": 34,
   "source": [
    "import json\r\n",
    "x = {\r\n",
    "    \"name\" : \"jhon\",\r\n",
    "    \"age\" : 36,\r\n",
    "    \"city\": \"LA\"\r\n",
    "}\r\n",
    "y = json.dumps(x)\r\n",
    "print(y)"
   ],
   "outputs": [
    {
     "output_type": "stream",
     "name": "stdout",
     "text": [
      "{\"name\": \"jhon\", \"age\": 36, \"city\": \"LA\"}\n"
     ]
    }
   ],
   "metadata": {}
  },
  {
   "cell_type": "code",
   "execution_count": 35,
   "source": [
    "x = {\r\n",
    "  \"name\": \"John\",\r\n",
    "  \"age\": 30,\r\n",
    "  \"married\": True,\r\n",
    "  \"divorced\": False,\r\n",
    "  \"children\": (\"Ann\",\"Billy\"),\r\n",
    "  \"pets\": None,\r\n",
    "  \"cars\": [\r\n",
    "    {\"model\": \"BMW 230\", \"mpg\": 27.5},\r\n",
    "    {\"model\": \"Ford Edge\", \"mpg\": 24.1}\r\n",
    "  ]\r\n",
    "}\r\n",
    "print(json.dumps(x))"
   ],
   "outputs": [
    {
     "output_type": "stream",
     "name": "stdout",
     "text": [
      "{\"name\": \"John\", \"age\": 30, \"married\": true, \"divorced\": false, \"children\": [\"Ann\", \"Billy\"], \"pets\": null, \"cars\": [{\"model\": \"BMW 230\", \"mpg\": 27.5}, {\"model\": \"Ford Edge\", \"mpg\": 24.1}]}\n"
     ]
    }
   ],
   "metadata": {}
  },
  {
   "cell_type": "code",
   "execution_count": 40,
   "source": [
    "x = {\r\n",
    "  \"name\": \"John\",\r\n",
    "  \"age\": 30,\r\n",
    "  \"married\": True,\r\n",
    "  \"divorced\": False,\r\n",
    "  \"children\": (\"Ann\",\"Billy\"),\r\n",
    "  \"pets\": None,\r\n",
    "  \"cars\": [\r\n",
    "    {\"model\": \"BMW 230\", \"mpg\": 27.5},\r\n",
    "    {\"model\": \"Ford Edge\", \"mpg\": 24.1}\r\n",
    "  ]\r\n",
    "}\r\n",
    "print(json.dumps(x, indent=1))"
   ],
   "outputs": [
    {
     "output_type": "stream",
     "name": "stdout",
     "text": [
      "{\n",
      " \"name\": \"John\",\n",
      " \"age\": 30,\n",
      " \"married\": true,\n",
      " \"divorced\": false,\n",
      " \"children\": [\n",
      "  \"Ann\",\n",
      "  \"Billy\"\n",
      " ],\n",
      " \"pets\": null,\n",
      " \"cars\": [\n",
      "  {\n",
      "   \"model\": \"BMW 230\",\n",
      "   \"mpg\": 27.5\n",
      "  },\n",
      "  {\n",
      "   \"model\": \"Ford Edge\",\n",
      "   \"mpg\": 24.1\n",
      "  }\n",
      " ]\n",
      "}\n"
     ]
    }
   ],
   "metadata": {}
  },
  {
   "cell_type": "code",
   "execution_count": 42,
   "source": [
    "x = {\r\n",
    "  \"name\": \"John\",\r\n",
    "  \"age\": 30,\r\n",
    "  \"married\": True,\r\n",
    "  \"divorced\": False,\r\n",
    "  \"children\": (\"Ann\",\"Billy\"),\r\n",
    "  \"pets\": None,\r\n",
    "  \"cars\": [\r\n",
    "    {\"model\": \"BMW 230\", \"mpg\": 27.5},\r\n",
    "    {\"model\": \"Ford Edge\", \"mpg\": 24.1}\r\n",
    "  ]\r\n",
    "}\r\n",
    "print(json.dumps(x,indent=2,separators=(\".\",\"=\")))"
   ],
   "outputs": [
    {
     "output_type": "stream",
     "name": "stdout",
     "text": [
      "{\n",
      "  \"name\"=\"John\".\n",
      "  \"age\"=30.\n",
      "  \"married\"=true.\n",
      "  \"divorced\"=false.\n",
      "  \"children\"=[\n",
      "    \"Ann\".\n",
      "    \"Billy\"\n",
      "  ].\n",
      "  \"pets\"=null.\n",
      "  \"cars\"=[\n",
      "    {\n",
      "      \"model\"=\"BMW 230\".\n",
      "      \"mpg\"=27.5\n",
      "    }.\n",
      "    {\n",
      "      \"model\"=\"Ford Edge\".\n",
      "      \"mpg\"=24.1\n",
      "    }\n",
      "  ]\n",
      "}\n"
     ]
    }
   ],
   "metadata": {}
  },
  {
   "cell_type": "code",
   "execution_count": 43,
   "source": [
    "x = {\r\n",
    "  \"name\": \"John\",\r\n",
    "  \"age\": 30,\r\n",
    "  \"married\": True,\r\n",
    "  \"divorced\": False,\r\n",
    "  \"children\": (\"Ann\",\"Billy\"),\r\n",
    "  \"pets\": None,\r\n",
    "  \"cars\": [\r\n",
    "    {\"model\": \"BMW 230\", \"mpg\": 27.5},\r\n",
    "    {\"model\": \"Ford Edge\", \"mpg\": 24.1}\r\n",
    "  ]\r\n",
    "}\r\n",
    "print(json.dumps(x, indent=2,separators=(\",\",\"=\"),sort_keys=True))"
   ],
   "outputs": [
    {
     "output_type": "stream",
     "name": "stdout",
     "text": [
      "{\n",
      "  \"age\"=30,\n",
      "  \"cars\"=[\n",
      "    {\n",
      "      \"model\"=\"BMW 230\",\n",
      "      \"mpg\"=27.5\n",
      "    },\n",
      "    {\n",
      "      \"model\"=\"Ford Edge\",\n",
      "      \"mpg\"=24.1\n",
      "    }\n",
      "  ],\n",
      "  \"children\"=[\n",
      "    \"Ann\",\n",
      "    \"Billy\"\n",
      "  ],\n",
      "  \"divorced\"=false,\n",
      "  \"married\"=true,\n",
      "  \"name\"=\"John\",\n",
      "  \"pets\"=null\n",
      "}\n"
     ]
    }
   ],
   "metadata": {}
  },
  {
   "cell_type": "code",
   "execution_count": 47,
   "source": [
    "import re\r\n",
    "txt = \"The rain in spain\"\r\n",
    "x = re.search(\"^The.*spain$\",txt)\r\n",
    "if x:\r\n",
    "    print(\"yes, hve a match\")\r\n",
    "else:\r\n",
    "    print(\"nope\")"
   ],
   "outputs": [
    {
     "output_type": "stream",
     "name": "stdout",
     "text": [
      "yes, hve a match\n"
     ]
    }
   ],
   "metadata": {}
  },
  {
   "cell_type": "code",
   "execution_count": null,
   "source": [
    "import re\r\n",
    "txt = \"She is a criminal\"\r\n",
    "x = re.search(\"^She.*criminal$\",txt)\r\n",
    "if x:\r\n",
    "    print(\"Yes its a match\")\r\n",
    "else:\r\n",
    "    print(\"nope\")"
   ],
   "outputs": [],
   "metadata": {}
  },
  {
   "cell_type": "code",
   "execution_count": 2,
   "source": [
    "import datetime\r\n",
    "x = datetime.datetime.now()\r\n",
    "print(x.strftime(\"%B\"))"
   ],
   "outputs": [
    {
     "output_type": "stream",
     "name": "stdout",
     "text": [
      "July\n"
     ]
    }
   ],
   "metadata": {}
  },
  {
   "cell_type": "code",
   "execution_count": 1,
   "source": [
    "import datetime\r\n",
    "u = datetime.datetime(1998,6,15)\r\n",
    "print(u.strftime(\"%B\"))"
   ],
   "outputs": [
    {
     "output_type": "stream",
     "name": "stdout",
     "text": [
      "June\n"
     ]
    }
   ],
   "metadata": {}
  },
  {
   "cell_type": "code",
   "execution_count": 6,
   "source": [
    "import re\r\n",
    "txt = \"heavy rain in spain\"\r\n",
    "x = re.search(\"^heavy.*spain$\" , txt)\r\n",
    "if x:\r\n",
    "    print(\"yes....\")\r\n",
    "else:\r\n",
    "    print(\"no\")"
   ],
   "outputs": [
    {
     "output_type": "stream",
     "name": "stdout",
     "text": [
      "yes....\n"
     ]
    }
   ],
   "metadata": {}
  },
  {
   "cell_type": "code",
   "execution_count": 7,
   "source": [
    "import re\r\n",
    "txt = \"Talking to the moon\"\r\n",
    "x = re.findall(\"[a-s]\" ,txt)\r\n",
    "print(x)"
   ],
   "outputs": [
    {
     "output_type": "stream",
     "name": "stdout",
     "text": [
      "['a', 'l', 'k', 'i', 'n', 'g', 'o', 'h', 'e', 'm', 'o', 'o', 'n']\n"
     ]
    }
   ],
   "metadata": {}
  },
  {
   "cell_type": "code",
   "execution_count": 9,
   "source": [
    "import re\r\n",
    "txt = \"I have 56 dollars and 90 cents left\"\r\n",
    "x = re.findall('\\d' ,txt)\r\n",
    "print(x)\r\n"
   ],
   "outputs": [
    {
     "output_type": "stream",
     "name": "stdout",
     "text": [
      "['5', '6', '9', '0']\n"
     ]
    }
   ],
   "metadata": {}
  },
  {
   "cell_type": "code",
   "execution_count": 10,
   "source": [
    "import re\r\n",
    "txt = \"i owe him 95.30 cents\"\r\n",
    "x = re.findall('\\d' ,txt)\r\n",
    "print(x)"
   ],
   "outputs": [
    {
     "output_type": "stream",
     "name": "stdout",
     "text": [
      "['9', '5', '3', '0']\n"
     ]
    }
   ],
   "metadata": {}
  },
  {
   "cell_type": "code",
   "execution_count": 11,
   "source": [
    "import re\r\n",
    "txt = \"Spain is a beautiful country\"\r\n",
    "x = re.search(\"^Spain\" ,txt)\r\n",
    "if x:\r\n",
    "    print(\"yes...\")\r\n",
    "else:\r\n",
    "    print(\"No...\")"
   ],
   "outputs": [
    {
     "output_type": "stream",
     "name": "stdout",
     "text": [
      "yes...\n"
     ]
    }
   ],
   "metadata": {}
  },
  {
   "cell_type": "code",
   "execution_count": 15,
   "source": [
    "import re\r\n",
    "txt = \"welcome to spain\"\r\n",
    "x = re.search(\"spain$\" ,txt)\r\n",
    "if x:\r\n",
    "    print(\"yes\")\r\n",
    "else:\r\n",
    "    print(\"no...\")"
   ],
   "outputs": [
    {
     "output_type": "stream",
     "name": "stdout",
     "text": [
      "yes\n"
     ]
    }
   ],
   "metadata": {}
  },
  {
   "cell_type": "code",
   "execution_count": 20,
   "source": [
    "import re\r\n",
    "txt = \"rain in spain on plain\"\r\n",
    "x = re.findall(\"in*\" ,txt)\r\n",
    "print(x)\r\n",
    "if x:\r\n",
    "   print(\"yes\")\r\n",
    "else:\r\n",
    "    print(\"no\")\r\n"
   ],
   "outputs": [
    {
     "output_type": "stream",
     "name": "stdout",
     "text": [
      "['in', 'in', 'in', 'in']\n",
      "yes\n"
     ]
    }
   ],
   "metadata": {}
  },
  {
   "cell_type": "code",
   "execution_count": 22,
   "source": [
    "import re\r\n",
    "txt = \"rain falls in spain\"\r\n",
    "x = re.findall(\"falls|stays\" ,txt)\r\n",
    "print(x)\r\n",
    "if x:\r\n",
    "    print(\"yes\")\r\n",
    "else:\r\n",
    "    print(\"no\")"
   ],
   "outputs": [
    {
     "output_type": "stream",
     "name": "stdout",
     "text": [
      "['falls']\n",
      "yes\n"
     ]
    }
   ],
   "metadata": {}
  },
  {
   "cell_type": "code",
   "execution_count": 25,
   "source": [
    "import re\r\n",
    "txt= \"The rain of spain\"\r\n",
    "x = re.findall(\"\\d\" ,txt)\r\n",
    "print(x)\r\n",
    "if x:\r\n",
    "    print(\"yes \")\r\n",
    "else:\r\n",
    "    print(\"no\")"
   ],
   "outputs": [
    {
     "output_type": "stream",
     "name": "stdout",
     "text": [
      "['T', 'h', 'e', ' ', 'r', 'a', 'i', 'n', ' ', 'o', 'f', ' ', 's', 'p', 'a', 'i', 'n']\n",
      "yes \n"
     ]
    }
   ],
   "metadata": {}
  },
  {
   "cell_type": "code",
   "execution_count": 26,
   "source": [
    "import re\r\n",
    "txt = \"The rain in spain\"\r\n",
    "x = re.findall(\"\\D\",txt)\r\n",
    "print(x)\r\n",
    "if x:\r\n",
    "    print(\"yes\")\r\n",
    "else:\r\n",
    "    print(\"no\")"
   ],
   "outputs": [
    {
     "output_type": "stream",
     "name": "stdout",
     "text": [
      "['T', 'h', 'e', ' ', 'r', 'a', 'i', 'n', ' ', 'i', 'n', ' ', 's', 'p', 'a', 'i', 'n']\n",
      "yes\n"
     ]
    }
   ],
   "metadata": {}
  },
  {
   "cell_type": "code",
   "execution_count": 3,
   "source": [
    "file = open(\"demofile.txt\", mode= \"w\")\r\n",
    "file.write(\"Hello! welcome to the new file\")\r\n",
    "file.close()\r\n",
    "\r\n",
    "\r\n",
    "\r\n"
   ],
   "outputs": [],
   "metadata": {}
  },
  {
   "cell_type": "code",
   "execution_count": 5,
   "source": [
    "file = open(\"demofile.txt\", mode= \"r\")\r\n",
    "#data = file.read()\r\n",
    "#file.close()\r\n",
    "#data\r\n",
    "print(file.read())"
   ],
   "outputs": [
    {
     "output_type": "stream",
     "name": "stdout",
     "text": [
      "Hello! welcome to the new file\n"
     ]
    }
   ],
   "metadata": {}
  },
  {
   "cell_type": "code",
   "execution_count": 22,
   "source": [
    "file = open(\"demo1.txt\", mode= \"w\")\r\n",
    "file.write(\"I have deleted\")\r\n",
    "file.close\r\n"
   ],
   "outputs": [
    {
     "output_type": "execute_result",
     "data": {
      "text/plain": [
       "<function TextIOWrapper.close()>"
      ]
     },
     "metadata": {},
     "execution_count": 22
    }
   ],
   "metadata": {}
  },
  {
   "cell_type": "code",
   "execution_count": 23,
   "source": [
    "file = open(\"demo1.txt\", mode=\"r\")\r\n",
    "data = file.read()\r\n",
    "file.close()\r\n",
    "data"
   ],
   "outputs": [
    {
     "output_type": "execute_result",
     "data": {
      "text/plain": [
       "''"
      ]
     },
     "metadata": {},
     "execution_count": 23
    }
   ],
   "metadata": {}
  },
  {
   "cell_type": "code",
   "execution_count": 18,
   "source": [
    "file = open(\"demo1.txt\", mode=\"a\")\r\n",
    "file.write(\"\\nSecond Line\")\r\n",
    "file.writelines([\"\\nPython\", \"\\nJava\", \"\\nC#\"])\r\n",
    "file.close()\r\n",
    "\r\n"
   ],
   "outputs": [],
   "metadata": {}
  },
  {
   "cell_type": "code",
   "execution_count": 19,
   "source": [
    "file = open(\"demo1.txt\", mode=\"r\")\r\n",
    "data = file.readlines()\r\n",
    "file.close()\r\n",
    "data"
   ],
   "outputs": [
    {
     "output_type": "execute_result",
     "data": {
      "text/plain": [
       "['I have deleted\\n',\n",
       " 'This is first line\\n',\n",
       " 'this is the secod one\\n',\n",
       " 'This is first line\\n',\n",
       " 'This is first line\\n',\n",
       " 'This is first line\\n',\n",
       " 'This is first line\\n',\n",
       " ' third\\n',\n",
       " 'fourth\\n',\n",
       " 'fifth\\n',\n",
       " 'This is first line\\n',\n",
       " 'This is first line\\n',\n",
       " ' third\\n',\n",
       " 'fourth\\n',\n",
       " 'fifth\\n',\n",
       " 'This is first line\\n',\n",
       " ' third\\n',\n",
       " 'fourth\\n',\n",
       " 'fifth\\n',\n",
       " 'Second Line\\n',\n",
       " 'Python\\n',\n",
       " 'Java\\n',\n",
       " 'C#']"
      ]
     },
     "metadata": {},
     "execution_count": 19
    }
   ],
   "metadata": {}
  },
  {
   "cell_type": "code",
   "execution_count": 24,
   "source": [
    "file1 = open(\"demo2.txt\", mode= \"w\")\r\n",
    "file1.write(\"the first line\")\r\n",
    "file1.close()"
   ],
   "outputs": [],
   "metadata": {}
  },
  {
   "cell_type": "code",
   "execution_count": 25,
   "source": [
    "file1 = open(\"demo2.txt\" , mode= \"r\")\r\n",
    "data = file1.read()\r\n",
    "file1.close()\r\n",
    "data"
   ],
   "outputs": [
    {
     "output_type": "execute_result",
     "data": {
      "text/plain": [
       "'the first line'"
      ]
     },
     "metadata": {},
     "execution_count": 25
    }
   ],
   "metadata": {}
  },
  {
   "cell_type": "code",
   "execution_count": 27,
   "source": [
    "file1 = open(\"demo2.txt\" , mode= \"a\")\r\n",
    "file1.write(\"\\nThis is second\")\r\n",
    "file1.writelines([\"\\nThird\", \"\\nFourth\", \"\\nFifth\"])\r\n",
    "file1.close()"
   ],
   "outputs": [],
   "metadata": {}
  },
  {
   "cell_type": "code",
   "execution_count": 28,
   "source": [
    "file1 = open(\"demo2.txt\" , mode= \"r\")\r\n",
    "data = file1.readlines()\r\n",
    "file1.close()\r\n",
    "data"
   ],
   "outputs": [
    {
     "output_type": "execute_result",
     "data": {
      "text/plain": [
       "['the first line\\n',\n",
       " 'This is second\\n',\n",
       " 'This is second\\n',\n",
       " 'Third\\n',\n",
       " 'Fourth\\n',\n",
       " 'Fifth']"
      ]
     },
     "metadata": {},
     "execution_count": 28
    }
   ],
   "metadata": {}
  },
  {
   "cell_type": "code",
   "execution_count": 29,
   "source": [
    "with open(\"demo2.txt\", mode= \"r\") as file:\r\n",
    "    data = file.readlines()\r\n",
    "data\r\n",
    "\r\n"
   ],
   "outputs": [
    {
     "output_type": "execute_result",
     "data": {
      "text/plain": [
       "['the first line\\n',\n",
       " 'This is second\\n',\n",
       " 'This is second\\n',\n",
       " 'Third\\n',\n",
       " 'Fourth\\n',\n",
       " 'Fifth']"
      ]
     },
     "metadata": {},
     "execution_count": 29
    }
   ],
   "metadata": {}
  },
  {
   "cell_type": "code",
   "execution_count": 31,
   "source": [
    "with open(\"demo2.txt\", mode= \"r\") as file:\r\n",
    "    lines = file.readlines()\r\n",
    "    del lines[2]\r\n",
    "with open(\"demo3.txt \", mode=\"w\") as file:\r\n",
    "    data = file.writelines(lines)\r\n",
    "    file.close()\r\n",
    "data\r\n"
   ],
   "outputs": [],
   "metadata": {}
  },
  {
   "cell_type": "code",
   "execution_count": 32,
   "source": [
    "try:\r\n",
    "    with open(\"file4.txt\", mode = \"r\") as file:\r\n",
    "        data = file.readlines()\r\n",
    "except FileNotFoundError as e:\r\n",
    "    print(e)\r\n",
    "print(\"Hello\")"
   ],
   "outputs": [
    {
     "output_type": "stream",
     "name": "stdout",
     "text": [
      "[Errno 2] No such file or directory: 'file4.txt'\n",
      "Hello\n"
     ]
    }
   ],
   "metadata": {}
  },
  {
   "cell_type": "code",
   "execution_count": null,
   "source": [
    "try:\r\n",
    "    with open(\"file4.txt\", mode=\"r\") as file:\r\n",
    "        file.read()\r\n",
    "except Exception as e:\r\n",
    "    print(e)\r\n",
    "finally:\r\n",
    "    file.close()\r\n",
    "    print(\"Hello0\")\r\n",
    "print(\"Done\")\r\n"
   ],
   "outputs": [],
   "metadata": {}
  },
  {
   "cell_type": "code",
   "execution_count": 4,
   "source": [
    "try:\r\n",
    "    nominator = int(input(\"Enter the number :\"))\r\n",
    "    denominator = int(input(\"Enter the number :\"))\r\n",
    "    result = nominator / denominator\r\n",
    "    print(result)\r\n",
    "except Exception as e:\r\n",
    "    print(e)\r\n",
    "finally:\r\n",
    "    print(\"Please print this out\")"
   ],
   "outputs": [
    {
     "output_type": "stream",
     "name": "stdout",
     "text": [
      "5.0\n",
      "Please print this out\n"
     ]
    }
   ],
   "metadata": {}
  },
  {
   "cell_type": "code",
   "execution_count": 5,
   "source": [
    "try:\r\n",
    "    with open(\"file5.txt\" , \"r\") as file:\r\n",
    "        file.read()\r\n",
    "except Exception as f:\r\n",
    "    print(f)\r\n",
    "finally:\r\n",
    "    print(\"This should be executed\")"
   ],
   "outputs": [
    {
     "output_type": "stream",
     "name": "stdout",
     "text": [
      "[Errno 2] No such file or directory: 'file5.txt'\n"
     ]
    }
   ],
   "metadata": {}
  },
  {
   "cell_type": "code",
   "execution_count": 3,
   "source": [
    "\r\n",
    "pip install pandas"
   ],
   "outputs": [
    {
     "output_type": "stream",
     "name": "stdout",
     "text": [
      "^C\n",
      "Note: you may need to restart the kernel to use updated packages.\n"
     ]
    },
    {
     "output_type": "stream",
     "name": "stderr",
     "text": [
      "WARNING: You are using pip version 21.1.1; however, version 21.2.1 is available.\n",
      "You should consider upgrading via the 'C:\\Users\\user\\AppData\\Local\\Programs\\Python\\Python39\\python.exe -m pip install --upgrade pip' command.\n"
     ]
    },
    {
     "output_type": "stream",
     "name": "stdout",
     "text": [
      "Collecting pandas\n",
      "  Downloading pandas-1.3.1-cp39-cp39-win_amd64.whl (10.4 MB)\n",
      "Requirement already satisfied: python-dateutil>=2.7.3 in c:\\users\\user\\appdata\\roaming\\python\\python39\\site-packages (from pandas) (2.8.1)\n",
      "Collecting pytz>=2017.3\n",
      "  Downloading pytz-2021.1-py2.py3-none-any.whl (510 kB)\n",
      "Collecting numpy>=1.17.3\n",
      "  Downloading numpy-1.21.1-cp39-cp39-win_amd64.whl (14.0 MB)\n",
      "Requirement already satisfied: six>=1.5 in c:\\users\\user\\appdata\\roaming\\python\\python39\\site-packages (from python-dateutil>=2.7.3->pandas) (1.16.0)\n",
      "Installing collected packages: pytz, numpy, pandas\n",
      "Successfully installed numpy-1.21.1 pandas-1.3.1 pytz-2021.1\n"
     ]
    }
   ],
   "metadata": {}
  },
  {
   "cell_type": "code",
   "execution_count": null,
   "source": [
    "import pandas as pd\r\n",
    "\r\n",
    "mydataset = {\r\n",
    "  'cars': [\"BMW\", \"Volvo\", \"Ford\"],\r\n",
    "  'passings': [3, 7, 2]\r\n",
    "}\r\n",
    "\r\n",
    "myvar = pd.DataFrame(mydataset)\r\n",
    "\r\n",
    "print(myvar)"
   ],
   "outputs": [],
   "metadata": {}
  },
  {
   "cell_type": "code",
   "execution_count": 1,
   "source": [
    "import os\r\n",
    "current_dir = os.getcwd()\r\n",
    "print(current_dir)\r\n",
    "\r\n",
    "os.chdir(\"c:\\\\Users\\\\user\\\\OneDrive\")\r\n",
    "print(os.getcwd())"
   ],
   "outputs": [
    {
     "output_type": "stream",
     "name": "stdout",
     "text": [
      "c:\\Users\\user\\OneDrive\\Documents\n",
      "c:\\Users\\user\\OneDrive\n"
     ]
    }
   ],
   "metadata": {}
  },
  {
   "cell_type": "code",
   "execution_count": 10,
   "source": [
    "import os\r\n",
    "print(os.listdir())"
   ],
   "outputs": [
    {
     "output_type": "stream",
     "name": "stdout",
     "text": [
      "['account_creation.py', 'ayushe.py', 'Ayushi2.py', 'bank.py', 'bank1.py', 'bank2.py', 'banking.py', 'card_apply.py', 'Custom Office Templates', 'demo1.txt', 'demo2.txt', 'demo3.txt', 'demofile.txt', 'desktop.ini', 'Django and Flask uses in Python.pdf', 'exercises.ipynb', 'exercises.py', 'exit.py', 'exrcises.ipynb', 'hw1.py', 'hw2.py', 'hw4.py', 'init.ipynb', 'init1.ipynb', 'main_function.py', 'New folder', 'online_banking.py', 'online_Banking_solution.py', 'online_module-based_banking.py', 'oops.ipynb', 'options_select.py', 'pass.py', 'PIN_change_options.py', 'Python Professional Training.pdf', 'SIMPLE_BANKING_SYSTEM_IN_PYTHON_WITH_SOURCE_CODE', 'transaction.py', 'Zoom', '__pycache__']\n"
     ]
    }
   ],
   "metadata": {}
  },
  {
   "cell_type": "code",
   "execution_count": 14,
   "source": [
    "import os\r\n",
    "print(os.listdir())\r\n"
   ],
   "outputs": [
    {
     "output_type": "stream",
     "name": "stdout",
     "text": [
      "['account_creation.py', 'ayushe.py', 'Ayushi2.py', 'bank.py', 'bank1.py', 'bank2.py', 'banking.py', 'card_apply.py', 'Custom Office Templates', 'demo1.txt', 'demo2.txt', 'demo3.txt', 'demofile.txt', 'desktop.ini', 'Django and Flask uses in Python.pdf', 'exercises.ipynb', 'exercises.py', 'exit.py', 'exrcises.ipynb', 'hw1.py', 'hw2.py', 'hw4.py', 'init.ipynb', 'init1.ipynb', 'main_function.py', 'New folder', 'online_banking.py', 'online_Banking_solution.py', 'online_module-based_banking.py', 'oops.ipynb', 'options_select.py', 'pass.py', 'PIN_change_options.py', 'Python Professional Training.pdf', 'SIMPLE_BANKING_SYSTEM_IN_PYTHON_WITH_SOURCE_CODE', 'test', 'transaction.py', 'Zoom', '__pycache__']\n"
     ]
    }
   ],
   "metadata": {}
  },
  {
   "cell_type": "code",
   "execution_count": 18,
   "source": [
    "import os\r\n",
    "os.mkdir(\"New folder\\\\test\")"
   ],
   "outputs": [],
   "metadata": {}
  },
  {
   "cell_type": "code",
   "execution_count": 23,
   "source": [
    "import os\r\n",
    "print(os.listdir())"
   ],
   "outputs": [
    {
     "output_type": "stream",
     "name": "stdout",
     "text": [
      "['account_creation.py', 'ayushe.py', 'Ayushi2.py', 'bank.py', 'bank1.py', 'bank2.py', 'banking.py', 'card_apply.py', 'Custom Office Templates', 'demo1.txt', 'demo2.txt', 'demo3.txt', 'demofile.txt', 'desktop.ini', 'Django and Flask uses in Python.pdf', 'exercises.ipynb', 'exercises.py', 'exit.py', 'exrcises.ipynb', 'hw1.py', 'hw2.py', 'hw4.py', 'init.ipynb', 'init1.ipynb', 'main_function.py', 'New folder', 'online_banking.py', 'online_Banking_solution.py', 'online_module-based_banking.py', 'oops.ipynb', 'options_select.py', 'pass.py', 'PIN_change_options.py', 'Python Professional Training.pdf', 'SIMPLE_BANKING_SYSTEM_IN_PYTHON_WITH_SOURCE_CODE', 'test_new', 'transaction.py', 'Zoom', '__pycache__']\n"
     ]
    }
   ],
   "metadata": {}
  },
  {
   "cell_type": "code",
   "execution_count": 24,
   "source": [
    "os.remove(\"demo1.txt\")\r\n",
    "print(os.listdir())"
   ],
   "outputs": [
    {
     "output_type": "stream",
     "name": "stdout",
     "text": [
      "['account_creation.py', 'ayushe.py', 'Ayushi2.py', 'bank.py', 'bank1.py', 'bank2.py', 'banking.py', 'card_apply.py', 'Custom Office Templates', 'demo2.txt', 'demo3.txt', 'demofile.txt', 'desktop.ini', 'Django and Flask uses in Python.pdf', 'exercises.ipynb', 'exercises.py', 'exit.py', 'exrcises.ipynb', 'hw1.py', 'hw2.py', 'hw4.py', 'init.ipynb', 'init1.ipynb', 'main_function.py', 'New folder', 'online_banking.py', 'online_Banking_solution.py', 'online_module-based_banking.py', 'oops.ipynb', 'options_select.py', 'pass.py', 'PIN_change_options.py', 'Python Professional Training.pdf', 'SIMPLE_BANKING_SYSTEM_IN_PYTHON_WITH_SOURCE_CODE', 'test_new', 'transaction.py', 'Zoom', '__pycache__']\n"
     ]
    }
   ],
   "metadata": {}
  },
  {
   "cell_type": "code",
   "execution_count": 25,
   "source": [
    "os.rmdir(\"test_new\")\r\n",
    "print(os.listdir())"
   ],
   "outputs": [
    {
     "output_type": "stream",
     "name": "stdout",
     "text": [
      "['account_creation.py', 'ayushe.py', 'Ayushi2.py', 'bank.py', 'bank1.py', 'bank2.py', 'banking.py', 'card_apply.py', 'Custom Office Templates', 'demo2.txt', 'demo3.txt', 'demofile.txt', 'desktop.ini', 'Django and Flask uses in Python.pdf', 'exercises.ipynb', 'exercises.py', 'exit.py', 'exrcises.ipynb', 'hw1.py', 'hw2.py', 'hw4.py', 'init.ipynb', 'init1.ipynb', 'main_function.py', 'New folder', 'online_banking.py', 'online_Banking_solution.py', 'online_module-based_banking.py', 'oops.ipynb', 'options_select.py', 'pass.py', 'PIN_change_options.py', 'Python Professional Training.pdf', 'SIMPLE_BANKING_SYSTEM_IN_PYTHON_WITH_SOURCE_CODE', 'transaction.py', 'Zoom', '__pycache__']\n"
     ]
    }
   ],
   "metadata": {}
  },
  {
   "cell_type": "code",
   "execution_count": 26,
   "source": [
    "import os\r\n",
    "print(os.getcwd())"
   ],
   "outputs": [
    {
     "output_type": "stream",
     "name": "stdout",
     "text": [
      "c:\\Users\\user\\OneDrive\\Documents\n"
     ]
    }
   ],
   "metadata": {}
  },
  {
   "cell_type": "code",
   "execution_count": 33,
   "source": [
    "import os\r\n",
    "os.chdir(\"c:\\\\Users\\\\user\\\\OneDrive\\\\Desktop\")\r\n",
    "print(os.getcwd())\r\n",
    "print(os.listdir())"
   ],
   "outputs": [
    {
     "output_type": "stream",
     "name": "stdout",
     "text": [
      "c:\\Users\\user\\OneDrive\\Desktop\n",
      "['desktop.ini', 'PDF Reader for Windows 10.lnk', 'Visual Studio Code.lnk', 'WhatsApp.lnk', 'Zoom.lnk']\n"
     ]
    }
   ],
   "metadata": {}
  },
  {
   "cell_type": "code",
   "execution_count": 41,
   "source": [
    "os.mkdir(\"imo\")\r\n",
    "#print(os.getcwd())\r\n",
    "#print(os.listdir())\r\n",
    "os.makedirs(\"imo1\\\\sub-dir\")\r\n",
    "print(os.listdir())\r\n",
    "\r\n",
    "\r\n"
   ],
   "outputs": [
    {
     "output_type": "stream",
     "name": "stdout",
     "text": [
      "['desktop.ini', 'imo', 'imo1', 'PDF Reader for Windows 10.lnk', 'Visual Studio Code.lnk', 'WhatsApp.lnk', 'Zoom.lnk']\n"
     ]
    }
   ],
   "metadata": {}
  },
  {
   "cell_type": "code",
   "execution_count": 42,
   "source": [
    "#os.rmdir(\"imo\")\r\n",
    "print(os.listdir())"
   ],
   "outputs": [
    {
     "output_type": "stream",
     "name": "stdout",
     "text": [
      "['desktop.ini', 'imo1', 'PDF Reader for Windows 10.lnk', 'Visual Studio Code.lnk', 'WhatsApp.lnk', 'Zoom.lnk']\n"
     ]
    }
   ],
   "metadata": {}
  },
  {
   "cell_type": "code",
   "execution_count": 43,
   "source": [
    "os.removedirs(\"imo1\\\\sub-dir\")\r\n",
    "print(os.listdir())"
   ],
   "outputs": [
    {
     "output_type": "stream",
     "name": "stdout",
     "text": [
      "['desktop.ini', 'PDF Reader for Windows 10.lnk', 'Visual Studio Code.lnk', 'WhatsApp.lnk', 'Zoom.lnk']\n"
     ]
    }
   ],
   "metadata": {}
  },
  {
   "cell_type": "code",
   "execution_count": 44,
   "source": [
    "os.rename(\"Zoom.lnk\", \"Zoom.link\")\r\n",
    "print(os.listdir())"
   ],
   "outputs": [
    {
     "output_type": "stream",
     "name": "stdout",
     "text": [
      "['desktop.ini', 'PDF Reader for Windows 10.lnk', 'Visual Studio Code.lnk', 'WhatsApp.lnk', 'Zoom.link']\n"
     ]
    }
   ],
   "metadata": {}
  },
  {
   "cell_type": "code",
   "execution_count": 45,
   "source": [
    "print(os.stat(\"Zoom.link\"))"
   ],
   "outputs": [
    {
     "output_type": "stream",
     "name": "stdout",
     "text": [
      "os.stat_result(st_mode=33206, st_ino=4503599627720962, st_dev=2928784602, st_nlink=1, st_uid=0, st_gid=0, st_size=1934, st_atime=1627882620, st_mtime=1625493924, st_ctime=1625493924)\n"
     ]
    }
   ],
   "metadata": {}
  },
  {
   "cell_type": "code",
   "execution_count": 47,
   "source": [
    "print(os.stat(\"Zoom.link\").st_size)\r\n",
    "print(os.stat(\"Zoom.link\").st_mtime)"
   ],
   "outputs": [
    {
     "output_type": "stream",
     "name": "stdout",
     "text": [
      "1934\n",
      "1625493924.687096\n"
     ]
    }
   ],
   "metadata": {}
  },
  {
   "cell_type": "code",
   "execution_count": 48,
   "source": [
    "import os\r\n",
    "from datetime import datetime\r\n",
    "modification_time = os.stat(\"Zoom.link\").st_mtime\r\n",
    "print(datetime.fromtimestamp(modification_time))"
   ],
   "outputs": [
    {
     "output_type": "stream",
     "name": "stdout",
     "text": [
      "2021-07-05 20:05:24.687096\n"
     ]
    }
   ],
   "metadata": {}
  },
  {
   "cell_type": "code",
   "execution_count": 52,
   "source": [
    "import os\r\n",
    "from datetime import datetime\r\n",
    "\r\n",
    "for dirpath, dirnames, filenames in os.walk(\"c:\\\\Users\\\\user\\\\OneDrive\\\\\"):\r\n",
    "    print(\"Current Path :\", dirpath)\r\n",
    "    print(\"Directories :\", dirnames)\r\n",
    "    print(\"Files :\",filenames)\r\n",
    "    print()\r\n"
   ],
   "outputs": [
    {
     "output_type": "stream",
     "name": "stdout",
     "text": [
      "Current Path : c:\\Users\\user\\OneDrive\\\n",
      "Directories : ['Desktop', 'Documents', 'Pictures']\n",
      "Files : ['.849C9593-D756-4E56-8D6E-42412F2A707B', 'desktop.ini', 'Getting started with OneDrive.pdf', 'Personal Vault.lnk']\n",
      "\n",
      "Current Path : c:\\Users\\user\\OneDrive\\Desktop\n",
      "Directories : []\n",
      "Files : ['desktop.ini', 'PDF Reader for Windows 10.lnk', 'Visual Studio Code.lnk', 'WhatsApp.lnk', 'Zoom.link']\n",
      "\n",
      "Current Path : c:\\Users\\user\\OneDrive\\Documents\n",
      "Directories : ['Custom Office Templates', 'New folder', 'SIMPLE_BANKING_SYSTEM_IN_PYTHON_WITH_SOURCE_CODE', 'Zoom', '__pycache__']\n",
      "Files : ['account_creation.py', 'ayushe.py', 'Ayushi2.py', 'bank.py', 'bank1.py', 'bank2.py', 'banking.py', 'card_apply.py', 'demo2.txt', 'demo3.txt', 'demofile.txt', 'desktop.ini', 'Django and Flask uses in Python.pdf', 'exercises.ipynb', 'exercises.py', 'exit.py', 'exrcises.ipynb', 'hw1.py', 'hw2.py', 'hw4.py', 'init.ipynb', 'init1.ipynb', 'main_function.py', 'online_banking.py', 'online_Banking_solution.py', 'online_module-based_banking.py', 'oops.ipynb', 'options_select.py', 'pass.py', 'PIN_change_options.py', 'Python Professional Training.pdf', 'transaction.py']\n",
      "\n",
      "Current Path : c:\\Users\\user\\OneDrive\\Documents\\Custom Office Templates\n",
      "Directories : []\n",
      "Files : []\n",
      "\n",
      "Current Path : c:\\Users\\user\\OneDrive\\Documents\\New folder\n",
      "Directories : ['test']\n",
      "Files : []\n",
      "\n",
      "Current Path : c:\\Users\\user\\OneDrive\\Documents\\New folder\\test\n",
      "Directories : []\n",
      "Files : []\n",
      "\n",
      "Current Path : c:\\Users\\user\\OneDrive\\Documents\\SIMPLE_BANKING_SYSTEM_IN_PYTHON_WITH_SOURCE_CODE\n",
      "Directories : ['Simple-Banking-System']\n",
      "Files : []\n",
      "\n",
      "Current Path : c:\\Users\\user\\OneDrive\\Documents\\SIMPLE_BANKING_SYSTEM_IN_PYTHON_WITH_SOURCE_CODE\\Simple-Banking-System\n",
      "Directories : ['.idea']\n",
      "Files : ['BankingSystem.py']\n",
      "\n",
      "Current Path : c:\\Users\\user\\OneDrive\\Documents\\SIMPLE_BANKING_SYSTEM_IN_PYTHON_WITH_SOURCE_CODE\\Simple-Banking-System\\.idea\n",
      "Directories : []\n",
      "Files : ['vcs.xml']\n",
      "\n",
      "Current Path : c:\\Users\\user\\OneDrive\\Documents\\Zoom\n",
      "Directories : []\n",
      "Files : []\n",
      "\n",
      "Current Path : c:\\Users\\user\\OneDrive\\Documents\\__pycache__\n",
      "Directories : []\n",
      "Files : ['bank2.cpython-39.pyc', 'card_apply.cpython-39.pyc', 'options_select.cpython-39.pyc', 'PIN_change_options.cpython-39.pyc', 'transaction.cpython-39.pyc']\n",
      "\n",
      "Current Path : c:\\Users\\user\\OneDrive\\Pictures\n",
      "Directories : ['Camera Roll', 'Saved Pictures', 'Screenshots']\n",
      "Files : ['2.jpeg', 'desktop.ini']\n",
      "\n",
      "Current Path : c:\\Users\\user\\OneDrive\\Pictures\\Camera Roll\n",
      "Directories : []\n",
      "Files : ['desktop.ini', 'WIN_20210628_21_47_35_Pro.jpg']\n",
      "\n",
      "Current Path : c:\\Users\\user\\OneDrive\\Pictures\\Saved Pictures\n",
      "Directories : []\n",
      "Files : ['1.jpg', 'desktop.ini']\n",
      "\n",
      "Current Path : c:\\Users\\user\\OneDrive\\Pictures\\Screenshots\n",
      "Directories : []\n",
      "Files : ['2021-07-07 (1).png', '2021-07-07.png', '2021-07-12.png', 'aiushe.png', 'Ayushe.png', 'ayushe4.png', 'ayushi2.png', 'desktop.ini', 'Screenshot (1).png']\n",
      "\n"
     ]
    }
   ],
   "metadata": {}
  },
  {
   "cell_type": "code",
   "execution_count": 56,
   "source": [
    "print(os.environ.get('Home'))"
   ],
   "outputs": [
    {
     "output_type": "stream",
     "name": "stdout",
     "text": [
      "None\n"
     ]
    }
   ],
   "metadata": {}
  },
  {
   "cell_type": "code",
   "execution_count": 57,
   "source": [
    "os.getcwd()"
   ],
   "outputs": [
    {
     "output_type": "execute_result",
     "data": {
      "text/plain": [
       "'c:\\\\Users\\\\user\\\\OneDrive\\\\Desktop'"
      ]
     },
     "metadata": {},
     "execution_count": 57
    }
   ],
   "metadata": {}
  },
  {
   "cell_type": "code",
   "execution_count": 61,
   "source": [
    "file_path = os.path.join('c:\\\\Users\\\\user\\\\OneDrive\\\\Desktop', 'test.txt')\r\n",
    "print(file_path)\r\n",
    "with open(file_path, 'w') as f:\r\n",
    "    f.write(\"Hello\")\r\n",
    "    #close(file_path)"
   ],
   "outputs": [
    {
     "output_type": "stream",
     "name": "stdout",
     "text": [
      "c:\\Users\\user\\OneDrive\\Desktop\\test.txt\n"
     ]
    }
   ],
   "metadata": {}
  },
  {
   "cell_type": "code",
   "execution_count": 62,
   "source": [
    "os.path.basename(\"\\\\tmp\\\\test,txt\")"
   ],
   "outputs": [
    {
     "output_type": "execute_result",
     "data": {
      "text/plain": [
       "'test,txt'"
      ]
     },
     "metadata": {},
     "execution_count": 62
    }
   ],
   "metadata": {}
  },
  {
   "cell_type": "code",
   "execution_count": 63,
   "source": [
    "os.path.dirname(\"\\\\tmp\\\\test,txt\")"
   ],
   "outputs": [
    {
     "output_type": "execute_result",
     "data": {
      "text/plain": [
       "'\\\\tmp'"
      ]
     },
     "metadata": {},
     "execution_count": 63
    }
   ],
   "metadata": {}
  },
  {
   "cell_type": "code",
   "execution_count": 64,
   "source": [
    "os.path.split(\"\\\\tmp\\\\test,txt\")"
   ],
   "outputs": [
    {
     "output_type": "execute_result",
     "data": {
      "text/plain": [
       "('\\\\tmp', 'test,txt')"
      ]
     },
     "metadata": {},
     "execution_count": 64
    }
   ],
   "metadata": {}
  },
  {
   "cell_type": "code",
   "execution_count": 66,
   "source": [
    "os.path.exists(\"\\\\tmp\\\\test,txt\")"
   ],
   "outputs": [
    {
     "output_type": "execute_result",
     "data": {
      "text/plain": [
       "False"
      ]
     },
     "metadata": {},
     "execution_count": 66
    }
   ],
   "metadata": {}
  },
  {
   "cell_type": "code",
   "execution_count": 67,
   "source": [
    "os.path.isdir(\"\\\\tmp\\\\test,txt\")"
   ],
   "outputs": [
    {
     "output_type": "execute_result",
     "data": {
      "text/plain": [
       "False"
      ]
     },
     "metadata": {},
     "execution_count": 67
    }
   ],
   "metadata": {}
  },
  {
   "cell_type": "code",
   "execution_count": null,
   "source": [
    "os.path.isfile(\"\\\\tmp\\\\test,txt\")"
   ],
   "outputs": [],
   "metadata": {}
  },
  {
   "cell_type": "code",
   "execution_count": 4,
   "source": [
    "import time\r\n",
    "\r\n",
    "while_count = time.time()\r\n",
    "k = 0\r\n",
    "while k < 10:\r\n",
    "    print(\"This is time module\")\r\n",
    "    k += 1\r\n",
    "print(\"While loop took\", time.time() - while_count ,\"seconds\")\r\n",
    "\r\n",
    "for_count = time.time()\r\n",
    "for i in range (10):\r\n",
    "    print(\"Time module in for loop\")\r\n",
    "print(\"For loop took\", time.time() - for_count , \"seconds\")\r\n"
   ],
   "outputs": [
    {
     "output_type": "stream",
     "name": "stdout",
     "text": [
      "This is time module\n",
      "This is time module\n",
      "This is time module\n",
      "This is time module\n",
      "This is time module\n",
      "This is time module\n",
      "This is time module\n",
      "This is time module\n",
      "This is time module\n",
      "This is time module\n",
      "While loop took 0.0020034313201904297 seconds\n",
      "Time module in for loop\n",
      "Time module in for loop\n",
      "Time module in for loop\n",
      "Time module in for loop\n",
      "Time module in for loop\n",
      "Time module in for loop\n",
      "Time module in for loop\n",
      "Time module in for loop\n",
      "Time module in for loop\n",
      "Time module in for loop\n",
      "For loop took 0.0010023117065429688 seconds\n"
     ]
    }
   ],
   "metadata": {}
  },
  {
   "cell_type": "code",
   "execution_count": 2,
   "source": [
    "import numpy as np"
   ],
   "outputs": [],
   "metadata": {}
  },
  {
   "cell_type": "code",
   "execution_count": 1,
   "source": [
    "local_time = time.asctime(time.localtime(time.time()))\r\n",
    "print(local_time)"
   ],
   "outputs": [
    {
     "output_type": "error",
     "ename": "NameError",
     "evalue": "name 'time' is not defined",
     "traceback": [
      "\u001b[1;31m---------------------------------------------------------------------------\u001b[0m",
      "\u001b[1;31mNameError\u001b[0m                                 Traceback (most recent call last)",
      "\u001b[1;32m~\\AppData\\Local\\Temp/ipykernel_2348/1079867054.py\u001b[0m in \u001b[0;36m<module>\u001b[1;34m\u001b[0m\n\u001b[1;32m----> 1\u001b[1;33m \u001b[0mlocal_time\u001b[0m \u001b[1;33m=\u001b[0m \u001b[0mtime\u001b[0m\u001b[1;33m.\u001b[0m\u001b[0masctime\u001b[0m\u001b[1;33m(\u001b[0m\u001b[0mtime\u001b[0m\u001b[1;33m.\u001b[0m\u001b[0mlocaltime\u001b[0m\u001b[1;33m(\u001b[0m\u001b[0mtime\u001b[0m\u001b[1;33m.\u001b[0m\u001b[0mtime\u001b[0m\u001b[1;33m(\u001b[0m\u001b[1;33m)\u001b[0m\u001b[1;33m)\u001b[0m\u001b[1;33m)\u001b[0m\u001b[1;33m\u001b[0m\u001b[1;33m\u001b[0m\u001b[0m\n\u001b[0m\u001b[0;32m      2\u001b[0m \u001b[0mprint\u001b[0m\u001b[1;33m(\u001b[0m\u001b[0mlocal_time\u001b[0m\u001b[1;33m)\u001b[0m\u001b[1;33m\u001b[0m\u001b[1;33m\u001b[0m\u001b[0m\n",
      "\u001b[1;31mNameError\u001b[0m: name 'time' is not defined"
     ]
    }
   ],
   "metadata": {}
  },
  {
   "cell_type": "code",
   "execution_count": 3,
   "source": [
    "arr = np.array([1,2,3,4,5])\r\n",
    "arr.sum()"
   ],
   "outputs": [
    {
     "output_type": "execute_result",
     "data": {
      "text/plain": [
       "15"
      ]
     },
     "metadata": {},
     "execution_count": 3
    }
   ],
   "metadata": {}
  },
  {
   "cell_type": "code",
   "execution_count": 4,
   "source": [
    "arr.mean()"
   ],
   "outputs": [
    {
     "output_type": "execute_result",
     "data": {
      "text/plain": [
       "3.0"
      ]
     },
     "metadata": {},
     "execution_count": 4
    }
   ],
   "metadata": {}
  },
  {
   "cell_type": "code",
   "execution_count": 5,
   "source": [
    "arr = np.array([1,2,3,4,5,6])\r\n",
    "arr"
   ],
   "outputs": [
    {
     "output_type": "execute_result",
     "data": {
      "text/plain": [
       "array([1, 2, 3, 4, 5, 6])"
      ]
     },
     "metadata": {},
     "execution_count": 5
    }
   ],
   "metadata": {}
  },
  {
   "cell_type": "code",
   "execution_count": 7,
   "source": [
    "%%time\r\n",
    "res = []\r\n",
    "for num in range(1,10000):\r\n",
    "    res.append(num**2)\r\n",
    "sum(res)\r\n"
   ],
   "outputs": [
    {
     "output_type": "stream",
     "name": "stdout",
     "text": [
      "Wall time: 11 ms\n"
     ]
    },
    {
     "output_type": "execute_result",
     "data": {
      "text/plain": [
       "333283335000"
      ]
     },
     "metadata": {},
     "execution_count": 7
    }
   ],
   "metadata": {}
  },
  {
   "cell_type": "code",
   "execution_count": 4,
   "source": [
    "%%time\r\n",
    "arr = np.arange(1,10000)\r\n",
    "arr.sum()"
   ],
   "outputs": [
    {
     "output_type": "stream",
     "name": "stdout",
     "text": [
      "Wall time: 0 ns\n"
     ]
    },
    {
     "output_type": "execute_result",
     "data": {
      "text/plain": [
       "49995000"
      ]
     },
     "metadata": {},
     "execution_count": 4
    }
   ],
   "metadata": {}
  },
  {
   "cell_type": "code",
   "execution_count": 5,
   "source": [
    "np.zeros([10])"
   ],
   "outputs": [
    {
     "output_type": "execute_result",
     "data": {
      "text/plain": [
       "array([0., 0., 0., 0., 0., 0., 0., 0., 0., 0.])"
      ]
     },
     "metadata": {},
     "execution_count": 5
    }
   ],
   "metadata": {}
  },
  {
   "cell_type": "code",
   "execution_count": 6,
   "source": [
    "np.ones([10,10])"
   ],
   "outputs": [
    {
     "output_type": "execute_result",
     "data": {
      "text/plain": [
       "array([[1., 1., 1., 1., 1., 1., 1., 1., 1., 1.],\n",
       "       [1., 1., 1., 1., 1., 1., 1., 1., 1., 1.],\n",
       "       [1., 1., 1., 1., 1., 1., 1., 1., 1., 1.],\n",
       "       [1., 1., 1., 1., 1., 1., 1., 1., 1., 1.],\n",
       "       [1., 1., 1., 1., 1., 1., 1., 1., 1., 1.],\n",
       "       [1., 1., 1., 1., 1., 1., 1., 1., 1., 1.],\n",
       "       [1., 1., 1., 1., 1., 1., 1., 1., 1., 1.],\n",
       "       [1., 1., 1., 1., 1., 1., 1., 1., 1., 1.],\n",
       "       [1., 1., 1., 1., 1., 1., 1., 1., 1., 1.],\n",
       "       [1., 1., 1., 1., 1., 1., 1., 1., 1., 1.]])"
      ]
     },
     "metadata": {},
     "execution_count": 6
    }
   ],
   "metadata": {}
  },
  {
   "cell_type": "code",
   "execution_count": 7,
   "source": [
    "np.empty([3,3]) #it takes garbage value"
   ],
   "outputs": [
    {
     "output_type": "execute_result",
     "data": {
      "text/plain": [
       "array([[0.00e+000, 0.00e+000, 0.00e+000],\n",
       "       [0.00e+000, 0.00e+000, 6.76e-321],\n",
       "       [0.00e+000, 0.00e+000, 0.00e+000]])"
      ]
     },
     "metadata": {},
     "execution_count": 7
    }
   ],
   "metadata": {}
  },
  {
   "cell_type": "code",
   "execution_count": 10,
   "source": [
    "np.eye(3) #identical"
   ],
   "outputs": [
    {
     "output_type": "execute_result",
     "data": {
      "text/plain": [
       "array([[1., 0., 0.],\n",
       "       [0., 1., 0.],\n",
       "       [0., 0., 1.]])"
      ]
     },
     "metadata": {},
     "execution_count": 10
    }
   ],
   "metadata": {}
  },
  {
   "cell_type": "code",
   "execution_count": 11,
   "source": [
    "np.ones([10,10,10]).ndim #dimensions"
   ],
   "outputs": [
    {
     "output_type": "execute_result",
     "data": {
      "text/plain": [
       "3"
      ]
     },
     "metadata": {},
     "execution_count": 11
    }
   ],
   "metadata": {}
  },
  {
   "cell_type": "code",
   "execution_count": 12,
   "source": [
    "np.ones([10,10,10]).shape"
   ],
   "outputs": [
    {
     "output_type": "execute_result",
     "data": {
      "text/plain": [
       "(10, 10, 10)"
      ]
     },
     "metadata": {},
     "execution_count": 12
    }
   ],
   "metadata": {}
  },
  {
   "cell_type": "code",
   "execution_count": 14,
   "source": [
    "np.ones([10,10,10], dtype = np.int64).dtype\r\n",
    "dtype('int64')"
   ],
   "outputs": [
    {
     "output_type": "error",
     "ename": "NameError",
     "evalue": "name 'dtype' is not defined",
     "traceback": [
      "\u001b[1;31m---------------------------------------------------------------------------\u001b[0m",
      "\u001b[1;31mNameError\u001b[0m                                 Traceback (most recent call last)",
      "\u001b[1;32m~\\AppData\\Local\\Temp/ipykernel_10208/3968970153.py\u001b[0m in \u001b[0;36m<module>\u001b[1;34m\u001b[0m\n\u001b[0;32m      1\u001b[0m \u001b[0mnp\u001b[0m\u001b[1;33m.\u001b[0m\u001b[0mones\u001b[0m\u001b[1;33m(\u001b[0m\u001b[1;33m[\u001b[0m\u001b[1;36m10\u001b[0m\u001b[1;33m,\u001b[0m\u001b[1;36m10\u001b[0m\u001b[1;33m,\u001b[0m\u001b[1;36m10\u001b[0m\u001b[1;33m]\u001b[0m\u001b[1;33m,\u001b[0m \u001b[0mdtype\u001b[0m \u001b[1;33m=\u001b[0m \u001b[0mnp\u001b[0m\u001b[1;33m.\u001b[0m\u001b[0mint64\u001b[0m\u001b[1;33m)\u001b[0m\u001b[1;33m.\u001b[0m\u001b[0mdtype\u001b[0m\u001b[1;33m\u001b[0m\u001b[1;33m\u001b[0m\u001b[0m\n\u001b[1;32m----> 2\u001b[1;33m \u001b[0mdtype\u001b[0m\u001b[1;33m(\u001b[0m\u001b[1;34m'int64'\u001b[0m\u001b[1;33m)\u001b[0m\u001b[1;33m\u001b[0m\u001b[1;33m\u001b[0m\u001b[0m\n\u001b[0m",
      "\u001b[1;31mNameError\u001b[0m: name 'dtype' is not defined"
     ]
    }
   ],
   "metadata": {}
  },
  {
   "cell_type": "code",
   "execution_count": 15,
   "source": [
    "np.ones([10,10,10]).astype(np.int64).dtype\r\n",
    "dtype('int64')"
   ],
   "outputs": [
    {
     "output_type": "error",
     "ename": "NameError",
     "evalue": "name 'dtype' is not defined",
     "traceback": [
      "\u001b[1;31m---------------------------------------------------------------------------\u001b[0m",
      "\u001b[1;31mNameError\u001b[0m                                 Traceback (most recent call last)",
      "\u001b[1;32m~\\AppData\\Local\\Temp/ipykernel_10208/1893556874.py\u001b[0m in \u001b[0;36m<module>\u001b[1;34m\u001b[0m\n\u001b[0;32m      1\u001b[0m \u001b[0mnp\u001b[0m\u001b[1;33m.\u001b[0m\u001b[0mones\u001b[0m\u001b[1;33m(\u001b[0m\u001b[1;33m[\u001b[0m\u001b[1;36m10\u001b[0m\u001b[1;33m,\u001b[0m\u001b[1;36m10\u001b[0m\u001b[1;33m,\u001b[0m\u001b[1;36m10\u001b[0m\u001b[1;33m]\u001b[0m\u001b[1;33m)\u001b[0m\u001b[1;33m.\u001b[0m\u001b[0mastype\u001b[0m\u001b[1;33m(\u001b[0m\u001b[0mnp\u001b[0m\u001b[1;33m.\u001b[0m\u001b[0mint64\u001b[0m\u001b[1;33m)\u001b[0m\u001b[1;33m.\u001b[0m\u001b[0mdtype\u001b[0m\u001b[1;33m\u001b[0m\u001b[1;33m\u001b[0m\u001b[0m\n\u001b[1;32m----> 2\u001b[1;33m \u001b[0mdtype\u001b[0m\u001b[1;33m(\u001b[0m\u001b[1;34m'int64'\u001b[0m\u001b[1;33m)\u001b[0m\u001b[1;33m\u001b[0m\u001b[1;33m\u001b[0m\u001b[0m\n\u001b[0m",
      "\u001b[1;31mNameError\u001b[0m: name 'dtype' is not defined"
     ]
    }
   ],
   "metadata": {}
  },
  {
   "cell_type": "code",
   "execution_count": 16,
   "source": [
    "arr = np.array([1,2,3,4,5,6,7])\r\n",
    "arr[1:6]"
   ],
   "outputs": [
    {
     "output_type": "execute_result",
     "data": {
      "text/plain": [
       "array([2, 3, 4, 5, 6])"
      ]
     },
     "metadata": {},
     "execution_count": 16
    }
   ],
   "metadata": {}
  },
  {
   "cell_type": "code",
   "execution_count": 1,
   "source": [
    "arr = np.array([\r\n",
    "               [1,2,3,4,5,6],\r\n",
    "               [2,3,4,5,6,7],\r\n",
    "               [3,6,7,8,9,8]])\r\n",
    "arr.shape"
   ],
   "outputs": [
    {
     "output_type": "error",
     "ename": "NameError",
     "evalue": "name 'np' is not defined",
     "traceback": [
      "\u001b[1;31m---------------------------------------------------------------------------\u001b[0m",
      "\u001b[1;31mNameError\u001b[0m                                 Traceback (most recent call last)",
      "\u001b[1;32m~\\AppData\\Local\\Temp/ipykernel_1364/3239418952.py\u001b[0m in \u001b[0;36m<module>\u001b[1;34m\u001b[0m\n\u001b[1;32m----> 1\u001b[1;33m arr = np.array([\n\u001b[0m\u001b[0;32m      2\u001b[0m                \u001b[1;33m[\u001b[0m\u001b[1;36m1\u001b[0m\u001b[1;33m,\u001b[0m\u001b[1;36m2\u001b[0m\u001b[1;33m,\u001b[0m\u001b[1;36m3\u001b[0m\u001b[1;33m,\u001b[0m\u001b[1;36m4\u001b[0m\u001b[1;33m,\u001b[0m\u001b[1;36m5\u001b[0m\u001b[1;33m,\u001b[0m\u001b[1;36m6\u001b[0m\u001b[1;33m]\u001b[0m\u001b[1;33m,\u001b[0m\u001b[1;33m\u001b[0m\u001b[1;33m\u001b[0m\u001b[0m\n\u001b[0;32m      3\u001b[0m                \u001b[1;33m[\u001b[0m\u001b[1;36m2\u001b[0m\u001b[1;33m,\u001b[0m\u001b[1;36m3\u001b[0m\u001b[1;33m,\u001b[0m\u001b[1;36m4\u001b[0m\u001b[1;33m,\u001b[0m\u001b[1;36m5\u001b[0m\u001b[1;33m,\u001b[0m\u001b[1;36m6\u001b[0m\u001b[1;33m,\u001b[0m\u001b[1;36m7\u001b[0m\u001b[1;33m]\u001b[0m\u001b[1;33m,\u001b[0m\u001b[1;33m\u001b[0m\u001b[1;33m\u001b[0m\u001b[0m\n\u001b[0;32m      4\u001b[0m                [3,6,7,8,9,8]])\n\u001b[0;32m      5\u001b[0m \u001b[0marr\u001b[0m\u001b[1;33m.\u001b[0m\u001b[0mshape\u001b[0m\u001b[1;33m\u001b[0m\u001b[1;33m\u001b[0m\u001b[0m\n",
      "\u001b[1;31mNameError\u001b[0m: name 'np' is not defined"
     ]
    }
   ],
   "metadata": {}
  },
  {
   "cell_type": "code",
   "execution_count": 18,
   "source": [
    "# to get the values\r\n",
    "arr[0,1]  #first row is 0 and first colum is 0"
   ],
   "outputs": [
    {
     "output_type": "execute_result",
     "data": {
      "text/plain": [
       "2"
      ]
     },
     "metadata": {},
     "execution_count": 18
    }
   ],
   "metadata": {}
  },
  {
   "cell_type": "code",
   "execution_count": 19,
   "source": [
    "arr[:, 1]   #first row "
   ],
   "outputs": [
    {
     "output_type": "execute_result",
     "data": {
      "text/plain": [
       "array([2, 3, 6])"
      ]
     },
     "metadata": {},
     "execution_count": 19
    }
   ],
   "metadata": {}
  },
  {
   "cell_type": "code",
   "execution_count": 20,
   "source": [
    "arr[1: , 3] #first row will b deducted"
   ],
   "outputs": [
    {
     "output_type": "execute_result",
     "data": {
      "text/plain": [
       "array([5, 8])"
      ]
     },
     "metadata": {},
     "execution_count": 20
    }
   ],
   "metadata": {}
  },
  {
   "cell_type": "code",
   "execution_count": 21,
   "source": [
    "arr[1, :]"
   ],
   "outputs": [
    {
     "output_type": "execute_result",
     "data": {
      "text/plain": [
       "array([2, 3, 4, 5, 6, 7])"
      ]
     },
     "metadata": {},
     "execution_count": 21
    }
   ],
   "metadata": {}
  },
  {
   "cell_type": "code",
   "execution_count": 22,
   "source": [
    "name = \"Bob\"\r\n",
    "arr[(name == \"Bob\"),2:]"
   ],
   "outputs": [
    {
     "output_type": "execute_result",
     "data": {
      "text/plain": [
       "array([[[3, 6, 7, 8, 9, 8]]])"
      ]
     },
     "metadata": {},
     "execution_count": 22
    }
   ],
   "metadata": {}
  },
  {
   "cell_type": "code",
   "execution_count": 23,
   "source": [
    "arr"
   ],
   "outputs": [
    {
     "output_type": "execute_result",
     "data": {
      "text/plain": [
       "array([[1, 2, 3, 4, 5, 6],\n",
       "       [2, 3, 4, 5, 6, 7],\n",
       "       [3, 6, 7, 8, 9, 8]])"
      ]
     },
     "metadata": {},
     "execution_count": 23
    }
   ],
   "metadata": {}
  },
  {
   "cell_type": "code",
   "execution_count": 24,
   "source": [
    "arr[: ,1] = [5,6,7]\r\n",
    "arr"
   ],
   "outputs": [
    {
     "output_type": "execute_result",
     "data": {
      "text/plain": [
       "array([[1, 5, 3, 4, 5, 6],\n",
       "       [2, 6, 4, 5, 6, 7],\n",
       "       [3, 7, 7, 8, 9, 8]])"
      ]
     },
     "metadata": {},
     "execution_count": 24
    }
   ],
   "metadata": {}
  },
  {
   "cell_type": "code",
   "execution_count": 25,
   "source": [
    "arr[2,3] = 9\r\n",
    "arr"
   ],
   "outputs": [
    {
     "output_type": "execute_result",
     "data": {
      "text/plain": [
       "array([[1, 5, 3, 4, 5, 6],\n",
       "       [2, 6, 4, 5, 6, 7],\n",
       "       [3, 7, 7, 9, 9, 8]])"
      ]
     },
     "metadata": {},
     "execution_count": 25
    }
   ],
   "metadata": {}
  },
  {
   "cell_type": "code",
   "execution_count": 26,
   "source": [
    "arr.transpose() #or arr.T()"
   ],
   "outputs": [
    {
     "output_type": "execute_result",
     "data": {
      "text/plain": [
       "array([[1, 2, 3],\n",
       "       [5, 6, 7],\n",
       "       [3, 4, 7],\n",
       "       [4, 5, 9],\n",
       "       [5, 6, 9],\n",
       "       [6, 7, 8]])"
      ]
     },
     "metadata": {},
     "execution_count": 26
    }
   ],
   "metadata": {}
  },
  {
   "cell_type": "code",
   "execution_count": 27,
   "source": [
    "np.sqrt(arr)"
   ],
   "outputs": [
    {
     "output_type": "execute_result",
     "data": {
      "text/plain": [
       "array([[1.        , 2.23606798, 1.73205081, 2.        , 2.23606798,\n",
       "        2.44948974],\n",
       "       [1.41421356, 2.44948974, 2.        , 2.23606798, 2.44948974,\n",
       "        2.64575131],\n",
       "       [1.73205081, 2.64575131, 2.64575131, 3.        , 3.        ,\n",
       "        2.82842712]])"
      ]
     },
     "metadata": {},
     "execution_count": 27
    }
   ],
   "metadata": {}
  },
  {
   "cell_type": "code",
   "execution_count": 28,
   "source": [
    "np.std(arr) #deviation"
   ],
   "outputs": [
    {
     "output_type": "execute_result",
     "data": {
      "text/plain": [
       "2.214570158666083"
      ]
     },
     "metadata": {},
     "execution_count": 28
    }
   ],
   "metadata": {}
  },
  {
   "cell_type": "code",
   "execution_count": 29,
   "source": [
    "arr.max()"
   ],
   "outputs": [
    {
     "output_type": "execute_result",
     "data": {
      "text/plain": [
       "9"
      ]
     },
     "metadata": {},
     "execution_count": 29
    }
   ],
   "metadata": {}
  },
  {
   "cell_type": "code",
   "execution_count": 31,
   "source": [
    "arr = np.array([2,6,4,8,5,9,1]) #it will show the index of the maximum number\r\n",
    "arr.argmax()"
   ],
   "outputs": [
    {
     "output_type": "execute_result",
     "data": {
      "text/plain": [
       "5"
      ]
     },
     "metadata": {},
     "execution_count": 31
    }
   ],
   "metadata": {}
  },
  {
   "cell_type": "code",
   "execution_count": 32,
   "source": [
    "arr > 3"
   ],
   "outputs": [
    {
     "output_type": "execute_result",
     "data": {
      "text/plain": [
       "array([False,  True,  True,  True,  True,  True, False])"
      ]
     },
     "metadata": {},
     "execution_count": 32
    }
   ],
   "metadata": {}
  },
  {
   "cell_type": "code",
   "execution_count": 33,
   "source": [
    "arr[arr >= 3]"
   ],
   "outputs": [
    {
     "output_type": "execute_result",
     "data": {
      "text/plain": [
       "array([6, 4, 8, 5, 9])"
      ]
     },
     "metadata": {},
     "execution_count": 33
    }
   ],
   "metadata": {}
  },
  {
   "cell_type": "code",
   "execution_count": 34,
   "source": [
    "arr.sort()\r\n",
    "arr"
   ],
   "outputs": [
    {
     "output_type": "execute_result",
     "data": {
      "text/plain": [
       "array([1, 2, 4, 5, 6, 8, 9])"
      ]
     },
     "metadata": {},
     "execution_count": 34
    }
   ],
   "metadata": {}
  },
  {
   "cell_type": "code",
   "execution_count": 37,
   "source": [
    "np.random.normal(size=(4,4))"
   ],
   "outputs": [
    {
     "output_type": "execute_result",
     "data": {
      "text/plain": [
       "array([[-1.10632693, -0.46307266,  0.64526393, -1.75160417],\n",
       "       [-1.45592136, -0.52885765, -1.11928525,  0.80182712],\n",
       "       [-1.46181735,  0.77126436, -0.72921652, -0.49560296],\n",
       "       [-0.03624313,  0.34602083,  0.11421484,  0.76299673]])"
      ]
     },
     "metadata": {},
     "execution_count": 37
    }
   ],
   "metadata": {}
  },
  {
   "cell_type": "code",
   "execution_count": 35,
   "source": [
    "np.unique(arr)"
   ],
   "outputs": [
    {
     "output_type": "execute_result",
     "data": {
      "text/plain": [
       "array([1, 2, 4, 5, 6, 8, 9])"
      ]
     },
     "metadata": {},
     "execution_count": 35
    }
   ],
   "metadata": {}
  },
  {
   "cell_type": "code",
   "execution_count": 36,
   "source": [
    "np.in1d(arr,[4,5,6]) #to check the number in list"
   ],
   "outputs": [
    {
     "output_type": "execute_result",
     "data": {
      "text/plain": [
       "array([False, False,  True,  True,  True, False, False])"
      ]
     },
     "metadata": {},
     "execution_count": 36
    }
   ],
   "metadata": {}
  },
  {
   "cell_type": "code",
   "execution_count": 44,
   "source": [
    "\r\n",
    "np.random.shuffle(arr)\r\n",
    "arr"
   ],
   "outputs": [
    {
     "output_type": "execute_result",
     "data": {
      "text/plain": [
       "array([2, 0, 5, 6, 1, 4, 3, 9, 7, 8])"
      ]
     },
     "metadata": {},
     "execution_count": 44
    }
   ],
   "metadata": {}
  },
  {
   "cell_type": "code",
   "execution_count": 41,
   "source": [
    "arr.reshape(2,5)"
   ],
   "outputs": [
    {
     "output_type": "execute_result",
     "data": {
      "text/plain": [
       "array([[9, 3, 0, 7, 8],\n",
       "       [6, 2, 1, 4, 5]])"
      ]
     },
     "metadata": {},
     "execution_count": 41
    }
   ],
   "metadata": {}
  },
  {
   "cell_type": "code",
   "execution_count": 42,
   "source": [
    "arr.reshape(-1,1)"
   ],
   "outputs": [
    {
     "output_type": "execute_result",
     "data": {
      "text/plain": [
       "array([[9],\n",
       "       [3],\n",
       "       [0],\n",
       "       [7],\n",
       "       [8],\n",
       "       [6],\n",
       "       [2],\n",
       "       [1],\n",
       "       [4],\n",
       "       [5]])"
      ]
     },
     "metadata": {},
     "execution_count": 42
    }
   ],
   "metadata": {}
  },
  {
   "cell_type": "code",
   "execution_count": 43,
   "source": [
    "arr.reshape(1,-1)"
   ],
   "outputs": [
    {
     "output_type": "error",
     "ename": "TypeError",
     "evalue": "'tuple' object is not callable",
     "traceback": [
      "\u001b[1;31m---------------------------------------------------------------------------\u001b[0m",
      "\u001b[1;31mTypeError\u001b[0m                                 Traceback (most recent call last)",
      "\u001b[1;32m~\\AppData\\Local\\Temp/ipykernel_10208/1924805163.py\u001b[0m in \u001b[0;36m<module>\u001b[1;34m\u001b[0m\n\u001b[1;32m----> 1\u001b[1;33m \u001b[0marr\u001b[0m\u001b[1;33m.\u001b[0m\u001b[0mshape\u001b[0m\u001b[1;33m(\u001b[0m\u001b[1;36m1\u001b[0m\u001b[1;33m,\u001b[0m\u001b[1;33m-\u001b[0m\u001b[1;36m1\u001b[0m\u001b[1;33m)\u001b[0m\u001b[1;33m\u001b[0m\u001b[1;33m\u001b[0m\u001b[0m\n\u001b[0m",
      "\u001b[1;31mTypeError\u001b[0m: 'tuple' object is not callable"
     ]
    }
   ],
   "metadata": {}
  }
 ],
 "metadata": {
  "orig_nbformat": 4,
  "language_info": {
   "name": "python",
   "version": "3.9.5",
   "mimetype": "text/x-python",
   "codemirror_mode": {
    "name": "ipython",
    "version": 3
   },
   "pygments_lexer": "ipython3",
   "nbconvert_exporter": "python",
   "file_extension": ".py"
  },
  "kernelspec": {
   "name": "python3",
   "display_name": "Python 3.9.5 64-bit"
  },
  "interpreter": {
   "hash": "247ab06e135bb35fa78c5eff31b2a9a0050dcb5fb773c2631d2a29ac689eeccb"
  }
 },
 "nbformat": 4,
 "nbformat_minor": 2
}