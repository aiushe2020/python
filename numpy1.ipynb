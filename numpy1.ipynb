{
 "cells": [
  {
   "cell_type": "code",
   "execution_count": 1,
   "source": [
    "import numpy"
   ],
   "outputs": [],
   "metadata": {}
  },
  {
   "cell_type": "code",
   "execution_count": 2,
   "source": [
    "import numpy as np\r\n",
    "arr = np.array([1,2,3,4,5])\r\n",
    "arr"
   ],
   "outputs": [
    {
     "output_type": "execute_result",
     "data": {
      "text/plain": [
       "array([1, 2, 3, 4, 5])"
      ]
     },
     "metadata": {},
     "execution_count": 2
    }
   ],
   "metadata": {}
  },
  {
   "cell_type": "code",
   "execution_count": null,
   "source": [
    "print(type(arr))"
   ],
   "outputs": [],
   "metadata": {}
  },
  {
   "cell_type": "code",
   "execution_count": 3,
   "source": [
    "import numpy as np\r\n",
    "print(np.__version__)"
   ],
   "outputs": [
    {
     "output_type": "stream",
     "name": "stdout",
     "text": [
      "1.21.1\n"
     ]
    }
   ],
   "metadata": {}
  },
  {
   "cell_type": "code",
   "execution_count": 2,
   "source": [
    "import numpy as np\r\n",
    "arr = np.array([42])\r\n",
    "arr"
   ],
   "outputs": [
    {
     "output_type": "execute_result",
     "data": {
      "text/plain": [
       "array([42])"
      ]
     },
     "metadata": {},
     "execution_count": 2
    }
   ],
   "metadata": {}
  },
  {
   "cell_type": "code",
   "execution_count": 35,
   "source": [
    "import numpy as np\r\n",
    "arr = np.array([1,2,3,4])\r\n",
    "arr"
   ],
   "outputs": [
    {
     "output_type": "execute_result",
     "data": {
      "text/plain": [
       "array([1, 2, 3, 4])"
      ]
     },
     "metadata": {},
     "execution_count": 35
    }
   ],
   "metadata": {}
  },
  {
   "cell_type": "code",
   "execution_count": 4,
   "source": [
    "arr = np.array([[1,2,3],[4,5,6]])\r\n",
    "arr"
   ],
   "outputs": [
    {
     "output_type": "execute_result",
     "data": {
      "text/plain": [
       "array([[1, 2, 3],\n",
       "       [4, 5, 6]])"
      ]
     },
     "metadata": {},
     "execution_count": 4
    }
   ],
   "metadata": {}
  },
  {
   "cell_type": "code",
   "execution_count": 5,
   "source": [
    "arr = np.array([[1,2,3],[4,5,6],[7,8,9]])\r\n",
    "arr"
   ],
   "outputs": [
    {
     "output_type": "execute_result",
     "data": {
      "text/plain": [
       "array([[1, 2, 3],\n",
       "       [4, 5, 6],\n",
       "       [7, 8, 9]])"
      ]
     },
     "metadata": {},
     "execution_count": 5
    }
   ],
   "metadata": {}
  },
  {
   "cell_type": "code",
   "execution_count": 6,
   "source": [
    "a = np.array([42])\r\n",
    "b = np.array([1,2,3])\r\n",
    "c = np.array([[1,2,3],[4,5,6]])\r\n",
    "d = np.array([[1,2,3],[4,5,6],[7,8,9]])\r\n",
    "e = np.array([[[1,2,3],[4,5,6]], [[1,2,3],[4,5,6]]])\r\n",
    "print(a.ndim)\r\n",
    "print(b.ndim)\r\n",
    "print(c.ndim)\r\n",
    "print(d.ndim)\r\n",
    "print(e.ndim)"
   ],
   "outputs": [
    {
     "output_type": "stream",
     "name": "stdout",
     "text": [
      "1\n",
      "1\n",
      "2\n",
      "2\n",
      "3\n"
     ]
    }
   ],
   "metadata": {}
  },
  {
   "cell_type": "code",
   "execution_count": 12,
   "source": [
    "arr = np.array([1,2,3,4] , ndmin = 5)\r\n",
    "\r\n",
    "print(arr)\r\n",
    "print(\"number of dimensions :\", arr.ndim)"
   ],
   "outputs": [
    {
     "output_type": "stream",
     "name": "stdout",
     "text": [
      "[[[[[1 2 3 4]]]]]\n",
      "number of dimensions : 5\n"
     ]
    }
   ],
   "metadata": {}
  },
  {
   "cell_type": "code",
   "execution_count": 15,
   "source": [
    "arr = np.array([1,2,3,4])\r\n",
    "print(arr[2])"
   ],
   "outputs": [
    {
     "output_type": "stream",
     "name": "stdout",
     "text": [
      "3\n"
     ]
    }
   ],
   "metadata": {}
  },
  {
   "cell_type": "code",
   "execution_count": 26,
   "source": [
    "arr = np.array([\r\n",
    "    [1,2,3,4,5,6],\r\n",
    "    [4,5,6,8,2,3],\r\n",
    "    [7,8,6,9,7,1]])\r\n",
    "arr.ndim"
   ],
   "outputs": [
    {
     "output_type": "execute_result",
     "data": {
      "text/plain": [
       "2"
      ]
     },
     "metadata": {},
     "execution_count": 26
    }
   ],
   "metadata": {}
  },
  {
   "cell_type": "code",
   "execution_count": 23,
   "source": [
    "print(arr[2,1])"
   ],
   "outputs": [
    {
     "output_type": "stream",
     "name": "stdout",
     "text": [
      "8\n"
     ]
    }
   ],
   "metadata": {}
  },
  {
   "cell_type": "code",
   "execution_count": 28,
   "source": [
    "\r\n",
    "arr = np.array([[[1, 2, 3], [4, 5, 6]], [[7, 8, 9], [10, 11, 12]]])\r\n",
    "print(arr.ndim)\r\n",
    "print(arr)"
   ],
   "outputs": [
    {
     "output_type": "stream",
     "name": "stdout",
     "text": [
      "3\n",
      "[[[ 1  2  3]\n",
      "  [ 4  5  6]]\n",
      "\n",
      " [[ 7  8  9]\n",
      "  [10 11 12]]]\n"
     ]
    }
   ],
   "metadata": {}
  },
  {
   "cell_type": "code",
   "execution_count": 39,
   "source": [
    "arr = np.array([[[1,2,3,4,5,6],[2,3,4,5,6,7]],[[2,5,4,6,7,8],[4,5,2,3,1,9]],[[4,2,6,5,1,7],[8,4,1,2,6,7]],[[6,4,1,2,8,4],[5,6,7,1,3,4]]])  #3D\r\n",
    "arr"
   ],
   "outputs": [
    {
     "output_type": "execute_result",
     "data": {
      "text/plain": [
       "array([[[1, 2, 3, 4, 5, 6],\n",
       "        [2, 3, 4, 5, 6, 7]],\n",
       "\n",
       "       [[2, 5, 4, 6, 7, 8],\n",
       "        [4, 5, 2, 3, 1, 9]],\n",
       "\n",
       "       [[4, 2, 6, 5, 1, 7],\n",
       "        [8, 4, 1, 2, 6, 7]],\n",
       "\n",
       "       [[6, 4, 1, 2, 8, 4],\n",
       "        [5, 6, 7, 1, 3, 4]]])"
      ]
     },
     "metadata": {},
     "execution_count": 39
    }
   ],
   "metadata": {}
  },
  {
   "cell_type": "code",
   "execution_count": 49,
   "source": [
    "import numpy as np\r\n",
    "\r\n",
    "arr = np.array([[[1, 2, 3], [4, 5, 6]], [[7, 8, 9], [10, 11, 12]],[[4,6,8],[6,1,3]]])\r\n",
    "print(arr)\r\n",
    "#print 11 of the second array\r\n",
    "print(arr[1]) #calls the second array\r\n",
    "print(arr[1][1]) #calls the second of the selected array\r\n",
    "print(arr[1][1][1])\r\n",
    "print(arr[1][1][-1])"
   ],
   "outputs": [
    {
     "output_type": "stream",
     "name": "stdout",
     "text": [
      "[[[ 1  2  3]\n",
      "  [ 4  5  6]]\n",
      "\n",
      " [[ 7  8  9]\n",
      "  [10 11 12]]\n",
      "\n",
      " [[ 4  6  8]\n",
      "  [ 6  1  3]]]\n",
      "[[ 7  8  9]\n",
      " [10 11 12]]\n",
      "[10 11 12]\n",
      "11\n",
      "12\n"
     ]
    }
   ],
   "metadata": {}
  },
  {
   "cell_type": "code",
   "execution_count": 61,
   "source": [
    "import numpy as np\r\n",
    "arr = np.array([1,2,3,4,5,6])\r\n",
    "arr[2:7]"
   ],
   "outputs": [
    {
     "output_type": "execute_result",
     "data": {
      "text/plain": [
       "array([3, 4, 5, 6])"
      ]
     },
     "metadata": {},
     "execution_count": 61
    }
   ],
   "metadata": {}
  },
  {
   "cell_type": "code",
   "execution_count": 56,
   "source": [
    "arr[2:]"
   ],
   "outputs": [
    {
     "output_type": "execute_result",
     "data": {
      "text/plain": [
       "array([3, 4, 5, 6])"
      ]
     },
     "metadata": {},
     "execution_count": 56
    }
   ],
   "metadata": {}
  },
  {
   "cell_type": "code",
   "execution_count": 57,
   "source": [
    "arr[:5]"
   ],
   "outputs": [
    {
     "output_type": "execute_result",
     "data": {
      "text/plain": [
       "array([1, 2, 3, 4, 5])"
      ]
     },
     "metadata": {},
     "execution_count": 57
    }
   ],
   "metadata": {}
  },
  {
   "cell_type": "code",
   "execution_count": 59,
   "source": [
    "arr[-4:-1] #neg index:from end index starts -1, but excludes the last index like others"
   ],
   "outputs": [
    {
     "output_type": "execute_result",
     "data": {
      "text/plain": [
       "array([3, 4, 5])"
      ]
     },
     "metadata": {},
     "execution_count": 59
    }
   ],
   "metadata": {}
  },
  {
   "cell_type": "code",
   "execution_count": 60,
   "source": [
    "arr = np.array([2,3,4,6,5,7,9,1])\r\n",
    "arr[1:6:2] #start:end:step"
   ],
   "outputs": [
    {
     "output_type": "execute_result",
     "data": {
      "text/plain": [
       "array([3, 6, 7])"
      ]
     },
     "metadata": {},
     "execution_count": 60
    }
   ],
   "metadata": {}
  },
  {
   "cell_type": "code",
   "execution_count": 62,
   "source": [
    "arr[::2] #returns every element with 2 difference"
   ],
   "outputs": [
    {
     "output_type": "execute_result",
     "data": {
      "text/plain": [
       "array([1, 3, 5])"
      ]
     },
     "metadata": {},
     "execution_count": 62
    }
   ],
   "metadata": {}
  },
  {
   "cell_type": "code",
   "execution_count": 63,
   "source": [
    "arr = np.array([[2,3,5,6,4],[8,7,3,6,5]])\r\n",
    "arr[1, 1:4] #print from second array from 1 to 4 indx"
   ],
   "outputs": [
    {
     "output_type": "execute_result",
     "data": {
      "text/plain": [
       "array([7, 3, 6])"
      ]
     },
     "metadata": {},
     "execution_count": 63
    }
   ],
   "metadata": {}
  },
  {
   "cell_type": "code",
   "execution_count": 66,
   "source": [
    "arr[0:2, 3]  #from both array print 3rd index"
   ],
   "outputs": [
    {
     "output_type": "execute_result",
     "data": {
      "text/plain": [
       "array([6, 6])"
      ]
     },
     "metadata": {},
     "execution_count": 66
    }
   ],
   "metadata": {}
  },
  {
   "cell_type": "code",
   "execution_count": 69,
   "source": [
    "arr[0:2, 1:4]"
   ],
   "outputs": [
    {
     "output_type": "execute_result",
     "data": {
      "text/plain": [
       "array([[3, 5, 6],\n",
       "       [7, 3, 6]])"
      ]
     },
     "metadata": {},
     "execution_count": 69
    }
   ],
   "metadata": {}
  },
  {
   "cell_type": "code",
   "execution_count": 70,
   "source": [
    "arr = np.array([10, 15, 20, 25, 30, 35, 40])\r\n",
    "\r\n",
    "print(arr[2:5])"
   ],
   "outputs": [
    {
     "output_type": "stream",
     "name": "stdout",
     "text": [
      "[20 25 30]\n"
     ]
    }
   ],
   "metadata": {}
  },
  {
   "cell_type": "code",
   "execution_count": 71,
   "source": [
    "import numpy as np\r\n",
    "arr = np.array([2,6,4,8,5])\r\n",
    "arr.dtype"
   ],
   "outputs": [
    {
     "output_type": "execute_result",
     "data": {
      "text/plain": [
       "dtype('int32')"
      ]
     },
     "metadata": {},
     "execution_count": 71
    }
   ],
   "metadata": {}
  },
  {
   "cell_type": "code",
   "execution_count": 73,
   "source": [
    "arr = np.array(['banana','cherry','kola'])\r\n",
    "arr.dtype"
   ],
   "outputs": [
    {
     "output_type": "execute_result",
     "data": {
      "text/plain": [
       "dtype('<U6')"
      ]
     },
     "metadata": {},
     "execution_count": 73
    }
   ],
   "metadata": {}
  },
  {
   "cell_type": "code",
   "execution_count": 76,
   "source": [
    "arr = np.array([2,5,9,7], dtype = 'S')\r\n",
    "arr\r\n"
   ],
   "outputs": [
    {
     "output_type": "execute_result",
     "data": {
      "text/plain": [
       "array([b'2', b'5', b'9', b'7'], dtype='|S1')"
      ]
     },
     "metadata": {},
     "execution_count": 76
    }
   ],
   "metadata": {}
  },
  {
   "cell_type": "code",
   "execution_count": 78,
   "source": [
    "arr = np.array([6,1,4,7], dtype = 'i4') #array function allow a parameter in which u can define dtype\r\n",
    "arr.dtype"
   ],
   "outputs": [
    {
     "output_type": "execute_result",
     "data": {
      "text/plain": [
       "dtype('int32')"
      ]
     },
     "metadata": {},
     "execution_count": 78
    }
   ],
   "metadata": {}
  },
  {
   "cell_type": "code",
   "execution_count": 80,
   "source": [
    "import numpy as np\r\n",
    "arr = np.array([1.6,5.2,9.4])\r\n",
    "\r\n",
    "newarr = arr.astype('i') # astype() func makes a copy of the array and change it to other datatypes.it also allows a parameter\r\n",
    "print(arr)\r\n",
    "print(newarr.dtype)"
   ],
   "outputs": [
    {
     "output_type": "stream",
     "name": "stdout",
     "text": [
      "[1.6 5.2 9.4]\n",
      "int32\n"
     ]
    }
   ],
   "metadata": {}
  },
  {
   "cell_type": "code",
   "execution_count": 81,
   "source": [
    "arr = np.array([2.6,5.1,9.6])\r\n",
    "newarr = arr.astype(int)\r\n",
    "print(arr)\r\n",
    "print(newarr)\r\n",
    "print(newarr.dtype)"
   ],
   "outputs": [
    {
     "output_type": "stream",
     "name": "stdout",
     "text": [
      "[2.6 5.1 9.6]\n",
      "[2 5 9]\n",
      "int32\n"
     ]
    }
   ],
   "metadata": {}
  },
  {
   "cell_type": "code",
   "execution_count": 82,
   "source": [
    "arr = np.array([2.6,4.2,8.6])\r\n",
    "newarr = arr.astype(bool)\r\n",
    "print(arr)\r\n",
    "print(newarr)\r\n",
    "print(newarr.dtype)"
   ],
   "outputs": [
    {
     "output_type": "stream",
     "name": "stdout",
     "text": [
      "[2.6 4.2 8.6]\n",
      "[ True  True  True]\n",
      "bool\n"
     ]
    }
   ],
   "metadata": {}
  },
  {
   "cell_type": "code",
   "execution_count": 2,
   "source": [
    "import numpy as np\r\n",
    "arr = np.array([1,5,6,7,9])\r\n",
    "newarr = arr.copy()  #copy owns the data and any changes made to the copy will not affect original array\r\n",
    "arr[0] = 24\r\n",
    "\r\n",
    "print(arr)\r\n",
    "print(newarr)"
   ],
   "outputs": [
    {
     "output_type": "stream",
     "name": "stdout",
     "text": [
      "[24  5  6  7  9]\n",
      "[1 5 6 7 9]\n"
     ]
    }
   ],
   "metadata": {}
  },
  {
   "cell_type": "code",
   "execution_count": 5,
   "source": [
    "arr = np.array([2,6,7,4,3,1,9])\r\n",
    "newarr = arr.copy()\r\n",
    "arr[4]= 21\r\n",
    "print(arr)\r\n",
    "print(newarr)"
   ],
   "outputs": [
    {
     "output_type": "stream",
     "name": "stdout",
     "text": [
      "[ 2  6  7  4 21  1  9]\n",
      "[2 6 7 4 3 1 9]\n"
     ]
    }
   ],
   "metadata": {}
  },
  {
   "cell_type": "code",
   "execution_count": 6,
   "source": [
    "arr = np.array([5,3,1,7,4,6])\r\n",
    "newarr = arr.view() #The view does not own the data and any changes made to the view will affect the original array\r\n",
    "arr[0] = 89\r\n",
    "print(arr)\r\n",
    "print(newarr)"
   ],
   "outputs": [
    {
     "output_type": "stream",
     "name": "stdout",
     "text": [
      "[89  3  1  7  4  6]\n",
      "[89  3  1  7  4  6]\n"
     ]
    }
   ],
   "metadata": {}
  },
  {
   "cell_type": "code",
   "execution_count": 7,
   "source": [
    "arr = np.array([5,3,1,2,9,7])\r\n",
    "x = arr.copy()  # copy owns the data. numpy has attribute 'base' which returns 'none' if it owns the data\r\n",
    "y = arr.view()  # view doesntown the data . so 'base' returns the original data\r\n",
    "\r\n",
    "print(x.base)\r\n",
    "print(y.base)"
   ],
   "outputs": [
    {
     "output_type": "stream",
     "name": "stdout",
     "text": [
      "None\n",
      "[5 3 1 2 9 7]\n"
     ]
    }
   ],
   "metadata": {}
  },
  {
   "cell_type": "code",
   "execution_count": 9,
   "source": [
    "** arr = np.array([2,6,7,80], ndmin= 5) \r\n",
    "print(arr)  # ndmin defines the dimensions and shape represents dimensions & elements\r\n",
    "print(arr.shape)\r\n"
   ],
   "outputs": [
    {
     "output_type": "stream",
     "name": "stdout",
     "text": [
      "[[[[[ 2  6  7 80]]]]]\n",
      "(1, 1, 1, 1, 4)\n"
     ]
    }
   ],
   "metadata": {}
  },
  {
   "cell_type": "code",
   "execution_count": 11,
   "source": [
    "arr = np.array([6,2,7,3,4], ndmin= 6)\r\n",
    "print(arr)\r\n",
    "print(arr.shape)"
   ],
   "outputs": [
    {
     "output_type": "stream",
     "name": "stdout",
     "text": [
      "[[[[[[6 2 7 3 4]]]]]]\n",
      "(1, 1, 1, 1, 1, 5)\n"
     ]
    }
   ],
   "metadata": {}
  },
  {
   "cell_type": "code",
   "execution_count": 12,
   "source": [
    "arr = np.array([1,2,3,4,5,6,7,8,9,10,11,12])\r\n",
    "newarr = arr.reshape(3,4) # or (4,3) reshape from 1-D to 2-D\r\n",
    "print(newarr)"
   ],
   "outputs": [
    {
     "output_type": "stream",
     "name": "stdout",
     "text": [
      "[[ 1  2  3  4]\n",
      " [ 5  6  7  8]\n",
      " [ 9 10 11 12]]\n"
     ]
    }
   ],
   "metadata": {}
  },
  {
   "cell_type": "code",
   "execution_count": 14,
   "source": [
    "arr = np.array([[1,2,3,4,5,6,7],[8,9,10,11,12]])\r\n",
    "newarr = arr.reshape(-1) # -1 makes 2-d into 1D\r\n",
    "print(newarr)"
   ],
   "outputs": [
    {
     "output_type": "stream",
     "name": "stdout",
     "text": [
      "[list([1, 2, 3, 4, 5, 6, 7]) list([8, 9, 10, 11, 12])]\n"
     ]
    },
    {
     "output_type": "stream",
     "name": "stderr",
     "text": [
      "C:\\Users\\user\\AppData\\Local\\Temp/ipykernel_5808/1836131191.py:1: VisibleDeprecationWarning: Creating an ndarray from ragged nested sequences (which is a list-or-tuple of lists-or-tuples-or ndarrays with different lengths or shapes) is deprecated. If you meant to do this, you must specify 'dtype=object' when creating the ndarray.\n",
      "  arr = np.array([[1,2,3,4,5,6,7],[8,9,10,11,12]])\n"
     ]
    }
   ],
   "metadata": {}
  },
  {
   "cell_type": "code",
   "execution_count": 3,
   "source": [
    "arr = np.array([1,3,5,7,6,9,4,3,45,4,65,21])\r\n",
    "newarr = arr.reshape(3,2,2) #The outermost dimension will have 3 arrays that contains 2 arrays, each with 2 elements:\r\n",
    "newarr\r\n"
   ],
   "outputs": [
    {
     "output_type": "execute_result",
     "data": {
      "text/plain": [
       "array([[[ 1,  3],\n",
       "        [ 5,  7]],\n",
       "\n",
       "       [[ 6,  9],\n",
       "        [ 4,  3]],\n",
       "\n",
       "       [[45,  4],\n",
       "        [65, 21]]])"
      ]
     },
     "metadata": {},
     "execution_count": 3
    }
   ],
   "metadata": {}
  },
  {
   "cell_type": "code",
   "execution_count": 20,
   "source": [
    "arr = np.array([1,3,5,7,6,9,4,3,45,4,65,21])\r\n",
    "newarr = arr.reshape(2,6)\r\n",
    "newarr"
   ],
   "outputs": [
    {
     "output_type": "execute_result",
     "data": {
      "text/plain": [
       "array([[ 1,  3,  5,  7,  6,  9],\n",
       "       [ 4,  3, 45,  4, 65, 21]])"
      ]
     },
     "metadata": {},
     "execution_count": 20
    }
   ],
   "metadata": {}
  },
  {
   "cell_type": "code",
   "execution_count": 22,
   "source": [
    "newarr = arr.reshape(6,2)\r\n",
    "newarr"
   ],
   "outputs": [
    {
     "output_type": "execute_result",
     "data": {
      "text/plain": [
       "array([ 1,  3,  5,  7,  6,  9,  4,  3, 45,  4, 65, 21])"
      ]
     },
     "metadata": {},
     "execution_count": 22
    }
   ],
   "metadata": {}
  },
  {
   "cell_type": "code",
   "execution_count": 9,
   "source": [
    "arr = np.array([1,3,5,7,6,9,4,3,45,4,65,21,41,25])\r\n",
    "newarr = arr.reshape(3,2,-1)\r\n",
    "newarr"
   ],
   "outputs": [
    {
     "output_type": "error",
     "ename": "ValueError",
     "evalue": "cannot reshape array of size 14 into shape (3,2,newaxis)",
     "traceback": [
      "\u001b[1;31m---------------------------------------------------------------------------\u001b[0m",
      "\u001b[1;31mValueError\u001b[0m                                Traceback (most recent call last)",
      "\u001b[1;32m~\\AppData\\Local\\Temp/ipykernel_4064/2671567990.py\u001b[0m in \u001b[0;36m<module>\u001b[1;34m\u001b[0m\n\u001b[0;32m      1\u001b[0m \u001b[0marr\u001b[0m \u001b[1;33m=\u001b[0m \u001b[0mnp\u001b[0m\u001b[1;33m.\u001b[0m\u001b[0marray\u001b[0m\u001b[1;33m(\u001b[0m\u001b[1;33m[\u001b[0m\u001b[1;36m1\u001b[0m\u001b[1;33m,\u001b[0m\u001b[1;36m3\u001b[0m\u001b[1;33m,\u001b[0m\u001b[1;36m5\u001b[0m\u001b[1;33m,\u001b[0m\u001b[1;36m7\u001b[0m\u001b[1;33m,\u001b[0m\u001b[1;36m6\u001b[0m\u001b[1;33m,\u001b[0m\u001b[1;36m9\u001b[0m\u001b[1;33m,\u001b[0m\u001b[1;36m4\u001b[0m\u001b[1;33m,\u001b[0m\u001b[1;36m3\u001b[0m\u001b[1;33m,\u001b[0m\u001b[1;36m45\u001b[0m\u001b[1;33m,\u001b[0m\u001b[1;36m4\u001b[0m\u001b[1;33m,\u001b[0m\u001b[1;36m65\u001b[0m\u001b[1;33m,\u001b[0m\u001b[1;36m21\u001b[0m\u001b[1;33m,\u001b[0m\u001b[1;36m41\u001b[0m\u001b[1;33m,\u001b[0m\u001b[1;36m25\u001b[0m\u001b[1;33m]\u001b[0m\u001b[1;33m)\u001b[0m\u001b[1;33m\u001b[0m\u001b[1;33m\u001b[0m\u001b[0m\n\u001b[1;32m----> 2\u001b[1;33m \u001b[0mnewarr\u001b[0m \u001b[1;33m=\u001b[0m \u001b[0marr\u001b[0m\u001b[1;33m.\u001b[0m\u001b[0mreshape\u001b[0m\u001b[1;33m(\u001b[0m\u001b[1;36m3\u001b[0m\u001b[1;33m,\u001b[0m\u001b[1;36m2\u001b[0m\u001b[1;33m,\u001b[0m\u001b[1;33m-\u001b[0m\u001b[1;36m1\u001b[0m\u001b[1;33m)\u001b[0m\u001b[1;33m\u001b[0m\u001b[1;33m\u001b[0m\u001b[0m\n\u001b[0m\u001b[0;32m      3\u001b[0m \u001b[0mnewarr\u001b[0m\u001b[1;33m\u001b[0m\u001b[1;33m\u001b[0m\u001b[0m\n",
      "\u001b[1;31mValueError\u001b[0m: cannot reshape array of size 14 into shape (3,2,newaxis)"
     ]
    }
   ],
   "metadata": {}
  },
  {
   "cell_type": "code",
   "execution_count": 5,
   "source": [
    "arr = np.array([1,3,5,7,6,9,4,3,45,4,65,21,41,25,64,29])\r\n",
    "newarr = arr.reshape(4,2,2)\r\n",
    "newarr"
   ],
   "outputs": [
    {
     "output_type": "execute_result",
     "data": {
      "text/plain": [
       "array([[[ 1,  3],\n",
       "        [ 5,  7]],\n",
       "\n",
       "       [[ 6,  9],\n",
       "        [ 4,  3]],\n",
       "\n",
       "       [[45,  4],\n",
       "        [65, 21]],\n",
       "\n",
       "       [[41, 25],\n",
       "        [64, 29]]])"
      ]
     },
     "metadata": {},
     "execution_count": 5
    }
   ],
   "metadata": {}
  },
  {
   "cell_type": "code",
   "execution_count": 7,
   "source": [
    "arr = np.array([1,3,5,7,6,9,4,3,45,4,65,21,41,25,56,75])\r\n",
    "newarr = arr.reshape(2,8) #The example above returns the original array, so it is a view but why didnt show 2D?\r\n",
    "print(newarr.base)"
   ],
   "outputs": [
    {
     "output_type": "stream",
     "name": "stdout",
     "text": [
      "[ 1  3  5  7  6  9  4  3 45  4 65 21 41 25 56 75]\n"
     ]
    }
   ],
   "metadata": {}
  },
  {
   "cell_type": "code",
   "execution_count": 11,
   "source": [
    "import numpy as np\r\n",
    "arr = np.array([2,6,7,9,14,6,59,32])\r\n",
    "newarr = arr.reshape(2,-1,2) # when u dont know any one dimensions, use(-1)\r\n",
    "newarr\r\n"
   ],
   "outputs": [
    {
     "output_type": "execute_result",
     "data": {
      "text/plain": [
       "array([[[ 2,  6],\n",
       "        [ 7,  9]],\n",
       "\n",
       "       [[14,  6],\n",
       "        [59, 32]]])"
      ]
     },
     "metadata": {},
     "execution_count": 11
    }
   ],
   "metadata": {}
  },
  {
   "cell_type": "code",
   "execution_count": 12,
   "source": [
    "arr = np.array([[1,2,3],[8,9,7]])\r\n",
    "newarr = arr.reshape(-1) # to convert multidimensional array into 1D array, use -1\r\n",
    "newarr"
   ],
   "outputs": [
    {
     "output_type": "execute_result",
     "data": {
      "text/plain": [
       "array([1, 2, 3, 8, 9, 7])"
      ]
     },
     "metadata": {},
     "execution_count": 12
    }
   ],
   "metadata": {}
  },
  {
   "cell_type": "code",
   "execution_count": 13,
   "source": [
    "arr = np.array([2,6,7,4])\r\n",
    "for x in arr: #iteration\r\n",
    "    print(x)"
   ],
   "outputs": [
    {
     "output_type": "stream",
     "name": "stdout",
     "text": [
      "2\n",
      "6\n",
      "7\n",
      "4\n"
     ]
    }
   ],
   "metadata": {}
  },
  {
   "cell_type": "code",
   "execution_count": 14,
   "source": [
    "arr = np.array([[1,6,7],[6,4,2]])\r\n",
    "for x in arr:  # it will show the values in rows\r\n",
    "    print(x)"
   ],
   "outputs": [
    {
     "output_type": "stream",
     "name": "stdout",
     "text": [
      "[1 6 7]\n",
      "[6 4 2]\n"
     ]
    }
   ],
   "metadata": {}
  },
  {
   "cell_type": "code",
   "execution_count": 16,
   "source": [
    "arr = np.array([[1,6,7],[6,4,2]])\r\n",
    "for x in arr:  #To return the actual values, the scalars, we have to iterate the arrays in each dimension \r\n",
    " for y in x:\r\n",
    "        print(y)"
   ],
   "outputs": [
    {
     "output_type": "stream",
     "name": "stdout",
     "text": [
      "1\n",
      "6\n",
      "7\n",
      "6\n",
      "4\n",
      "2\n"
     ]
    }
   ],
   "metadata": {}
  },
  {
   "cell_type": "code",
   "execution_count": 19,
   "source": [
    "arr = np.array([[[1,2,3],[4,6,8]],[[5,9,7],[6,4,7]]])\r\n",
    "for x in arr:\r\n",
    "    print(\"x represents 2D array\")\r\n",
    "    print(x)"
   ],
   "outputs": [
    {
     "output_type": "stream",
     "name": "stdout",
     "text": [
      "x represents 2D array\n",
      "[[1 2 3]\n",
      " [4 6 8]]\n",
      "[1 2 3]\n",
      "[4 6 8]\n",
      "x represents 2D array\n",
      "[[5 9 7]\n",
      " [6 4 7]]\n",
      "[5 9 7]\n",
      "[6 4 7]\n"
     ]
    }
   ],
   "metadata": {}
  },
  {
   "cell_type": "code",
   "execution_count": 21,
   "source": [
    "arr = np.array([[[1,2,3],[4,6,8]],[[5,9,7],[6,4,7]]])\r\n",
    "for x in arr: # getting the scalar values in 3d array\r\n",
    "    for y in x:\r\n",
    "        for z in y:\r\n",
    "            print(z)"
   ],
   "outputs": [
    {
     "output_type": "stream",
     "name": "stdout",
     "text": [
      "1\n",
      "2\n",
      "3\n",
      "4\n",
      "6\n",
      "8\n",
      "5\n",
      "9\n",
      "7\n",
      "6\n",
      "4\n",
      "7\n"
     ]
    }
   ],
   "metadata": {}
  },
  {
   "cell_type": "code",
   "execution_count": 22,
   "source": [
    "arr = np.array([[[1,2,3],[4,6,8]],[[5,9,7],[6,4,7]]])\r\n",
    "for x in np.nditer(arr):  # nditer eases the function used by for loops for iteration to get scalar elements\r\n",
    "    print(x)"
   ],
   "outputs": [
    {
     "output_type": "stream",
     "name": "stdout",
     "text": [
      "1\n",
      "2\n",
      "3\n",
      "4\n",
      "6\n",
      "8\n",
      "5\n",
      "9\n",
      "7\n",
      "6\n",
      "4\n",
      "7\n"
     ]
    }
   ],
   "metadata": {}
  },
  {
   "cell_type": "code",
   "execution_count": 5,
   "source": [
    "import numpy as np\r\n",
    "\r\n",
    "arr1 = np.array([1, 2, 3])  #to join the two array, use concatenate  for 1D array\r\n",
    "\r\n",
    "arr2 = np.array([4, 5, 6])\r\n",
    "\r\n",
    "arr = np.concatenate((arr1, arr2))\r\n",
    "\r\n",
    "print(arr) "
   ],
   "outputs": [
    {
     "output_type": "stream",
     "name": "stdout",
     "text": [
      "[1 2 3 4 5 6]\n"
     ]
    }
   ],
   "metadata": {}
  },
  {
   "cell_type": "code",
   "execution_count": 6,
   "source": [
    "arr1 = np.array([[1,2,3],[6,5,8]])\r\n",
    "arr2 = np.array([[5,4,7],[6,7,1]])\r\n",
    "arr = np.concatenate((arr1,arr2), axis = 1) # joining for 2D array\r\n",
    "arr"
   ],
   "outputs": [
    {
     "output_type": "execute_result",
     "data": {
      "text/plain": [
       "array([[1, 2, 3, 5, 4, 7],\n",
       "       [6, 5, 8, 6, 7, 1]])"
      ]
     },
     "metadata": {},
     "execution_count": 6
    }
   ],
   "metadata": {}
  },
  {
   "cell_type": "code",
   "execution_count": 9,
   "source": [
    "import numpy as np\r\n",
    "arr1 = np.array([2,5,6])    #stacking is same as concatenation but has some other functions as well\r\n",
    "arr2 = np.array([6,7,3])\r\n",
    "arr = np.stack((arr1,arr2), axis= 1) #stacking is done along a new axis \r\n",
    "arr"
   ],
   "outputs": [
    {
     "output_type": "execute_result",
     "data": {
      "text/plain": [
       "array([[2, 6],\n",
       "       [5, 7],\n",
       "       [6, 3]])"
      ]
     },
     "metadata": {},
     "execution_count": 9
    }
   ],
   "metadata": {}
  },
  {
   "cell_type": "code",
   "execution_count": 10,
   "source": [
    "arr1 = np.array([1,2,3])\r\n",
    "arr2 = np.array([6,5,8])\r\n",
    "arr = np.hstack((arr1,arr2))  #stacking by rows\r\n",
    "arr"
   ],
   "outputs": [
    {
     "output_type": "execute_result",
     "data": {
      "text/plain": [
       "array([1, 2, 3, 6, 5, 8])"
      ]
     },
     "metadata": {},
     "execution_count": 10
    }
   ],
   "metadata": {}
  },
  {
   "cell_type": "code",
   "execution_count": 11,
   "source": [
    "arr1 = np.array([1,5,3])\r\n",
    "arr2 = np.array([5,8,9])\r\n",
    "arr = np.vstack((arr1,arr2))  #stacking by column (vertical)\r\n",
    "arr"
   ],
   "outputs": [
    {
     "output_type": "execute_result",
     "data": {
      "text/plain": [
       "array([[1, 5, 3],\n",
       "       [5, 8, 9]])"
      ]
     },
     "metadata": {},
     "execution_count": 11
    }
   ],
   "metadata": {}
  },
  {
   "cell_type": "code",
   "execution_count": 12,
   "source": [
    "arr1 = np.array([5,9,3])\r\n",
    "arr2 = np.array([9,3,4])\r\n",
    "arr = np.dstack((arr1,arr2)) # stacking by depth\r\n",
    "arr"
   ],
   "outputs": [
    {
     "output_type": "execute_result",
     "data": {
      "text/plain": [
       "array([[[5, 9],\n",
       "        [9, 3],\n",
       "        [3, 4]]])"
      ]
     },
     "metadata": {},
     "execution_count": 12
    }
   ],
   "metadata": {}
  },
  {
   "cell_type": "code",
   "execution_count": 19,
   "source": [
    "arr1 = np.array([1,6,4,8,7,3,5,6])\r\n",
    "arr = np.array_split(arr1, 3)  # splitting the array into the split number u want\r\n",
    "print(arr)\r\n",
    "arr[1]"
   ],
   "outputs": [
    {
     "output_type": "stream",
     "name": "stdout",
     "text": [
      "[array([1, 6, 4]), array([8, 7, 3]), array([5, 6])]\n"
     ]
    },
    {
     "output_type": "execute_result",
     "data": {
      "text/plain": [
       "array([8, 7, 3])"
      ]
     },
     "metadata": {},
     "execution_count": 19
    }
   ],
   "metadata": {}
  },
  {
   "cell_type": "code",
   "execution_count": 15,
   "source": [
    "arr = np.array_split(arr1, 5)\r\n",
    "arr"
   ],
   "outputs": [
    {
     "output_type": "execute_result",
     "data": {
      "text/plain": [
       "[array([1, 6]), array([4, 8]), array([7, 3]), array([5]), array([6])]"
      ]
     },
     "metadata": {},
     "execution_count": 15
    }
   ],
   "metadata": {}
  },
  {
   "cell_type": "code",
   "execution_count": 20,
   "source": [
    "arr = np.array([[1,2,6],[5,4,6],[9,6,4],[3,7,6]])\r\n",
    "newarr = np.array_split(arr, 3)\r\n",
    "newarr"
   ],
   "outputs": [
    {
     "output_type": "execute_result",
     "data": {
      "text/plain": [
       "[array([[1, 2, 6],\n",
       "        [5, 4, 6]]),\n",
       " array([[9, 6, 4]]),\n",
       " array([[3, 7, 6]])]"
      ]
     },
     "metadata": {},
     "execution_count": 20
    }
   ],
   "metadata": {}
  },
  {
   "cell_type": "code",
   "execution_count": 21,
   "source": [
    "arr = np.array([[1,2,6],[5,4,6],[9,6,4],[3,7,6]])\r\n",
    "newarr = np.hsplit(arr, 3)\r\n",
    "newarr"
   ],
   "outputs": [
    {
     "output_type": "execute_result",
     "data": {
      "text/plain": [
       "[array([[1],\n",
       "        [5],\n",
       "        [9],\n",
       "        [3]]),\n",
       " array([[2],\n",
       "        [4],\n",
       "        [6],\n",
       "        [7]]),\n",
       " array([[6],\n",
       "        [6],\n",
       "        [4],\n",
       "        [6]])]"
      ]
     },
     "metadata": {},
     "execution_count": 21
    }
   ],
   "metadata": {}
  },
  {
   "cell_type": "code",
   "execution_count": 23,
   "source": [
    "arr = np.array([\r\n",
    "               [1,2,3,4,5,6],\r\n",
    "               [2,3,4,5,6,7],\r\n",
    "               [3,6,7,8,9,8]])\r\n",
    "rr.shape"
   ],
   "outputs": [
    {
     "output_type": "execute_result",
     "data": {
      "text/plain": [
       "(3, 6)"
      ]
     },
     "metadata": {},
     "execution_count": 23
    }
   ],
   "metadata": {}
  },
  {
   "cell_type": "code",
   "execution_count": 25,
   "source": [
    "arr[:, 2]  #first row and 3rd colum selected"
   ],
   "outputs": [
    {
     "output_type": "execute_result",
     "data": {
      "text/plain": [
       "array([3, 4, 7])"
      ]
     },
     "metadata": {},
     "execution_count": 25
    }
   ],
   "metadata": {}
  },
  {
   "cell_type": "code",
   "execution_count": 26,
   "source": [
    "arr[1:, 4] #1st row is deducted"
   ],
   "outputs": [
    {
     "output_type": "execute_result",
     "data": {
      "text/plain": [
       "array([6, 9])"
      ]
     },
     "metadata": {},
     "execution_count": 26
    }
   ],
   "metadata": {}
  },
  {
   "cell_type": "code",
   "execution_count": 27,
   "source": [
    "arr[1,:]"
   ],
   "outputs": [
    {
     "output_type": "execute_result",
     "data": {
      "text/plain": [
       "array([2, 3, 4, 5, 6, 7])"
      ]
     },
     "metadata": {},
     "execution_count": 27
    }
   ],
   "metadata": {}
  },
  {
   "cell_type": "code",
   "execution_count": 28,
   "source": [
    "arr"
   ],
   "outputs": [
    {
     "output_type": "execute_result",
     "data": {
      "text/plain": [
       "array([[1, 2, 3, 4, 5, 6],\n",
       "       [2, 3, 4, 5, 6, 7],\n",
       "       [3, 6, 7, 8, 9, 8]])"
      ]
     },
     "metadata": {},
     "execution_count": 28
    }
   ],
   "metadata": {}
  },
  {
   "cell_type": "code",
   "execution_count": 29,
   "source": [
    "arr[:,1] = [9,2,6]\r\n",
    "arr"
   ],
   "outputs": [
    {
     "output_type": "execute_result",
     "data": {
      "text/plain": [
       "array([[1, 9, 3, 4, 5, 6],\n",
       "       [2, 2, 4, 5, 6, 7],\n",
       "       [3, 6, 7, 8, 9, 8]])"
      ]
     },
     "metadata": {},
     "execution_count": 29
    }
   ],
   "metadata": {}
  },
  {
   "cell_type": "code",
   "execution_count": 31,
   "source": [
    "arr[:, 0] = [2,3,4,5,6,7]\r\n",
    "arr"
   ],
   "outputs": [
    {
     "output_type": "error",
     "ename": "ValueError",
     "evalue": "could not broadcast input array from shape (6,) into shape (3,)",
     "traceback": [
      "\u001b[1;31m---------------------------------------------------------------------------\u001b[0m",
      "\u001b[1;31mValueError\u001b[0m                                Traceback (most recent call last)",
      "\u001b[1;32m~\\AppData\\Local\\Temp/ipykernel_3412/3772894801.py\u001b[0m in \u001b[0;36m<module>\u001b[1;34m\u001b[0m\n\u001b[1;32m----> 1\u001b[1;33m \u001b[0marr\u001b[0m\u001b[1;33m[\u001b[0m\u001b[1;33m:\u001b[0m\u001b[1;33m,\u001b[0m\u001b[1;36m1\u001b[0m\u001b[1;33m]\u001b[0m \u001b[1;33m=\u001b[0m \u001b[1;33m[\u001b[0m\u001b[1;36m2\u001b[0m\u001b[1;33m,\u001b[0m\u001b[1;36m3\u001b[0m\u001b[1;33m,\u001b[0m\u001b[1;36m4\u001b[0m\u001b[1;33m,\u001b[0m\u001b[1;36m5\u001b[0m\u001b[1;33m,\u001b[0m\u001b[1;36m6\u001b[0m\u001b[1;33m,\u001b[0m\u001b[1;36m7\u001b[0m\u001b[1;33m]\u001b[0m\u001b[1;33m\u001b[0m\u001b[1;33m\u001b[0m\u001b[0m\n\u001b[0m\u001b[0;32m      2\u001b[0m \u001b[0marr\u001b[0m\u001b[1;33m\u001b[0m\u001b[1;33m\u001b[0m\u001b[0m\n",
      "\u001b[1;31mValueError\u001b[0m: could not broadcast input array from shape (6,) into shape (3,)"
     ]
    }
   ],
   "metadata": {}
  }
 ],
 "metadata": {
  "orig_nbformat": 4,
  "language_info": {
   "name": "python",
   "version": "3.9.5",
   "mimetype": "text/x-python",
   "codemirror_mode": {
    "name": "ipython",
    "version": 3
   },
   "pygments_lexer": "ipython3",
   "nbconvert_exporter": "python",
   "file_extension": ".py"
  },
  "kernelspec": {
   "name": "python3",
   "display_name": "Python 3.9.5 64-bit"
  },
  "interpreter": {
   "hash": "247ab06e135bb35fa78c5eff31b2a9a0050dcb5fb773c2631d2a29ac689eeccb"
  }
 },
 "nbformat": 4,
 "nbformat_minor": 2
}